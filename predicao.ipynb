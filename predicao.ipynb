{
 "cells": [
  {
   "cell_type": "markdown",
   "metadata": {},
   "source": [
    "# Treinamento"
   ]
  },
  {
   "cell_type": "markdown",
   "metadata": {},
   "source": [
    "## Inicialização"
   ]
  },
  {
   "cell_type": "code",
   "execution_count": 4,
   "metadata": {},
   "outputs": [],
   "source": [
    "# Config Inicial\n",
    "import json\n",
    "import mlflow.pyfunc\n",
    "import shutil\n",
    "import pandas as pd\n",
    "import requests\n",
    "from sklearn.metrics import r2_score\n",
    "import mlflow\n",
    "from mlflow.tracking import MlflowClient\n",
    "\n",
    "import os\n",
    "import signal\n",
    "import subprocess\n"
   ]
  },
  {
   "cell_type": "markdown",
   "metadata": {},
   "source": [
    "### Leitura"
   ]
  },
  {
   "cell_type": "code",
   "execution_count": 5,
   "metadata": {},
   "outputs": [
    {
     "data": {
      "text/html": [
       "<div>\n",
       "<style scoped>\n",
       "    .dataframe tbody tr th:only-of-type {\n",
       "        vertical-align: middle;\n",
       "    }\n",
       "\n",
       "    .dataframe tbody tr th {\n",
       "        vertical-align: top;\n",
       "    }\n",
       "\n",
       "    .dataframe thead th {\n",
       "        text-align: right;\n",
       "    }\n",
       "</style>\n",
       "<table border=\"1\" class=\"dataframe\">\n",
       "  <thead>\n",
       "    <tr style=\"text-align: right;\">\n",
       "      <th></th>\n",
       "      <th>id</th>\n",
       "      <th>property_type</th>\n",
       "      <th>state</th>\n",
       "      <th>region</th>\n",
       "      <th>lat</th>\n",
       "      <th>lon</th>\n",
       "      <th>area_m2</th>\n",
       "      <th>price_brl</th>\n",
       "      <th>city</th>\n",
       "    </tr>\n",
       "  </thead>\n",
       "  <tbody>\n",
       "    <tr>\n",
       "      <th>0</th>\n",
       "      <td>1.0</td>\n",
       "      <td>apartment</td>\n",
       "      <td>Pernambuco</td>\n",
       "      <td>Northeast</td>\n",
       "      <td>-8.134204</td>\n",
       "      <td>-34.906326</td>\n",
       "      <td>72.0</td>\n",
       "      <td>414222.98</td>\n",
       "      <td>Recife</td>\n",
       "    </tr>\n",
       "    <tr>\n",
       "      <th>1</th>\n",
       "      <td>2.0</td>\n",
       "      <td>apartment</td>\n",
       "      <td>Pernambuco</td>\n",
       "      <td>Northeast</td>\n",
       "      <td>-8.126664</td>\n",
       "      <td>-34.903924</td>\n",
       "      <td>136.0</td>\n",
       "      <td>848408.53</td>\n",
       "      <td>Recife</td>\n",
       "    </tr>\n",
       "    <tr>\n",
       "      <th>2</th>\n",
       "      <td>3.0</td>\n",
       "      <td>apartment</td>\n",
       "      <td>Pernambuco</td>\n",
       "      <td>Northeast</td>\n",
       "      <td>-8.125550</td>\n",
       "      <td>-34.907601</td>\n",
       "      <td>75.0</td>\n",
       "      <td>299438.28</td>\n",
       "      <td>Recife</td>\n",
       "    </tr>\n",
       "    <tr>\n",
       "      <th>3</th>\n",
       "      <td>4.0</td>\n",
       "      <td>apartment</td>\n",
       "      <td>Pernambuco</td>\n",
       "      <td>Northeast</td>\n",
       "      <td>-8.120249</td>\n",
       "      <td>-34.895920</td>\n",
       "      <td>187.0</td>\n",
       "      <td>848408.53</td>\n",
       "      <td>Recife</td>\n",
       "    </tr>\n",
       "    <tr>\n",
       "      <th>4</th>\n",
       "      <td>5.0</td>\n",
       "      <td>apartment</td>\n",
       "      <td>Pernambuco</td>\n",
       "      <td>Northeast</td>\n",
       "      <td>-8.142666</td>\n",
       "      <td>-34.906906</td>\n",
       "      <td>80.0</td>\n",
       "      <td>464129.36</td>\n",
       "      <td>Recife</td>\n",
       "    </tr>\n",
       "  </tbody>\n",
       "</table>\n",
       "</div>"
      ],
      "text/plain": [
       "    id property_type       state     region       lat        lon  area_m2  \\\n",
       "0  1.0     apartment  Pernambuco  Northeast -8.134204 -34.906326     72.0   \n",
       "1  2.0     apartment  Pernambuco  Northeast -8.126664 -34.903924    136.0   \n",
       "2  3.0     apartment  Pernambuco  Northeast -8.125550 -34.907601     75.0   \n",
       "3  4.0     apartment  Pernambuco  Northeast -8.120249 -34.895920    187.0   \n",
       "4  5.0     apartment  Pernambuco  Northeast -8.142666 -34.906906     80.0   \n",
       "\n",
       "   price_brl    city  \n",
       "0  414222.98  Recife  \n",
       "1  848408.53  Recife  \n",
       "2  299438.28  Recife  \n",
       "3  848408.53  Recife  \n",
       "4  464129.36  Recife  "
      ]
     },
     "execution_count": 5,
     "metadata": {},
     "output_type": "execute_result"
    }
   ],
   "source": [
    "# Descomentar, quando quiser carregar para o treinamento, dados originais defasados para primeira execução do treinamento\n",
    "#shutil.copyfile(\"dataset/brasil_estado_cidade.csv\", \"dataset/dados_treinamento.csv\")\n",
    "\n",
    "# Carregar o conjunto de dados\n",
    "df_treinamento = pd.read_csv(\"dataset/dados_treinamento.csv\", encoding=\"utf-8\")\n",
    "\n",
    "# Eliminando registros com valores null\n",
    "df_treinamento.dropna(inplace=True)\n",
    "\n",
    "# float64\n",
    "df_treinamento = df_treinamento.astype({col: 'float64' for col in df_treinamento.select_dtypes(include='int').columns})\n",
    "\n",
    "df_treinamento.head()"
   ]
  },
  {
   "cell_type": "code",
   "execution_count": 12,
   "metadata": {},
   "outputs": [
    {
     "data": {
      "text/plain": [
       "<Experiment: artifact_location='/app/mlruns/1', creation_time=1744227466344, experiment_id='1', last_update_time=1744227466344, lifecycle_stage='active', name='ecd15', tags={}>"
      ]
     },
     "execution_count": 12,
     "metadata": {},
     "output_type": "execute_result"
    }
   ],
   "source": [
    "mlflow.set_tracking_uri(\"sqlite:///mlflow.db\")\n",
    "\n",
    "mlflow.set_experiment(\"ecd15\")"
   ]
  },
  {
   "cell_type": "markdown",
   "metadata": {},
   "source": [
    "### Amostragem"
   ]
  },
  {
   "cell_type": "code",
   "execution_count": 6,
   "metadata": {},
   "outputs": [
    {
     "data": {
      "text/html": [
       "<div>\n",
       "<style scoped>\n",
       "    .dataframe tbody tr th:only-of-type {\n",
       "        vertical-align: middle;\n",
       "    }\n",
       "\n",
       "    .dataframe tbody tr th {\n",
       "        vertical-align: top;\n",
       "    }\n",
       "\n",
       "    .dataframe thead th {\n",
       "        text-align: right;\n",
       "    }\n",
       "</style>\n",
       "<table border=\"1\" class=\"dataframe\">\n",
       "  <thead>\n",
       "    <tr style=\"text-align: right;\">\n",
       "      <th></th>\n",
       "      <th>id</th>\n",
       "      <th>property_type</th>\n",
       "      <th>state</th>\n",
       "      <th>region</th>\n",
       "      <th>lat</th>\n",
       "      <th>lon</th>\n",
       "      <th>area_m2</th>\n",
       "      <th>price_brl</th>\n",
       "      <th>city</th>\n",
       "    </tr>\n",
       "  </thead>\n",
       "  <tbody>\n",
       "    <tr>\n",
       "      <th>3823</th>\n",
       "      <td>3824.0</td>\n",
       "      <td>apartment</td>\n",
       "      <td>Rio de Janeiro</td>\n",
       "      <td>Southeast</td>\n",
       "      <td>-22.930788</td>\n",
       "      <td>-43.355751</td>\n",
       "      <td>62.0</td>\n",
       "      <td>419213.60</td>\n",
       "      <td>Rio de Janeiro</td>\n",
       "    </tr>\n",
       "    <tr>\n",
       "      <th>376</th>\n",
       "      <td>377.0</td>\n",
       "      <td>apartment</td>\n",
       "      <td>Piau</td>\n",
       "      <td>Northeast</td>\n",
       "      <td>-5.064457</td>\n",
       "      <td>-42.792750</td>\n",
       "      <td>60.0</td>\n",
       "      <td>319400.84</td>\n",
       "      <td>Teresina</td>\n",
       "    </tr>\n",
       "    <tr>\n",
       "      <th>5473</th>\n",
       "      <td>5474.0</td>\n",
       "      <td>apartment</td>\n",
       "      <td>Rio de Janeiro</td>\n",
       "      <td>Southeast</td>\n",
       "      <td>-22.933163</td>\n",
       "      <td>-43.174660</td>\n",
       "      <td>78.0</td>\n",
       "      <td>1287584.69</td>\n",
       "      <td>Rio de Janeiro</td>\n",
       "    </tr>\n",
       "    <tr>\n",
       "      <th>2282</th>\n",
       "      <td>2283.0</td>\n",
       "      <td>apartment</td>\n",
       "      <td>Rio Grande do Sul</td>\n",
       "      <td>South</td>\n",
       "      <td>-30.037640</td>\n",
       "      <td>-51.189133</td>\n",
       "      <td>104.0</td>\n",
       "      <td>726908.65</td>\n",
       "      <td>Porto Alegre</td>\n",
       "    </tr>\n",
       "    <tr>\n",
       "      <th>980</th>\n",
       "      <td>981.0</td>\n",
       "      <td>apartment</td>\n",
       "      <td>Rio Grande do Sul</td>\n",
       "      <td>South</td>\n",
       "      <td>-30.080242</td>\n",
       "      <td>-51.225227</td>\n",
       "      <td>60.0</td>\n",
       "      <td>494701.71</td>\n",
       "      <td>Porto Alegre</td>\n",
       "    </tr>\n",
       "  </tbody>\n",
       "</table>\n",
       "</div>"
      ],
      "text/plain": [
       "          id property_type              state     region        lat  \\\n",
       "3823  3824.0     apartment     Rio de Janeiro  Southeast -22.930788   \n",
       "376    377.0     apartment              Piau  Northeast  -5.064457   \n",
       "5473  5474.0     apartment     Rio de Janeiro  Southeast -22.933163   \n",
       "2282  2283.0     apartment  Rio Grande do Sul      South -30.037640   \n",
       "980    981.0     apartment  Rio Grande do Sul      South -30.080242   \n",
       "\n",
       "            lon  area_m2   price_brl            city  \n",
       "3823 -43.355751     62.0   419213.60  Rio de Janeiro  \n",
       "376  -42.792750     60.0   319400.84        Teresina  \n",
       "5473 -43.174660     78.0  1287584.69  Rio de Janeiro  \n",
       "2282 -51.189133    104.0   726908.65    Porto Alegre  \n",
       "980  -51.225227     60.0   494701.71    Porto Alegre  "
      ]
     },
     "execution_count": 6,
     "metadata": {},
     "output_type": "execute_result"
    }
   ],
   "source": [
    "# amostra\n",
    "df_sample = df_treinamento.sample(n=20, random_state=42)\n",
    "\n",
    "x_features = df_sample.drop([\"price_brl\"], axis=1)  # Features\n",
    "y_target = df_sample[\"price_brl\"]  # Variável alvo\n",
    "\n",
    "df_sample.head()"
   ]
  },
  {
   "cell_type": "code",
   "execution_count": 7,
   "metadata": {},
   "outputs": [],
   "source": [
    "# Gerando o JSON no formato esperado pelo MLflow Serve\n",
    "dados = {\"instances\": x_features.to_dict(orient=\"records\")}\n",
    "json_data = json.dumps(dados)"
   ]
  },
  {
   "cell_type": "code",
   "execution_count": 8,
   "metadata": {},
   "outputs": [
    {
     "name": "stdout",
     "output_type": "stream",
     "text": [
      "HTTP STATUS 200\n"
     ]
    }
   ],
   "source": [
    "previsao = requests.post(\n",
    "    \"http://localhost:5000/invocations\",\n",
    "    headers={\"Content-Type\": \"application/json\"},\n",
    "    data=json_data\n",
    ")\n",
    "print(\"HTTP STATUS\", previsao.status_code)"
   ]
  },
  {
   "cell_type": "code",
   "execution_count": 9,
   "metadata": {},
   "outputs": [
    {
     "data": {
      "text/plain": [
       "'{\"predictions\": [348099.1875, 314764.6875, 963706.625, 730391.0, 330280.34375, 604923.6875, 1018210.0625, 668755.375, 1182253.375, 1222384.375, 798778.8125, 1070625.5, 355035.8125, 863029.625, 542877.5625, 1041795.375, 491103.1875, 373186.9375, 512069.875, 270661.0625]}'"
      ]
     },
     "execution_count": 9,
     "metadata": {},
     "output_type": "execute_result"
    }
   ],
   "source": [
    "previsao.text"
   ]
  },
  {
   "cell_type": "markdown",
   "metadata": {},
   "source": [
    "### Carregar e identificar o melhor modelo treinado"
   ]
  },
  {
   "cell_type": "code",
   "execution_count": 18,
   "metadata": {},
   "outputs": [
    {
     "name": "stdout",
     "output_type": "stream",
     "text": [
      "Modelo 'decision_tree_model' versão 18 da run 88789935de484b43916704449fb77e0c com R² = 0.44289446310468705\n",
      "Modelo 'decision_tree_model' versão 17 da run 962f91ae541f4ed6a3972de016d6613b com R² = 0.4501405374386255\n",
      "Modelo 'decision_tree_model' versão 16 da run 846e8ac3b20c422e982074560821e911 com R² = 0.4662427582353449\n",
      "Modelo 'decision_tree_model' versão 15 da run 8b0a5172c432444cb883adf49ed2bb84 com R² = 0.4342869398037643\n",
      "Modelo 'decision_tree_model' versão 14 da run e680e9fc3ccf405cbe7d29b826358fb3 com R² = 0.4688968380333659\n",
      "Modelo 'decision_tree_model' versão 13 da run dabc095015ff4575a259c3ff4c725f81 com R² = 0.4607357460145043\n",
      "Modelo 'decision_tree_model' versão 12 da run f6e906ad63434883926be9a30bb3be3e com R² = 0.47475884579582217\n",
      "Modelo 'decision_tree_model' versão 11 da run 99e8b55cc86645428d2ecfc3653ffffb com R² = 0.4839914622045445\n",
      "Modelo 'decision_tree_model' versão 10 da run c5154ffa6520423da2e3f63fa54c78a9 com R² = 0.4643648515387715\n",
      "Modelo 'decision_tree_model' versão 9 da run 5090f695c6e3412c9704b31968bc85dd com R² = 0.44289446310468705\n",
      "Modelo 'decision_tree_model' versão 8 da run 9b1c0e7ea03a46ac8dd572ced16afe26 com R² = 0.4501405374386255\n",
      "Modelo 'decision_tree_model' versão 7 da run 21a4c3bfbf55484482615299781dc5e5 com R² = 0.4662427582353449\n",
      "Modelo 'decision_tree_model' versão 6 da run 5a8d63f3ec5d4c34840485527147ee10 com R² = 0.4342869398037643\n",
      "Modelo 'decision_tree_model' versão 5 da run ff61c74bcea3410db1c670efa88982f4 com R² = 0.4688968380333659\n",
      "Modelo 'decision_tree_model' versão 4 da run e8f6b010e9b64f9c8fee029cbee8f410 com R² = 0.4607357460145043\n",
      "Modelo 'decision_tree_model' versão 3 da run 1db56d2239954f6ab6acf5d25b5068ad com R² = 0.47475884579582217\n",
      "Modelo 'decision_tree_model' versão 2 da run b0c20c5e80224e82bd506916f7cca828 com R² = 0.4839914622045445\n",
      "Modelo 'decision_tree_model' versão 1 da run dbefe68de71b4eb0b38845208ab6a022 com R² = 0.4643648515387715\n",
      "Modelo 'decision_tree_model' versão 18 da run 88789935de484b43916704449fb77e0c com R² = 0.44289446310468705\n",
      "Modelo 'decision_tree_model' versão 17 da run 962f91ae541f4ed6a3972de016d6613b com R² = 0.4501405374386255\n",
      "Modelo 'decision_tree_model' versão 16 da run 846e8ac3b20c422e982074560821e911 com R² = 0.4662427582353449\n",
      "Modelo 'decision_tree_model' versão 15 da run 8b0a5172c432444cb883adf49ed2bb84 com R² = 0.4342869398037643\n",
      "Modelo 'decision_tree_model' versão 14 da run e680e9fc3ccf405cbe7d29b826358fb3 com R² = 0.4688968380333659\n",
      "Modelo 'decision_tree_model' versão 13 da run dabc095015ff4575a259c3ff4c725f81 com R² = 0.4607357460145043\n",
      "Modelo 'decision_tree_model' versão 12 da run f6e906ad63434883926be9a30bb3be3e com R² = 0.47475884579582217\n",
      "Modelo 'decision_tree_model' versão 11 da run 99e8b55cc86645428d2ecfc3653ffffb com R² = 0.4839914622045445\n",
      "Modelo 'decision_tree_model' versão 10 da run c5154ffa6520423da2e3f63fa54c78a9 com R² = 0.4643648515387715\n",
      "Modelo 'decision_tree_model' versão 9 da run 5090f695c6e3412c9704b31968bc85dd com R² = 0.44289446310468705\n",
      "Modelo 'decision_tree_model' versão 8 da run 9b1c0e7ea03a46ac8dd572ced16afe26 com R² = 0.4501405374386255\n",
      "Modelo 'decision_tree_model' versão 7 da run 21a4c3bfbf55484482615299781dc5e5 com R² = 0.4662427582353449\n",
      "Modelo 'decision_tree_model' versão 6 da run 5a8d63f3ec5d4c34840485527147ee10 com R² = 0.4342869398037643\n",
      "Modelo 'decision_tree_model' versão 5 da run ff61c74bcea3410db1c670efa88982f4 com R² = 0.4688968380333659\n",
      "Modelo 'decision_tree_model' versão 4 da run e8f6b010e9b64f9c8fee029cbee8f410 com R² = 0.4607357460145043\n",
      "Modelo 'decision_tree_model' versão 3 da run 1db56d2239954f6ab6acf5d25b5068ad com R² = 0.47475884579582217\n",
      "Modelo 'decision_tree_model' versão 2 da run b0c20c5e80224e82bd506916f7cca828 com R² = 0.4839914622045445\n",
      "Modelo 'decision_tree_model' versão 1 da run dbefe68de71b4eb0b38845208ab6a022 com R² = 0.4643648515387715\n",
      "Modelo 'gradient_boosting_model' versão 18 da run e1e19d81f80b4635a5a4294aeac67bb8 com R² = 0.6523843262185738\n",
      "Modelo 'gradient_boosting_model' versão 17 da run 249d43c894e844c2a09c46e1637871dc com R² = 0.6492820401100539\n",
      "Modelo 'gradient_boosting_model' versão 16 da run ce400d51d9be4aa7965915c14ac9195a com R² = 0.6709393751907473\n",
      "Modelo 'gradient_boosting_model' versão 15 da run 25784ef02b2e4814a6f205e2efae036c com R² = 0.656862768494582\n",
      "Modelo 'gradient_boosting_model' versão 14 da run 4b8a0c6cde8f4c3b9a55c39fb05b54dc com R² = 0.6599351198710504\n",
      "Modelo 'gradient_boosting_model' versão 13 da run 24119e4f220547e7b073e2f194a2c0dd com R² = 0.6600230971249696\n",
      "Modelo 'gradient_boosting_model' versão 12 da run c4e3d7d9e0894545885d0c29ce316c65 com R² = 0.6796071604125762\n",
      "Modelo 'gradient_boosting_model' versão 11 da run a919841c1f154e14a5f5b16ddbc0fc78 com R² = 0.6872079997884422\n",
      "Modelo 'gradient_boosting_model' versão 10 da run 4aa915314446425a8de4fb44221ad5c0 com R² = 0.6753892857373056\n",
      "Modelo 'gradient_boosting_model' versão 9 da run 8588c41a083a42afb635a7d98a8fa64a com R² = 0.6523843262185738\n",
      "Modelo 'gradient_boosting_model' versão 8 da run c5528d3e810f49af95ea249493aac15b com R² = 0.6492820401100539\n",
      "Modelo 'gradient_boosting_model' versão 7 da run da8c4474d8ad488fb2edddaa6ea3d440 com R² = 0.6709393751907473\n",
      "Modelo 'gradient_boosting_model' versão 6 da run 3a9a43e99907406797f377ae2e890be4 com R² = 0.656862768494582\n",
      "Modelo 'gradient_boosting_model' versão 5 da run 4479934f174c4962adbfa317f6e40653 com R² = 0.6599351198710504\n",
      "Modelo 'gradient_boosting_model' versão 4 da run bfbb2fd064ec4948a888f5a79731a230 com R² = 0.6600230971249696\n",
      "Modelo 'gradient_boosting_model' versão 3 da run b0ed2b7ae8d84025b5c552e00f68c5f6 com R² = 0.6796071604125762\n",
      "Modelo 'gradient_boosting_model' versão 2 da run 723881a7660b43a497d1aaf328d5b7f3 com R² = 0.6872079997884422\n",
      "Modelo 'gradient_boosting_model' versão 1 da run 82e701351108405d92c9d53573df3e2d com R² = 0.6753892857373056\n",
      "Modelo 'gradient_boosting_model' versão 18 da run e1e19d81f80b4635a5a4294aeac67bb8 com R² = 0.6523843262185738\n",
      "Modelo 'gradient_boosting_model' versão 17 da run 249d43c894e844c2a09c46e1637871dc com R² = 0.6492820401100539\n",
      "Modelo 'gradient_boosting_model' versão 16 da run ce400d51d9be4aa7965915c14ac9195a com R² = 0.6709393751907473\n",
      "Modelo 'gradient_boosting_model' versão 15 da run 25784ef02b2e4814a6f205e2efae036c com R² = 0.656862768494582\n",
      "Modelo 'gradient_boosting_model' versão 14 da run 4b8a0c6cde8f4c3b9a55c39fb05b54dc com R² = 0.6599351198710504\n",
      "Modelo 'gradient_boosting_model' versão 13 da run 24119e4f220547e7b073e2f194a2c0dd com R² = 0.6600230971249696\n",
      "Modelo 'gradient_boosting_model' versão 12 da run c4e3d7d9e0894545885d0c29ce316c65 com R² = 0.6796071604125762\n",
      "Modelo 'gradient_boosting_model' versão 11 da run a919841c1f154e14a5f5b16ddbc0fc78 com R² = 0.6872079997884422\n",
      "Modelo 'gradient_boosting_model' versão 10 da run 4aa915314446425a8de4fb44221ad5c0 com R² = 0.6753892857373056\n",
      "Modelo 'gradient_boosting_model' versão 9 da run 8588c41a083a42afb635a7d98a8fa64a com R² = 0.6523843262185738\n",
      "Modelo 'gradient_boosting_model' versão 8 da run c5528d3e810f49af95ea249493aac15b com R² = 0.6492820401100539\n",
      "Modelo 'gradient_boosting_model' versão 7 da run da8c4474d8ad488fb2edddaa6ea3d440 com R² = 0.6709393751907473\n",
      "Modelo 'gradient_boosting_model' versão 6 da run 3a9a43e99907406797f377ae2e890be4 com R² = 0.656862768494582\n",
      "Modelo 'gradient_boosting_model' versão 5 da run 4479934f174c4962adbfa317f6e40653 com R² = 0.6599351198710504\n",
      "Modelo 'gradient_boosting_model' versão 4 da run bfbb2fd064ec4948a888f5a79731a230 com R² = 0.6600230971249696\n",
      "Modelo 'gradient_boosting_model' versão 3 da run b0ed2b7ae8d84025b5c552e00f68c5f6 com R² = 0.6796071604125762\n",
      "Modelo 'gradient_boosting_model' versão 2 da run 723881a7660b43a497d1aaf328d5b7f3 com R² = 0.6872079997884422\n",
      "Modelo 'gradient_boosting_model' versão 1 da run 82e701351108405d92c9d53573df3e2d com R² = 0.6753892857373056\n",
      "Modelo 'linear_regression_model' versão 18 da run 304cca741edb48dd99b1613e7c17b8f7 com R² = 0.505998121451072\n",
      "Modelo 'linear_regression_model' versão 17 da run 35aec5dcc1a9441c8975a247ea8c28af com R² = 0.5056141153532079\n",
      "Modelo 'linear_regression_model' versão 16 da run 6269552579654a4f99896c5a277454e6 com R² = 0.5147260010464185\n",
      "Modelo 'linear_regression_model' versão 15 da run 1ff7daf3d0cf4ccead3310d7d185d739 com R² = 0.5135398078499168\n",
      "Modelo 'linear_regression_model' versão 14 da run c190433f37fe456e873209460735dcd7 com R² = 0.5201365184228184\n",
      "Modelo 'linear_regression_model' versão 13 da run 71b09d5d712d482b9aa449fc161f655b com R² = 0.5186459601745141\n",
      "Modelo 'linear_regression_model' versão 12 da run b8e0cf41f0f9482f876ebcabe8218d25 com R² = 0.5307410902454659\n",
      "Modelo 'linear_regression_model' versão 11 da run b1ff00d9c28d452d949c70e4fabfc137 com R² = 0.545227078275053\n",
      "Modelo 'linear_regression_model' versão 10 da run 3e9a31ecf78c42bf9578a58114c82a97 com R² = 0.5319998609827157\n",
      "Modelo 'linear_regression_model' versão 9 da run e53d2adc66c24aeebd8ef8a352ab2103 com R² = 0.505998121451072\n",
      "Modelo 'linear_regression_model' versão 8 da run 632d1867651d4b158bc424a8337fe5c0 com R² = 0.5056141153532079\n",
      "Modelo 'linear_regression_model' versão 7 da run 7c7cf6dd5601471080f60643a9eaf90e com R² = 0.5147260010464185\n",
      "Modelo 'linear_regression_model' versão 6 da run 8504dab8c55d42b9abd44288e9b46c30 com R² = 0.5135398078499168\n",
      "Modelo 'linear_regression_model' versão 5 da run d99d86fadd9048b695f1af3fd560974a com R² = 0.5201365184228184\n",
      "Modelo 'linear_regression_model' versão 4 da run cfc33b5d8f80475aa95d95fb98c51024 com R² = 0.5186459601745141\n",
      "Modelo 'linear_regression_model' versão 3 da run 45bb0397796b4c2ebc86d7a9cf42984b com R² = 0.5307410902454659\n",
      "Modelo 'linear_regression_model' versão 2 da run 237347df064c4e32bb966c51fdab9f78 com R² = 0.545227078275053\n",
      "Modelo 'linear_regression_model' versão 1 da run 7d1f92552d44499ca51d1818cc70bd1c com R² = 0.5319998609827157\n",
      "Modelo 'linear_regression_model' versão 18 da run 304cca741edb48dd99b1613e7c17b8f7 com R² = 0.505998121451072\n",
      "Modelo 'linear_regression_model' versão 17 da run 35aec5dcc1a9441c8975a247ea8c28af com R² = 0.5056141153532079\n",
      "Modelo 'linear_regression_model' versão 16 da run 6269552579654a4f99896c5a277454e6 com R² = 0.5147260010464185\n",
      "Modelo 'linear_regression_model' versão 15 da run 1ff7daf3d0cf4ccead3310d7d185d739 com R² = 0.5135398078499168\n",
      "Modelo 'linear_regression_model' versão 14 da run c190433f37fe456e873209460735dcd7 com R² = 0.5201365184228184\n",
      "Modelo 'linear_regression_model' versão 13 da run 71b09d5d712d482b9aa449fc161f655b com R² = 0.5186459601745141\n",
      "Modelo 'linear_regression_model' versão 12 da run b8e0cf41f0f9482f876ebcabe8218d25 com R² = 0.5307410902454659\n",
      "Modelo 'linear_regression_model' versão 11 da run b1ff00d9c28d452d949c70e4fabfc137 com R² = 0.545227078275053\n",
      "Modelo 'linear_regression_model' versão 10 da run 3e9a31ecf78c42bf9578a58114c82a97 com R² = 0.5319998609827157\n",
      "Modelo 'linear_regression_model' versão 9 da run e53d2adc66c24aeebd8ef8a352ab2103 com R² = 0.505998121451072\n",
      "Modelo 'linear_regression_model' versão 8 da run 632d1867651d4b158bc424a8337fe5c0 com R² = 0.5056141153532079\n",
      "Modelo 'linear_regression_model' versão 7 da run 7c7cf6dd5601471080f60643a9eaf90e com R² = 0.5147260010464185\n",
      "Modelo 'linear_regression_model' versão 6 da run 8504dab8c55d42b9abd44288e9b46c30 com R² = 0.5135398078499168\n",
      "Modelo 'linear_regression_model' versão 5 da run d99d86fadd9048b695f1af3fd560974a com R² = 0.5201365184228184\n",
      "Modelo 'linear_regression_model' versão 4 da run cfc33b5d8f80475aa95d95fb98c51024 com R² = 0.5186459601745141\n",
      "Modelo 'linear_regression_model' versão 3 da run 45bb0397796b4c2ebc86d7a9cf42984b com R² = 0.5307410902454659\n",
      "Modelo 'linear_regression_model' versão 2 da run 237347df064c4e32bb966c51fdab9f78 com R² = 0.545227078275053\n",
      "Modelo 'linear_regression_model' versão 1 da run 7d1f92552d44499ca51d1818cc70bd1c com R² = 0.5319998609827157\n",
      "Modelo 'random_forest_model' versão 18 da run 59fd1d969685426a8438cd947287e39e com R² = 0.6830974803708945\n",
      "Modelo 'random_forest_model' versão 17 da run 4cce2a79b2a24a2a88d9ab3694235e55 com R² = 0.6829200912087237\n",
      "Modelo 'random_forest_model' versão 16 da run 04b8b81d1c734bc79a9cd651be9fda1a com R² = 0.6942547678310177\n",
      "Modelo 'random_forest_model' versão 15 da run 73476411ce474c5dbdcce11671548a55 com R² = 0.6776453306122765\n",
      "Modelo 'random_forest_model' versão 14 da run aa64fc9d8f17468f95cae2a98dca7998 com R² = 0.6864647853393464\n",
      "Modelo 'random_forest_model' versão 13 da run 0ff42fdd5d7e48c5bef6c50b76ddf072 com R² = 0.6927963568986575\n",
      "Modelo 'random_forest_model' versão 12 da run 39c0d4843efa4d4c99fb9cab32a64062 com R² = 0.6969121638371459\n",
      "Modelo 'random_forest_model' versão 11 da run db5cd79a321044879197ad1177d52d22 com R² = 0.7051748601006242\n",
      "Modelo 'random_forest_model' versão 10 da run b20652a69a11421dbf2735949706537f com R² = 0.6889370111288469\n",
      "Modelo 'random_forest_model' versão 9 da run 89ffccfb4e9b440eb9be7e05e6ce6034 com R² = 0.6830974803708945\n",
      "Modelo 'random_forest_model' versão 8 da run f551d9a47f9e4410a147322f3f42820c com R² = 0.6829200912087237\n",
      "Modelo 'random_forest_model' versão 7 da run 23c06820511b416ea2bb67faa9c366c9 com R² = 0.6942547678310177\n",
      "Modelo 'random_forest_model' versão 6 da run a1e9e3a6d22045babe3dfd929ca7dc77 com R² = 0.6776453306122765\n",
      "Modelo 'random_forest_model' versão 5 da run 48ecdfa1c6f843419478adf573bbf1ab com R² = 0.6864647853393464\n",
      "Modelo 'random_forest_model' versão 4 da run d88b2ff4a8b540a9937eb14211f125e0 com R² = 0.6927963568986575\n",
      "Modelo 'random_forest_model' versão 3 da run a905fa9e96374bfe9a969d497ad7816d com R² = 0.6969121638371459\n",
      "Modelo 'random_forest_model' versão 2 da run e5e4231b7fbf43d99dce3e019af9e692 com R² = 0.7051748601006242\n",
      "Modelo 'random_forest_model' versão 1 da run be6bb50189e849cf8399814e0ba9141d com R² = 0.6889370111288469\n",
      "Modelo 'random_forest_model' versão 18 da run 59fd1d969685426a8438cd947287e39e com R² = 0.6830974803708945\n",
      "Modelo 'random_forest_model' versão 17 da run 4cce2a79b2a24a2a88d9ab3694235e55 com R² = 0.6829200912087237\n",
      "Modelo 'random_forest_model' versão 16 da run 04b8b81d1c734bc79a9cd651be9fda1a com R² = 0.6942547678310177\n",
      "Modelo 'random_forest_model' versão 15 da run 73476411ce474c5dbdcce11671548a55 com R² = 0.6776453306122765\n",
      "Modelo 'random_forest_model' versão 14 da run aa64fc9d8f17468f95cae2a98dca7998 com R² = 0.6864647853393464\n",
      "Modelo 'random_forest_model' versão 13 da run 0ff42fdd5d7e48c5bef6c50b76ddf072 com R² = 0.6927963568986575\n",
      "Modelo 'random_forest_model' versão 12 da run 39c0d4843efa4d4c99fb9cab32a64062 com R² = 0.6969121638371459\n",
      "Modelo 'random_forest_model' versão 11 da run db5cd79a321044879197ad1177d52d22 com R² = 0.7051748601006242\n",
      "Modelo 'random_forest_model' versão 10 da run b20652a69a11421dbf2735949706537f com R² = 0.6889370111288469\n",
      "Modelo 'random_forest_model' versão 9 da run 89ffccfb4e9b440eb9be7e05e6ce6034 com R² = 0.6830974803708945\n",
      "Modelo 'random_forest_model' versão 8 da run f551d9a47f9e4410a147322f3f42820c com R² = 0.6829200912087237\n",
      "Modelo 'random_forest_model' versão 7 da run 23c06820511b416ea2bb67faa9c366c9 com R² = 0.6942547678310177\n",
      "Modelo 'random_forest_model' versão 6 da run a1e9e3a6d22045babe3dfd929ca7dc77 com R² = 0.6776453306122765\n",
      "Modelo 'random_forest_model' versão 5 da run 48ecdfa1c6f843419478adf573bbf1ab com R² = 0.6864647853393464\n",
      "Modelo 'random_forest_model' versão 4 da run d88b2ff4a8b540a9937eb14211f125e0 com R² = 0.6927963568986575\n",
      "Modelo 'random_forest_model' versão 3 da run a905fa9e96374bfe9a969d497ad7816d com R² = 0.6969121638371459\n",
      "Modelo 'random_forest_model' versão 2 da run e5e4231b7fbf43d99dce3e019af9e692 com R² = 0.7051748601006242\n",
      "Modelo 'random_forest_model' versão 1 da run be6bb50189e849cf8399814e0ba9141d com R² = 0.6889370111288469\n",
      "Modelo 'xgboost_model' versão 1 da run 677b3c6aaa854447a22ee8e84ac1d5b4 com R² = 0.6904415768747783\n",
      "Modelo 'xgboost_model' versão 2 da run 1d90fd1a4f094ec383b6a9b502067416 com R² = 0.7128160768989399\n",
      "Modelo 'xgboost_model' versão 3 da run ab729911762946c29c78c43cfe7bd7a1 com R² = 0.7040234028906887\n",
      "Modelo 'xgboost_model' versão 4 da run 90245cfd73e74ae68241189f02e4a933 com R² = 0.7026213088601732\n",
      "Modelo 'xgboost_model' versão 5 da run 9ed262b4e59a48c697b36543c44a00a0 com R² = 0.6980056141375233\n",
      "Modelo 'xgboost_model' versão 6 da run 548a3b639bc24a6bb61171756420d5e7 com R² = 0.6883462328636021\n",
      "Modelo 'xgboost_model' versão 7 da run 2369381fe2504d1496981f27d974de4c com R² = 0.7165948434149507\n",
      "Modelo 'xgboost_model' versão 8 da run 6e5c9e54230d4656a5080a29b2c738e9 com R² = 0.6860089789442159\n",
      "Modelo 'xgboost_model' versão 9 da run adf4ee8f3ed340629de289797711e0c4 com R² = 0.6876703524937664\n",
      "Modelo 'xgboost_model' versão 10 da run 452e025394374ca2b6d7dcb3a6024f03 com R² = 0.6904415768747783\n",
      "Modelo 'xgboost_model' versão 11 da run 98795b82399b4018b0a933202facaa38 com R² = 0.7128160768989399\n",
      "Modelo 'xgboost_model' versão 12 da run 1510b32b771d448f81affe222a700624 com R² = 0.7040234028906887\n",
      "Modelo 'xgboost_model' versão 13 da run a9abb770b02b4c9299eb9b3861690006 com R² = 0.7026213088601732\n",
      "Modelo 'xgboost_model' versão 14 da run 234558832ae04edea69a174136db31c3 com R² = 0.6980056141375233\n",
      "Modelo 'xgboost_model' versão 15 da run 6c33edbf3d9e457eb560de5d7918af9b com R² = 0.6883462328636021\n",
      "Modelo 'xgboost_model' versão 17 da run f7885491e0b84f7580b7e6fff0c44e08 com R² = 0.6860089789442159\n",
      "Modelo 'xgboost_model' versão 18 da run 088b2a250ec140a69c96d0653c640c5f com R² = 0.6876703524937664\n",
      "Modelo 'xgboost_model' versão 16 da run 911716e467284426bcb8dfb77ec62b15 com R² = 0.7165948434149507\n",
      "Modelo 'xgboost_model' versão 1 da run 677b3c6aaa854447a22ee8e84ac1d5b4 com R² = 0.6904415768747783\n",
      "Modelo 'xgboost_model' versão 2 da run 1d90fd1a4f094ec383b6a9b502067416 com R² = 0.7128160768989399\n",
      "Modelo 'xgboost_model' versão 3 da run ab729911762946c29c78c43cfe7bd7a1 com R² = 0.7040234028906887\n",
      "Modelo 'xgboost_model' versão 4 da run 90245cfd73e74ae68241189f02e4a933 com R² = 0.7026213088601732\n",
      "Modelo 'xgboost_model' versão 5 da run 9ed262b4e59a48c697b36543c44a00a0 com R² = 0.6980056141375233\n",
      "Modelo 'xgboost_model' versão 6 da run 548a3b639bc24a6bb61171756420d5e7 com R² = 0.6883462328636021\n",
      "Modelo 'xgboost_model' versão 7 da run 2369381fe2504d1496981f27d974de4c com R² = 0.7165948434149507\n",
      "Modelo 'xgboost_model' versão 8 da run 6e5c9e54230d4656a5080a29b2c738e9 com R² = 0.6860089789442159\n",
      "Modelo 'xgboost_model' versão 9 da run adf4ee8f3ed340629de289797711e0c4 com R² = 0.6876703524937664\n",
      "Modelo 'xgboost_model' versão 10 da run 452e025394374ca2b6d7dcb3a6024f03 com R² = 0.6904415768747783\n",
      "Modelo 'xgboost_model' versão 11 da run 98795b82399b4018b0a933202facaa38 com R² = 0.7128160768989399\n",
      "Modelo 'xgboost_model' versão 12 da run 1510b32b771d448f81affe222a700624 com R² = 0.7040234028906887\n",
      "Modelo 'xgboost_model' versão 13 da run a9abb770b02b4c9299eb9b3861690006 com R² = 0.7026213088601732\n",
      "Modelo 'xgboost_model' versão 14 da run 234558832ae04edea69a174136db31c3 com R² = 0.6980056141375233\n",
      "Modelo 'xgboost_model' versão 15 da run 6c33edbf3d9e457eb560de5d7918af9b com R² = 0.6883462328636021\n",
      "Modelo 'xgboost_model' versão 17 da run f7885491e0b84f7580b7e6fff0c44e08 com R² = 0.6860089789442159\n",
      "Modelo 'xgboost_model' versão 18 da run 088b2a250ec140a69c96d0653c640c5f com R² = 0.6876703524937664\n",
      "Modelo 'xgboost_model' versão 16 da run 911716e467284426bcb8dfb77ec62b15 com R² = 0.7165948434149507\n",
      "Carregando modelo 'xgboost_model' versão 7 da run 2369381fe2504d1496981f27d974de4c com R² = 0.7166\n",
      "Modelo API 'xgboost_model' versão 16 da run 911716e467284426bcb8dfb77ec62b15 com R² = 0.7166\n"
     ]
    },
    {
     "ename": "OSError",
     "evalue": "No such file or directory: '/app/mlruns/1/2369381fe2504d1496981f27d974de4c/artifacts/xgboost_model'",
     "output_type": "error",
     "traceback": [
      "\u001b[0;31m---------------------------------------------------------------------------\u001b[0m",
      "\u001b[0;31mOSError\u001b[0m                                   Traceback (most recent call last)",
      "Cell \u001b[0;32mIn[18], line 91\u001b[0m\n\u001b[1;32m     87\u001b[0m     \u001b[38;5;28;01mreturn\u001b[39;00m modelo_carregado, melhor_modelo, modelo_api\n\u001b[1;32m     90\u001b[0m \u001b[38;5;66;03m# Carregando modelo com melhor R2 \u001b[39;00m\n\u001b[0;32m---> 91\u001b[0m loaded_model, melhor_modelo, modelo_api \u001b[38;5;241m=\u001b[39m \u001b[43mcarregar_modelo_com_melhor_r2\u001b[49m\u001b[43m(\u001b[49m\u001b[38;5;124;43m\"\u001b[39;49m\u001b[38;5;124;43mecd15\u001b[39;49m\u001b[38;5;124;43m\"\u001b[39;49m\u001b[43m)\u001b[49m\n\u001b[1;32m     93\u001b[0m melhor_modelo, modelo_api\n",
      "Cell \u001b[0;32mIn[18], line 85\u001b[0m, in \u001b[0;36mcarregar_modelo_com_melhor_r2\u001b[0;34m(experimento_nome)\u001b[0m\n\u001b[1;32m     81\u001b[0m \u001b[38;5;28mprint\u001b[39m(\u001b[38;5;124mf\u001b[39m\u001b[38;5;124m\"\u001b[39m\u001b[38;5;124mCarregando modelo \u001b[39m\u001b[38;5;124m'\u001b[39m\u001b[38;5;132;01m{\u001b[39;00mmelhor_modelo[\u001b[38;5;124m'\u001b[39m\u001b[38;5;124mnome_modelo\u001b[39m\u001b[38;5;124m'\u001b[39m]\u001b[38;5;132;01m}\u001b[39;00m\u001b[38;5;124m'\u001b[39m\u001b[38;5;124m versão \u001b[39m\u001b[38;5;132;01m{\u001b[39;00mmelhor_modelo[\u001b[38;5;124m'\u001b[39m\u001b[38;5;124mversao_modelo\u001b[39m\u001b[38;5;124m'\u001b[39m]\u001b[38;5;132;01m}\u001b[39;00m\u001b[38;5;124m da run \u001b[39m\u001b[38;5;132;01m{\u001b[39;00mmelhor_modelo[\u001b[38;5;124m'\u001b[39m\u001b[38;5;124mrun_id\u001b[39m\u001b[38;5;124m'\u001b[39m]\u001b[38;5;132;01m}\u001b[39;00m\u001b[38;5;124m com R² = \u001b[39m\u001b[38;5;132;01m{\u001b[39;00mmelhor_modelo[\u001b[38;5;124m'\u001b[39m\u001b[38;5;124mr2\u001b[39m\u001b[38;5;124m'\u001b[39m]\u001b[38;5;132;01m:\u001b[39;00m\u001b[38;5;124m.4f\u001b[39m\u001b[38;5;132;01m}\u001b[39;00m\u001b[38;5;124m\"\u001b[39m)\n\u001b[1;32m     83\u001b[0m \u001b[38;5;28mprint\u001b[39m(\u001b[38;5;124mf\u001b[39m\u001b[38;5;124m\"\u001b[39m\u001b[38;5;124mModelo API \u001b[39m\u001b[38;5;124m'\u001b[39m\u001b[38;5;132;01m{\u001b[39;00mmodelo_api[\u001b[38;5;124m'\u001b[39m\u001b[38;5;124mnome_modelo\u001b[39m\u001b[38;5;124m'\u001b[39m]\u001b[38;5;132;01m}\u001b[39;00m\u001b[38;5;124m'\u001b[39m\u001b[38;5;124m versão \u001b[39m\u001b[38;5;132;01m{\u001b[39;00mmodelo_api[\u001b[38;5;124m'\u001b[39m\u001b[38;5;124mversao_modelo\u001b[39m\u001b[38;5;124m'\u001b[39m]\u001b[38;5;132;01m}\u001b[39;00m\u001b[38;5;124m da run \u001b[39m\u001b[38;5;132;01m{\u001b[39;00mmodelo_api[\u001b[38;5;124m'\u001b[39m\u001b[38;5;124mrun_id\u001b[39m\u001b[38;5;124m'\u001b[39m]\u001b[38;5;132;01m}\u001b[39;00m\u001b[38;5;124m com R² = \u001b[39m\u001b[38;5;132;01m{\u001b[39;00mmodelo_api[\u001b[38;5;124m'\u001b[39m\u001b[38;5;124mr2\u001b[39m\u001b[38;5;124m'\u001b[39m]\u001b[38;5;132;01m:\u001b[39;00m\u001b[38;5;124m.4f\u001b[39m\u001b[38;5;132;01m}\u001b[39;00m\u001b[38;5;124m\"\u001b[39m)\n\u001b[0;32m---> 85\u001b[0m modelo_carregado \u001b[38;5;241m=\u001b[39m \u001b[43mmlflow\u001b[49m\u001b[38;5;241;43m.\u001b[39;49m\u001b[43mpyfunc\u001b[49m\u001b[38;5;241;43m.\u001b[39;49m\u001b[43mload_model\u001b[49m\u001b[43m(\u001b[49m\u001b[43mmelhor_modelo\u001b[49m\u001b[43m[\u001b[49m\u001b[38;5;124;43m\"\u001b[39;49m\u001b[38;5;124;43mmodel_uri\u001b[39;49m\u001b[38;5;124;43m\"\u001b[39;49m\u001b[43m]\u001b[49m\u001b[43m)\u001b[49m\n\u001b[1;32m     87\u001b[0m \u001b[38;5;28;01mreturn\u001b[39;00m modelo_carregado, melhor_modelo, modelo_api\n",
      "File \u001b[0;32m/usr/local/lib/python3.10/site-packages/mlflow/tracing/provider.py:422\u001b[0m, in \u001b[0;36mtrace_disabled.<locals>.wrapper\u001b[0;34m(*args, **kwargs)\u001b[0m\n\u001b[1;32m    420\u001b[0m disable()\n\u001b[1;32m    421\u001b[0m \u001b[38;5;28;01mtry\u001b[39;00m:\n\u001b[0;32m--> 422\u001b[0m     is_func_called, result \u001b[38;5;241m=\u001b[39m \u001b[38;5;28;01mTrue\u001b[39;00m, \u001b[43mf\u001b[49m\u001b[43m(\u001b[49m\u001b[38;5;241;43m*\u001b[39;49m\u001b[43margs\u001b[49m\u001b[43m,\u001b[49m\u001b[43m \u001b[49m\u001b[38;5;241;43m*\u001b[39;49m\u001b[38;5;241;43m*\u001b[39;49m\u001b[43mkwargs\u001b[49m\u001b[43m)\u001b[49m\n\u001b[1;32m    423\u001b[0m \u001b[38;5;28;01mfinally\u001b[39;00m:\n\u001b[1;32m    424\u001b[0m     enable()\n",
      "File \u001b[0;32m/usr/local/lib/python3.10/site-packages/mlflow/pyfunc/__init__.py:1091\u001b[0m, in \u001b[0;36mload_model\u001b[0;34m(model_uri, suppress_warnings, dst_path, model_config)\u001b[0m\n\u001b[1;32m   1087\u001b[0m         entity_list\u001b[38;5;241m.\u001b[39mappend(Entity(job\u001b[38;5;241m=\u001b[39mjob_entity))\n\u001b[1;32m   1089\u001b[0m     lineage_header_info \u001b[38;5;241m=\u001b[39m LineageHeaderInfo(entities\u001b[38;5;241m=\u001b[39mentity_list) \u001b[38;5;28;01mif\u001b[39;00m entity_list \u001b[38;5;28;01melse\u001b[39;00m \u001b[38;5;28;01mNone\u001b[39;00m\n\u001b[0;32m-> 1091\u001b[0m local_path \u001b[38;5;241m=\u001b[39m \u001b[43m_download_artifact_from_uri\u001b[49m\u001b[43m(\u001b[49m\n\u001b[1;32m   1092\u001b[0m \u001b[43m    \u001b[49m\u001b[43martifact_uri\u001b[49m\u001b[38;5;241;43m=\u001b[39;49m\u001b[43mmodel_uri\u001b[49m\u001b[43m,\u001b[49m\u001b[43m \u001b[49m\u001b[43moutput_path\u001b[49m\u001b[38;5;241;43m=\u001b[39;49m\u001b[43mdst_path\u001b[49m\u001b[43m,\u001b[49m\u001b[43m \u001b[49m\u001b[43mlineage_header_info\u001b[49m\u001b[38;5;241;43m=\u001b[39;49m\u001b[43mlineage_header_info\u001b[49m\n\u001b[1;32m   1093\u001b[0m \u001b[43m\u001b[49m\u001b[43m)\u001b[49m\n\u001b[1;32m   1095\u001b[0m \u001b[38;5;28;01mif\u001b[39;00m \u001b[38;5;129;01mnot\u001b[39;00m suppress_warnings:\n\u001b[1;32m   1096\u001b[0m     model_requirements \u001b[38;5;241m=\u001b[39m _get_pip_requirements_from_model_path(local_path)\n",
      "File \u001b[0;32m/usr/local/lib/python3.10/site-packages/mlflow/tracking/artifact_utils.py:116\u001b[0m, in \u001b[0;36m_download_artifact_from_uri\u001b[0;34m(artifact_uri, output_path, lineage_header_info)\u001b[0m\n\u001b[1;32m    110\u001b[0m \u001b[38;5;28;01mif\u001b[39;00m \u001b[38;5;28misinstance\u001b[39m(repo, ModelsArtifactRepository):\n\u001b[1;32m    111\u001b[0m     \u001b[38;5;28;01mreturn\u001b[39;00m repo\u001b[38;5;241m.\u001b[39mdownload_artifacts(\n\u001b[1;32m    112\u001b[0m         artifact_path\u001b[38;5;241m=\u001b[39martifact_path,\n\u001b[1;32m    113\u001b[0m         dst_path\u001b[38;5;241m=\u001b[39moutput_path,\n\u001b[1;32m    114\u001b[0m         lineage_header_info\u001b[38;5;241m=\u001b[39mlineage_header_info,\n\u001b[1;32m    115\u001b[0m     )\n\u001b[0;32m--> 116\u001b[0m \u001b[38;5;28;01mreturn\u001b[39;00m \u001b[43mrepo\u001b[49m\u001b[38;5;241;43m.\u001b[39;49m\u001b[43mdownload_artifacts\u001b[49m\u001b[43m(\u001b[49m\u001b[43martifact_path\u001b[49m\u001b[38;5;241;43m=\u001b[39;49m\u001b[43martifact_path\u001b[49m\u001b[43m,\u001b[49m\u001b[43m \u001b[49m\u001b[43mdst_path\u001b[49m\u001b[38;5;241;43m=\u001b[39;49m\u001b[43moutput_path\u001b[49m\u001b[43m)\u001b[49m\n",
      "File \u001b[0;32m/usr/local/lib/python3.10/site-packages/mlflow/store/artifact/runs_artifact_repo.py:131\u001b[0m, in \u001b[0;36mRunsArtifactRepository.download_artifacts\u001b[0;34m(self, artifact_path, dst_path)\u001b[0m\n\u001b[1;32m    114\u001b[0m \u001b[38;5;28;01mdef\u001b[39;00m\u001b[38;5;250m \u001b[39m\u001b[38;5;21mdownload_artifacts\u001b[39m(\u001b[38;5;28mself\u001b[39m, artifact_path, dst_path\u001b[38;5;241m=\u001b[39m\u001b[38;5;28;01mNone\u001b[39;00m):\n\u001b[1;32m    115\u001b[0m \u001b[38;5;250m    \u001b[39m\u001b[38;5;124;03m\"\"\"\u001b[39;00m\n\u001b[1;32m    116\u001b[0m \u001b[38;5;124;03m    Download an artifact file or directory to a local directory if applicable, and return a\u001b[39;00m\n\u001b[1;32m    117\u001b[0m \u001b[38;5;124;03m    local path for it.\u001b[39;00m\n\u001b[0;32m   (...)\u001b[0m\n\u001b[1;32m    129\u001b[0m \u001b[38;5;124;03m        Absolute path of the local filesystem location containing the desired artifacts.\u001b[39;00m\n\u001b[1;32m    130\u001b[0m \u001b[38;5;124;03m    \"\"\"\u001b[39;00m\n\u001b[0;32m--> 131\u001b[0m     \u001b[38;5;28;01mreturn\u001b[39;00m \u001b[38;5;28;43mself\u001b[39;49m\u001b[38;5;241;43m.\u001b[39;49m\u001b[43mrepo\u001b[49m\u001b[38;5;241;43m.\u001b[39;49m\u001b[43mdownload_artifacts\u001b[49m\u001b[43m(\u001b[49m\u001b[43martifact_path\u001b[49m\u001b[43m,\u001b[49m\u001b[43m \u001b[49m\u001b[43mdst_path\u001b[49m\u001b[43m)\u001b[49m\n",
      "File \u001b[0;32m/usr/local/lib/python3.10/site-packages/mlflow/store/artifact/local_artifact_repo.py:91\u001b[0m, in \u001b[0;36mLocalArtifactRepository.download_artifacts\u001b[0;34m(self, artifact_path, dst_path)\u001b[0m\n\u001b[1;32m     89\u001b[0m local_artifact_path \u001b[38;5;241m=\u001b[39m os\u001b[38;5;241m.\u001b[39mpath\u001b[38;5;241m.\u001b[39mjoin(\u001b[38;5;28mself\u001b[39m\u001b[38;5;241m.\u001b[39martifact_dir, os\u001b[38;5;241m.\u001b[39mpath\u001b[38;5;241m.\u001b[39mnormpath(artifact_path))\n\u001b[1;32m     90\u001b[0m \u001b[38;5;28;01mif\u001b[39;00m \u001b[38;5;129;01mnot\u001b[39;00m os\u001b[38;5;241m.\u001b[39mpath\u001b[38;5;241m.\u001b[39mexists(local_artifact_path):\n\u001b[0;32m---> 91\u001b[0m     \u001b[38;5;28;01mraise\u001b[39;00m \u001b[38;5;167;01mOSError\u001b[39;00m(\u001b[38;5;124mf\u001b[39m\u001b[38;5;124m\"\u001b[39m\u001b[38;5;124mNo such file or directory: \u001b[39m\u001b[38;5;124m'\u001b[39m\u001b[38;5;132;01m{\u001b[39;00mlocal_artifact_path\u001b[38;5;132;01m}\u001b[39;00m\u001b[38;5;124m'\u001b[39m\u001b[38;5;124m\"\u001b[39m)\n\u001b[1;32m     92\u001b[0m \u001b[38;5;28;01mreturn\u001b[39;00m os\u001b[38;5;241m.\u001b[39mpath\u001b[38;5;241m.\u001b[39mabspath(local_artifact_path)\n",
      "\u001b[0;31mOSError\u001b[0m: No such file or directory: '/app/mlruns/1/2369381fe2504d1496981f27d974de4c/artifacts/xgboost_model'"
     ]
    }
   ],
   "source": [
    "\n",
    "def carregar_modelo_com_melhor_r2(experimento_nome):\n",
    "    client = MlflowClient()\n",
    "\n",
    "    # Pega o experimento\n",
    "    experimento = client.get_experiment_by_name(experimento_nome)\n",
    "    if not experimento:\n",
    "        raise ValueError(f\"Experimento '{experimento_nome}' não encontrado.\")\n",
    "    \n",
    "    experiment_id = experimento.experiment_id\n",
    "\n",
    "    melhor_modelo = {\n",
    "        \"r2\": float('-inf'),\n",
    "        \"model_uri\": None,\n",
    "        \"nome_modelo\": None,\n",
    "        \"versao_modelo\": None,\n",
    "        \"run_id\": None\n",
    "    }\n",
    "\n",
    "    modelo_api = {\n",
    "        \"r2\": float('-inf'),\n",
    "        \"model_uri\": None,\n",
    "        \"nome_modelo\": None,\n",
    "        \"versao_modelo\": None,\n",
    "        \"run_id\": None\n",
    "    }\n",
    "\n",
    "    # Pega todas as runs ordenadas por R² (decrescente)\n",
    "    runs = client.search_runs(\n",
    "        experiment_ids=[experiment_id],\n",
    "        order_by=[\"metrics.r2 DESC\"]\n",
    "    )\n",
    "\n",
    "    modelos_registrados = client.search_registered_models()\n",
    "\n",
    "    \n",
    "\n",
    "    for modelo in modelos_registrados:\n",
    "        \n",
    "        nome_modelo = modelo.name\n",
    "\n",
    "        for versao in modelo.latest_versions:\n",
    "            # Busca informações completas da versão\n",
    "            versoes = client.search_model_versions(f\"name='{nome_modelo}'\")\n",
    "            for v in versoes:\n",
    "                run = client.get_run(v.run_id)\n",
    "\n",
    "                # Verifica se pertence ao experimento desejado\n",
    "                if run.info.experiment_id != experiment_id:\n",
    "                    continue\n",
    "\n",
    "                r2 = run.data.metrics.get(\"r2\")\n",
    "\n",
    "                source_path = v.source\n",
    "                artifact_path = source_path.split(\"/\")[-1]\n",
    "                model_uri = f\"runs:/{v.run_id}/{artifact_path}\"\n",
    "\n",
    "                print(f\"Modelo '{modelo.name}' versão {v.version} da run {v.run_id} com R² = {r2}\")\n",
    "\n",
    "                if v.current_stage == \"Production\":\n",
    "                    modelo_api.update({\n",
    "                        \"r2\": r2,\n",
    "                        \"model_uri\": model_uri,\n",
    "                        \"nome_modelo\": nome_modelo,\n",
    "                        \"versao_modelo\": v.version,\n",
    "                        \"run_id\": v.run_id\n",
    "                    })\n",
    "                    continue\n",
    "                \n",
    "                if r2 is not None and r2 > melhor_modelo[\"r2\"] and v.current_stage != \"Staging\":\n",
    "                    melhor_modelo.update({\n",
    "                        \"r2\": r2,\n",
    "                        \"model_uri\": model_uri,\n",
    "                        \"nome_modelo\": nome_modelo,\n",
    "                        \"versao_modelo\": v.version,\n",
    "                        \"run_id\": v.run_id\n",
    "                    })\n",
    "\n",
    "    if not melhor_modelo[\"model_uri\"]:\n",
    "        raise ValueError(\"Nenhum modelo em 'Staging' com métrica R² encontrado para esse experimento.\")\n",
    "\n",
    "    print(f\"Carregando modelo '{melhor_modelo['nome_modelo']}' versão {melhor_modelo['versao_modelo']} da run {melhor_modelo['run_id']} com R² = {melhor_modelo['r2']:.4f}\")\n",
    "\n",
    "    print(f\"Modelo API '{modelo_api['nome_modelo']}' versão {modelo_api['versao_modelo']} da run {modelo_api['run_id']} com R² = {modelo_api['r2']:.4f}\")\n",
    "    \n",
    "    modelo_carregado = mlflow.pyfunc.load_model(melhor_modelo[\"model_uri\"])\n",
    "    \n",
    "    return modelo_carregado, melhor_modelo, modelo_api\n",
    "    \n",
    "\n",
    "# Carregando modelo com melhor R2 \n",
    "loaded_model, melhor_modelo, modelo_api = carregar_modelo_com_melhor_r2(\"ecd15\")\n",
    "\n",
    "melhor_modelo, modelo_api\n"
   ]
  },
  {
   "cell_type": "markdown",
   "metadata": {},
   "source": [
    "## Predição de melhor modelo carregado x modelo API"
   ]
  },
  {
   "cell_type": "code",
   "execution_count": 8,
   "metadata": {
    "execution": {
     "iopub.execute_input": "2025-04-17T01:02:53.864521Z",
     "iopub.status.busy": "2025-04-17T01:02:53.863964Z",
     "iopub.status.idle": "2025-04-17T01:02:53.911297Z",
     "shell.execute_reply": "2025-04-17T01:02:53.909790Z"
    }
   },
   "outputs": [
    {
     "data": {
      "text/html": [
       "<div>\n",
       "<style scoped>\n",
       "    .dataframe tbody tr th:only-of-type {\n",
       "        vertical-align: middle;\n",
       "    }\n",
       "\n",
       "    .dataframe tbody tr th {\n",
       "        vertical-align: top;\n",
       "    }\n",
       "\n",
       "    .dataframe thead th {\n",
       "        text-align: right;\n",
       "    }\n",
       "</style>\n",
       "<table border=\"1\" class=\"dataframe\">\n",
       "  <thead>\n",
       "    <tr style=\"text-align: right;\">\n",
       "      <th></th>\n",
       "      <th>price_brl</th>\n",
       "      <th>predicao_modelo_api</th>\n",
       "      <th>predicao_melhor_modelo</th>\n",
       "    </tr>\n",
       "  </thead>\n",
       "  <tbody>\n",
       "    <tr>\n",
       "      <th>6383</th>\n",
       "      <td>787484.34</td>\n",
       "      <td>978233.06</td>\n",
       "      <td>844436.32</td>\n",
       "    </tr>\n",
       "    <tr>\n",
       "      <th>9172</th>\n",
       "      <td>933875.69</td>\n",
       "      <td>906950.25</td>\n",
       "      <td>1100024.97</td>\n",
       "    </tr>\n",
       "    <tr>\n",
       "      <th>3868</th>\n",
       "      <td>1397378.74</td>\n",
       "      <td>1373972.50</td>\n",
       "      <td>1401079.65</td>\n",
       "    </tr>\n",
       "    <tr>\n",
       "      <th>4676</th>\n",
       "      <td>998127.67</td>\n",
       "      <td>1051356.75</td>\n",
       "      <td>1009376.21</td>\n",
       "    </tr>\n",
       "    <tr>\n",
       "      <th>18133</th>\n",
       "      <td>4000000.00</td>\n",
       "      <td>1151326.00</td>\n",
       "      <td>5049400.00</td>\n",
       "    </tr>\n",
       "    <tr>\n",
       "      <th>13351</th>\n",
       "      <td>1890000.00</td>\n",
       "      <td>669886.31</td>\n",
       "      <td>1792180.00</td>\n",
       "    </tr>\n",
       "    <tr>\n",
       "      <th>17172</th>\n",
       "      <td>1700000.00</td>\n",
       "      <td>1369107.50</td>\n",
       "      <td>1626377.39</td>\n",
       "    </tr>\n",
       "    <tr>\n",
       "      <th>17379</th>\n",
       "      <td>1300000.00</td>\n",
       "      <td>1067672.75</td>\n",
       "      <td>1281245.14</td>\n",
       "    </tr>\n",
       "    <tr>\n",
       "      <th>5818</th>\n",
       "      <td>289457.01</td>\n",
       "      <td>358558.22</td>\n",
       "      <td>309616.08</td>\n",
       "    </tr>\n",
       "    <tr>\n",
       "      <th>20470</th>\n",
       "      <td>3750000.00</td>\n",
       "      <td>1130626.00</td>\n",
       "      <td>3660319.60</td>\n",
       "    </tr>\n",
       "    <tr>\n",
       "      <th>12122</th>\n",
       "      <td>668745.53</td>\n",
       "      <td>673395.38</td>\n",
       "      <td>727628.63</td>\n",
       "    </tr>\n",
       "    <tr>\n",
       "      <th>15254</th>\n",
       "      <td>5500000.00</td>\n",
       "      <td>715957.81</td>\n",
       "      <td>5637000.00</td>\n",
       "    </tr>\n",
       "    <tr>\n",
       "      <th>20198</th>\n",
       "      <td>1690000.00</td>\n",
       "      <td>689171.19</td>\n",
       "      <td>1674560.00</td>\n",
       "    </tr>\n",
       "    <tr>\n",
       "      <th>12095</th>\n",
       "      <td>948221.29</td>\n",
       "      <td>1025426.88</td>\n",
       "      <td>997185.05</td>\n",
       "    </tr>\n",
       "    <tr>\n",
       "      <th>18730</th>\n",
       "      <td>500000.00</td>\n",
       "      <td>687039.88</td>\n",
       "      <td>730510.00</td>\n",
       "    </tr>\n",
       "    <tr>\n",
       "      <th>14485</th>\n",
       "      <td>2600000.00</td>\n",
       "      <td>1130626.00</td>\n",
       "      <td>2607600.00</td>\n",
       "    </tr>\n",
       "    <tr>\n",
       "      <th>5449</th>\n",
       "      <td>1077977.90</td>\n",
       "      <td>1029650.62</td>\n",
       "      <td>1047386.24</td>\n",
       "    </tr>\n",
       "    <tr>\n",
       "      <th>6429</th>\n",
       "      <td>748595.73</td>\n",
       "      <td>959656.50</td>\n",
       "      <td>870533.61</td>\n",
       "    </tr>\n",
       "    <tr>\n",
       "      <th>19784</th>\n",
       "      <td>6500000.00</td>\n",
       "      <td>849469.12</td>\n",
       "      <td>6900100.00</td>\n",
       "    </tr>\n",
       "    <tr>\n",
       "      <th>13718</th>\n",
       "      <td>6100000.00</td>\n",
       "      <td>1066053.12</td>\n",
       "      <td>6481800.00</td>\n",
       "    </tr>\n",
       "  </tbody>\n",
       "</table>\n",
       "</div>"
      ],
      "text/plain": [
       "        price_brl  predicao_modelo_api  predicao_melhor_modelo\n",
       "6383    787484.34            978233.06               844436.32\n",
       "9172    933875.69            906950.25              1100024.97\n",
       "3868   1397378.74           1373972.50              1401079.65\n",
       "4676    998127.67           1051356.75              1009376.21\n",
       "18133  4000000.00           1151326.00              5049400.00\n",
       "13351  1890000.00            669886.31              1792180.00\n",
       "17172  1700000.00           1369107.50              1626377.39\n",
       "17379  1300000.00           1067672.75              1281245.14\n",
       "5818    289457.01            358558.22               309616.08\n",
       "20470  3750000.00           1130626.00              3660319.60\n",
       "12122   668745.53            673395.38               727628.63\n",
       "15254  5500000.00            715957.81              5637000.00\n",
       "20198  1690000.00            689171.19              1674560.00\n",
       "12095   948221.29           1025426.88               997185.05\n",
       "18730   500000.00            687039.88               730510.00\n",
       "14485  2600000.00           1130626.00              2607600.00\n",
       "5449   1077977.90           1029650.62              1047386.24\n",
       "6429    748595.73            959656.50               870533.61\n",
       "19784  6500000.00            849469.12              6900100.00\n",
       "13718  6100000.00           1066053.12              6481800.00"
      ]
     },
     "execution_count": 8,
     "metadata": {},
     "output_type": "execute_result"
    }
   ],
   "source": [
    "# Fazer a previsão\n",
    "predictions = loaded_model.predict(x_features)\n",
    "\n",
    "# Adicionar as previsões ao DataFrame\n",
    "df_sample[\"predicao_melhor_modelo\"] = predictions\n",
    "\n",
    "# converter previsões para o mesmo tipo da variável alvo\n",
    "df_sample[\"predicao_melhor_modelo\"] = df_sample[\"predicao_melhor_modelo\"].astype(float).round(2)\n",
    "\n",
    "previsao_json = json.loads(previsao.text)\n",
    "\n",
    "# Extrair as previsões do JSON e adicioná-las ao DataFrame\n",
    "df_sample[\"predicao_modelo_api\"] = [round(pred, 2) for pred in previsao_json[\"predictions\"]]\n",
    "\n",
    "# Exibir o DataFrame atualizado\n",
    "df_sample[[\"price_brl\", \"predicao_modelo_api\", \"predicao_melhor_modelo\"]]"
   ]
  },
  {
   "cell_type": "markdown",
   "metadata": {},
   "source": [
    "### Comparação R² Score dos modelos"
   ]
  },
  {
   "cell_type": "code",
   "execution_count": 9,
   "metadata": {
    "execution": {
     "iopub.execute_input": "2025-04-17T01:02:53.915173Z",
     "iopub.status.busy": "2025-04-17T01:02:53.914871Z",
     "iopub.status.idle": "2025-04-17T01:02:53.925068Z",
     "shell.execute_reply": "2025-04-17T01:02:53.923447Z"
    }
   },
   "outputs": [
    {
     "name": "stdout",
     "output_type": "stream",
     "text": [
      "R² API: 0.9782 R² Melhor Modelo: 0.9782\n"
     ]
    }
   ],
   "source": [
    "# Calcular R²\n",
    "r2_melhor_modelo = r2_score(df_sample[\"price_brl\"], df_sample[\"predicao_melhor_modelo\"])\n",
    "r2_api = r2_score(df_sample[\"price_brl\"], df_sample[\"predicao_melhor_modelo\"])\n",
    "print(f\"R² API: {r2_melhor_modelo:.4f} R² Melhor Modelo: {r2_api:.4f}\")"
   ]
  },
  {
   "cell_type": "markdown",
   "metadata": {},
   "source": [
    "### Promover melhor modelo para Produção"
   ]
  },
  {
   "cell_type": "code",
   "execution_count": 10,
   "metadata": {
    "execution": {
     "iopub.execute_input": "2025-04-17T01:02:53.929538Z",
     "iopub.status.busy": "2025-04-17T01:02:53.929053Z",
     "iopub.status.idle": "2025-04-17T01:03:03.180332Z",
     "shell.execute_reply": "2025-04-17T01:03:03.178375Z"
    }
   },
   "outputs": [
    {
     "name": "stdout",
     "output_type": "stream",
     "text": [
      "Modelo 'random_forest_model' versão 25 promovido para 'Production'.\n",
      "Modelo xgboost_model Versão 27 arquivado.\n"
     ]
    },
    {
     "name": "stderr",
     "output_type": "stream",
     "text": [
      "/tmp/ipykernel_1738/274293922.py:33: FutureWarning: ``mlflow.tracking.client.MlflowClient.transition_model_version_stage`` is deprecated since 2.9.0. Model registry stages will be removed in a future major release. To learn more about the deprecation of model registry stages, see our migration guide here: https://mlflow.org/docs/latest/model-registry.html#migrating-from-stages\n",
      "  client.transition_model_version_stage(\n",
      "/tmp/ipykernel_1738/274293922.py:47: FutureWarning: ``mlflow.tracking.client.MlflowClient.transition_model_version_stage`` is deprecated since 2.9.0. Model registry stages will be removed in a future major release. To learn more about the deprecation of model registry stages, see our migration guide here: https://mlflow.org/docs/latest/model-registry.html#migrating-from-stages\n",
      "  client.transition_model_version_stage(\n"
     ]
    },
    {
     "name": "stdout",
     "output_type": "stream",
     "text": [
      "Modelo gradient_boosting_model Versão 27 arquivado.\n"
     ]
    },
    {
     "name": "stdout",
     "output_type": "stream",
     "text": [
      "Modelo linear_regression_model Versão 27 arquivado.\n"
     ]
    },
    {
     "name": "stdout",
     "output_type": "stream",
     "text": [
      "Modelo decision_tree_model Versão 27 arquivado.\n"
     ]
    },
    {
     "name": "stdout",
     "output_type": "stream",
     "text": [
      "Modelo xgboost_model Versão 26 arquivado.\n"
     ]
    },
    {
     "name": "stdout",
     "output_type": "stream",
     "text": [
      "Modelo gradient_boosting_model Versão 26 arquivado.\n"
     ]
    },
    {
     "name": "stdout",
     "output_type": "stream",
     "text": [
      "Modelo linear_regression_model Versão 26 arquivado.\n"
     ]
    },
    {
     "name": "stdout",
     "output_type": "stream",
     "text": [
      "Modelo decision_tree_model Versão 26 arquivado.\n"
     ]
    },
    {
     "name": "stdout",
     "output_type": "stream",
     "text": [
      "Modelo xgboost_model Versão 24 arquivado.\n"
     ]
    },
    {
     "name": "stdout",
     "output_type": "stream",
     "text": [
      "Modelo gradient_boosting_model Versão 24 arquivado.\n"
     ]
    },
    {
     "name": "stdout",
     "output_type": "stream",
     "text": [
      "Modelo linear_regression_model Versão 24 arquivado.\n"
     ]
    },
    {
     "name": "stdout",
     "output_type": "stream",
     "text": [
      "Modelo decision_tree_model Versão 24 arquivado.\n"
     ]
    },
    {
     "name": "stdout",
     "output_type": "stream",
     "text": [
      "Modelo xgboost_model Versão 23 arquivado.\n"
     ]
    },
    {
     "name": "stdout",
     "output_type": "stream",
     "text": [
      "Modelo gradient_boosting_model Versão 23 arquivado.\n"
     ]
    },
    {
     "name": "stdout",
     "output_type": "stream",
     "text": [
      "Modelo linear_regression_model Versão 23 arquivado.\n"
     ]
    },
    {
     "name": "stdout",
     "output_type": "stream",
     "text": [
      "Modelo decision_tree_model Versão 23 arquivado.\n"
     ]
    },
    {
     "name": "stdout",
     "output_type": "stream",
     "text": [
      "Modelo xgboost_model Versão 22 arquivado.\n",
      "Modelo gradient_boosting_model Versão 22 arquivado.\n"
     ]
    },
    {
     "name": "stdout",
     "output_type": "stream",
     "text": [
      "Modelo linear_regression_model Versão 22 arquivado.\n"
     ]
    },
    {
     "name": "stdout",
     "output_type": "stream",
     "text": [
      "Modelo decision_tree_model Versão 22 arquivado.\n"
     ]
    },
    {
     "name": "stdout",
     "output_type": "stream",
     "text": [
      "Modelo xgboost_model Versão 21 arquivado.\n"
     ]
    },
    {
     "name": "stdout",
     "output_type": "stream",
     "text": [
      "Modelo gradient_boosting_model Versão 21 arquivado.\n"
     ]
    },
    {
     "name": "stdout",
     "output_type": "stream",
     "text": [
      "Modelo linear_regression_model Versão 21 arquivado.\n"
     ]
    },
    {
     "name": "stdout",
     "output_type": "stream",
     "text": [
      "Modelo decision_tree_model Versão 21 arquivado.\n"
     ]
    },
    {
     "name": "stdout",
     "output_type": "stream",
     "text": [
      "Modelo xgboost_model Versão 20 arquivado.\n"
     ]
    },
    {
     "name": "stdout",
     "output_type": "stream",
     "text": [
      "Modelo gradient_boosting_model Versão 20 arquivado.\n"
     ]
    },
    {
     "name": "stdout",
     "output_type": "stream",
     "text": [
      "Modelo linear_regression_model Versão 20 arquivado.\n"
     ]
    },
    {
     "name": "stdout",
     "output_type": "stream",
     "text": [
      "Modelo decision_tree_model Versão 20 arquivado.\n",
      "Modelo xgboost_model Versão 19 arquivado.\n"
     ]
    },
    {
     "name": "stdout",
     "output_type": "stream",
     "text": [
      "Modelo gradient_boosting_model Versão 19 arquivado.\n",
      "Modelo linear_regression_model Versão 19 arquivado.\n",
      "Modelo decision_tree_model Versão 19 arquivado.\n"
     ]
    },
    {
     "name": "stdout",
     "output_type": "stream",
     "text": [
      "Modelo xgboost_model Versão 16 arquivado.\n",
      "Modelo gradient_boosting_model Versão 18 arquivado.\n"
     ]
    },
    {
     "name": "stdout",
     "output_type": "stream",
     "text": [
      "Modelo linear_regression_model Versão 18 arquivado.\n",
      "Modelo decision_tree_model Versão 18 arquivado.\n"
     ]
    },
    {
     "name": "stdout",
     "output_type": "stream",
     "text": [
      "Modelo gradient_boosting_model Versão 17 arquivado.\n",
      "Modelo linear_regression_model Versão 17 arquivado.\n",
      "Modelo decision_tree_model Versão 17 arquivado.\n"
     ]
    },
    {
     "name": "stdout",
     "output_type": "stream",
     "text": [
      "Modelo gradient_boosting_model Versão 16 arquivado.\n",
      "Modelo linear_regression_model Versão 16 arquivado.\n",
      "Modelo decision_tree_model Versão 16 arquivado.\n"
     ]
    },
    {
     "name": "stdout",
     "output_type": "stream",
     "text": [
      "Modelo gradient_boosting_model Versão 15 arquivado.\n",
      "Modelo linear_regression_model Versão 15 arquivado.\n"
     ]
    },
    {
     "name": "stdout",
     "output_type": "stream",
     "text": [
      "Modelo decision_tree_model Versão 15 arquivado.\n",
      "Modelo gradient_boosting_model Versão 14 arquivado.\n"
     ]
    },
    {
     "name": "stdout",
     "output_type": "stream",
     "text": [
      "Modelo linear_regression_model Versão 14 arquivado.\n",
      "Modelo decision_tree_model Versão 14 arquivado.\n"
     ]
    },
    {
     "name": "stdout",
     "output_type": "stream",
     "text": [
      "Modelo gradient_boosting_model Versão 13 arquivado.\n",
      "Modelo linear_regression_model Versão 13 arquivado.\n"
     ]
    },
    {
     "name": "stdout",
     "output_type": "stream",
     "text": [
      "Modelo decision_tree_model Versão 13 arquivado.\n",
      "Modelo gradient_boosting_model Versão 12 arquivado.\n"
     ]
    },
    {
     "name": "stdout",
     "output_type": "stream",
     "text": [
      "Modelo linear_regression_model Versão 12 arquivado.\n",
      "Modelo decision_tree_model Versão 12 arquivado.\n",
      "Modelo gradient_boosting_model Versão 11 arquivado.\n"
     ]
    },
    {
     "name": "stdout",
     "output_type": "stream",
     "text": [
      "Modelo linear_regression_model Versão 11 arquivado.\n",
      "Modelo decision_tree_model Versão 11 arquivado.\n"
     ]
    },
    {
     "name": "stdout",
     "output_type": "stream",
     "text": [
      "Modelo gradient_boosting_model Versão 10 arquivado.\n",
      "Modelo linear_regression_model Versão 10 arquivado.\n"
     ]
    },
    {
     "name": "stdout",
     "output_type": "stream",
     "text": [
      "Modelo decision_tree_model Versão 10 arquivado.\n",
      "Modelo gradient_boosting_model Versão 9 arquivado.\n"
     ]
    },
    {
     "name": "stdout",
     "output_type": "stream",
     "text": [
      "Modelo linear_regression_model Versão 9 arquivado.\n",
      "Modelo decision_tree_model Versão 9 arquivado.\n"
     ]
    },
    {
     "name": "stdout",
     "output_type": "stream",
     "text": [
      "Modelo gradient_boosting_model Versão 8 arquivado.\n",
      "Modelo linear_regression_model Versão 8 arquivado.\n"
     ]
    },
    {
     "name": "stdout",
     "output_type": "stream",
     "text": [
      "Modelo decision_tree_model Versão 8 arquivado.\n",
      "Modelo gradient_boosting_model Versão 7 arquivado.\n"
     ]
    },
    {
     "name": "stdout",
     "output_type": "stream",
     "text": [
      "Modelo linear_regression_model Versão 7 arquivado.\n",
      "Modelo decision_tree_model Versão 7 arquivado.\n",
      "Modelo gradient_boosting_model Versão 6 arquivado.\n"
     ]
    },
    {
     "name": "stdout",
     "output_type": "stream",
     "text": [
      "Modelo linear_regression_model Versão 6 arquivado.\n",
      "Modelo decision_tree_model Versão 6 arquivado.\n"
     ]
    },
    {
     "name": "stdout",
     "output_type": "stream",
     "text": [
      "Modelo gradient_boosting_model Versão 5 arquivado.\n",
      "Modelo linear_regression_model Versão 5 arquivado.\n"
     ]
    },
    {
     "name": "stdout",
     "output_type": "stream",
     "text": [
      "Modelo decision_tree_model Versão 5 arquivado.\n",
      "Modelo gradient_boosting_model Versão 4 arquivado.\n",
      "Modelo linear_regression_model Versão 4 arquivado.\n"
     ]
    },
    {
     "name": "stdout",
     "output_type": "stream",
     "text": [
      "Modelo decision_tree_model Versão 4 arquivado.\n",
      "Modelo gradient_boosting_model Versão 3 arquivado.\n",
      "Modelo linear_regression_model Versão 3 arquivado.\n"
     ]
    },
    {
     "name": "stdout",
     "output_type": "stream",
     "text": [
      "Modelo decision_tree_model Versão 3 arquivado.\n",
      "Modelo gradient_boosting_model Versão 2 arquivado.\n",
      "Modelo linear_regression_model Versão 2 arquivado.\n"
     ]
    },
    {
     "name": "stdout",
     "output_type": "stream",
     "text": [
      "Modelo decision_tree_model Versão 2 arquivado.\n",
      "Modelo gradient_boosting_model Versão 1 arquivado.\n",
      "Modelo linear_regression_model Versão 1 arquivado.\n"
     ]
    },
    {
     "name": "stdout",
     "output_type": "stream",
     "text": [
      "Modelo decision_tree_model Versão 1 arquivado.\n"
     ]
    }
   ],
   "source": [
    "def parar_modelo_mlflow():\n",
    "    # Encontra o processo que está usando a porta 5000\n",
    "    try:\n",
    "        resultado = subprocess.check_output(\"lsof -i :5000 -t\", shell=True)\n",
    "        pids = resultado.decode().strip().split(\"\\n\")\n",
    "        for pid in pids:\n",
    "            os.kill(int(pid), signal.SIGTERM)\n",
    "        print(\"Servidor de modelo parado com sucesso.\")\n",
    "    except subprocess.CalledProcessError:\n",
    "        print(\"Nenhum processo na porta 5000 foi encontrado.\")\n",
    "\n",
    "def parar_modelo_mlflow1():\n",
    "    try:\n",
    "        resultado = subprocess.check_output(\"lsof -i :5000 -sTCP:LISTEN -nP\", shell=True)\n",
    "        linhas = resultado.decode().strip().split(\"\\n\")[1:]  # ignora cabeçalho\n",
    "        for linha in linhas:\n",
    "            if \"mlflow\" in linha.lower():\n",
    "                pid = int(linha.split()[1])\n",
    "                os.kill(pid, signal.SIGTERM)\n",
    "                print(f\"Servidor MLflow (PID {pid}) parado com sucesso.\")\n",
    "            else:\n",
    "                print(\"⚠️ Porta 5000 ocupada por outro processo que não é o MLflow. Ignorado.\")\n",
    "    except subprocess.CalledProcessError:\n",
    "        print(\"Nenhum processo ouvindo na porta 5000 foi encontrado.\")\n",
    "\n",
    "def promover_modelo_para_producao(modelo):\n",
    "    client = MlflowClient()\n",
    "\n",
    "    nome_modelo = modelo[\"nome_modelo\"]\n",
    "    versao_modelo = modelo[\"versao_modelo\"]\n",
    "\n",
    "    # Promover o modelo selecionado\n",
    "    client.transition_model_version_stage(\n",
    "        name=nome_modelo,\n",
    "        version=versao_modelo,\n",
    "        stage=\"Production\",\n",
    "        archive_existing_versions=True  # arquiva automaticamente os outros em Production\n",
    "    )\n",
    "    print(f\"Modelo '{nome_modelo}' versão {versao_modelo} promovido para 'Production'.\")\n",
    "\n",
    "    # Agora vamos arquivar os que ainda estão em Staging\n",
    "    todos_modelos = client.search_model_versions(\"name LIKE '%_model'\")\n",
    "    modelos_ativos = [v for v in todos_modelos if v.current_stage != \"Archived\"]\n",
    "    \n",
    "    for v in modelos_ativos:\n",
    "        if v.version != versao_modelo and v.name != nome_modelo:\n",
    "            client.transition_model_version_stage(\n",
    "                name=nome_modelo,\n",
    "                version=v.version,\n",
    "                stage=\"Archived\"\n",
    "            )\n",
    "            print(f\"Modelo { v.name } Versão {v.version} arquivado.\")\n",
    "\n",
    "def servir_melhor_modelo(experimento_nome, modelo):\n",
    "    client = MlflowClient()\n",
    "    \n",
    "    # Parar modelo atual\n",
    "    #parar_modelo_mlflow1()\n",
    "\n",
    "    model_uri = modelo[\"model_uri\"]\n",
    "\n",
    "    #comando = f\"mlflow models serve -m {model_uri} --no-conda --host 0.0.0.0 --port 5000 &\"\n",
    "    #print(f\"Executando comando:\\n{comando}\")\n",
    "    #get_ipython().system(comando)\n",
    "\n",
    "    promover_modelo_para_producao(modelo)\n",
    "\n",
    "servir_melhor_modelo(\"ecd15\", melhor_modelo)"
   ]
  },
  {
   "cell_type": "code",
   "execution_count": null,
   "metadata": {},
   "outputs": [],
   "source": []
  }
 ],
 "metadata": {
  "kernelspec": {
   "display_name": "Python 3 (ipykernel)",
   "language": "python",
   "name": "python3"
  },
  "language_info": {
   "codemirror_mode": {
    "name": "ipython",
    "version": 3
   },
   "file_extension": ".py",
   "mimetype": "text/x-python",
   "name": "python",
   "nbconvert_exporter": "python",
   "pygments_lexer": "ipython3",
   "version": "3.10.17"
  }
 },
 "nbformat": 4,
 "nbformat_minor": 4
}
