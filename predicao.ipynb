{
 "cells": [
  {
   "cell_type": "markdown",
   "metadata": {},
   "source": [
    "# Treinamento"
   ]
  },
  {
   "cell_type": "markdown",
   "metadata": {},
   "source": [
    "## Inicialização"
   ]
  },
  {
   "cell_type": "code",
   "execution_count": null,
   "metadata": {},
   "outputs": [],
   "source": [
    "# Config Inicial\n",
    "import json\n",
    "import mlflow.pyfunc\n",
    "import shutil\n",
    "import pandas as pd\n",
    "import requests\n",
    "from sklearn.metrics import r2_score\n",
    "import mlflow\n",
    "from mlflow.tracking import MlflowClient\n",
    "\n",
    "import os\n",
    "import signal\n",
    "import subprocess\n"
   ]
  },
  {
   "cell_type": "markdown",
   "metadata": {},
   "source": [
    "### Leitura"
   ]
  },
  {
   "cell_type": "code",
   "execution_count": null,
   "metadata": {},
   "outputs": [],
   "source": [
    "# Descomentar, quando quiser carregar para o treinamento, dados originais defasados para primeira execução do treinamento\n",
    "#shutil.copyfile(\"dataset/brasil_estado_cidade.csv\", \"dataset/dados_treinamento.csv\")\n",
    "\n",
    "# Carregar o conjunto de dados\n",
    "df_treinamento = pd.read_csv(\"dataset/dados_treinamento.csv\", encoding=\"utf-8\")\n",
    "\n",
    "# Eliminando registros com valores null\n",
    "df_treinamento.dropna(inplace=True)\n",
    "\n",
    "# float64\n",
    "df_treinamento = df_treinamento.astype({col: 'float64' for col in df_treinamento.select_dtypes(include='int').columns})\n",
    "\n",
    "df_treinamento.head()"
   ]
  },
  {
   "cell_type": "code",
   "execution_count": null,
   "metadata": {},
   "outputs": [],
   "source": [
    "mlflow.set_tracking_uri(\"sqlite:///mlflow.db\")\n",
    "\n",
    "mlflow.set_experiment(\"ecd15\")"
   ]
  },
  {
   "cell_type": "markdown",
   "metadata": {},
   "source": [
    "### Amostragem"
   ]
  },
  {
   "cell_type": "code",
   "execution_count": null,
   "metadata": {},
   "outputs": [],
   "source": [
    "# amostra\n",
    "df_sample = df_treinamento.sample(n=20, random_state=42)\n",
    "\n",
    "x_features = df_sample.drop([\"price_brl\"], axis=1)  # Features\n",
    "y_target = df_sample[\"price_brl\"]  # Variável alvo\n",
    "\n",
    "df_sample.head()"
   ]
  },
  {
   "cell_type": "code",
   "execution_count": null,
   "metadata": {},
   "outputs": [],
   "source": [
    "# Gerando o JSON no formato esperado pelo MLflow Serve\n",
    "dados = {\"instances\": x_features.to_dict(orient=\"records\")}\n",
    "json_data = json.dumps(dados)"
   ]
  },
  {
   "cell_type": "code",
   "execution_count": null,
   "metadata": {},
   "outputs": [],
   "source": [
    "previsao = requests.post(\n",
    "    \"http://localhost:5000/invocations\",\n",
    "    headers={\"Content-Type\": \"application/json\"},\n",
    "    data=json_data\n",
    ")\n",
    "print(\"HTTP STATUS\", previsao.status_code)"
   ]
  },
  {
   "cell_type": "code",
   "execution_count": null,
   "metadata": {},
   "outputs": [],
   "source": [
    "previsao.text"
   ]
  },
  {
   "cell_type": "markdown",
   "metadata": {},
   "source": [
    "### Carregar e identificar o melhor modelo treinado"
   ]
  },
  {
   "cell_type": "code",
   "execution_count": null,
   "metadata": {},
   "outputs": [],
   "source": [
    "\n",
    "def carregar_modelo_com_melhor_r2(experimento_nome):\n",
    "    client = MlflowClient()\n",
    "\n",
    "    # Pega o experimento\n",
    "    experimento = client.get_experiment_by_name(experimento_nome)\n",
    "    if not experimento:\n",
    "        raise ValueError(f\"Experimento '{experimento_nome}' não encontrado.\")\n",
    "    \n",
    "    experiment_id = experimento.experiment_id\n",
    "\n",
    "    melhor_modelo = {\n",
    "        \"r2\": float('-inf'),\n",
    "        \"model_uri\": None,\n",
    "        \"nome_modelo\": None,\n",
    "        \"versao_modelo\": None,\n",
    "        \"run_id\": None\n",
    "    }\n",
    "\n",
    "    modelo_api = {\n",
    "        \"r2\": float('-inf'),\n",
    "        \"model_uri\": None,\n",
    "        \"nome_modelo\": None,\n",
    "        \"versao_modelo\": None,\n",
    "        \"run_id\": None\n",
    "    }\n",
    "\n",
    "    # Pega todas as runs ordenadas por R² (decrescente)\n",
    "    runs = client.search_runs(\n",
    "        experiment_ids=[experiment_id],\n",
    "        order_by=[\"metrics.r2 DESC\"]\n",
    "    )\n",
    "\n",
    "    modelos_registrados = client.search_registered_models()\n",
    "\n",
    "    \n",
    "\n",
    "    for modelo in modelos_registrados:\n",
    "        \n",
    "        nome_modelo = modelo.name\n",
    "\n",
    "        for versao in modelo.latest_versions:\n",
    "            # Busca informações completas da versão\n",
    "            versoes = client.search_model_versions(f\"name='{nome_modelo}'\")\n",
    "            for v in versoes:\n",
    "                run = client.get_run(v.run_id)\n",
    "\n",
    "                # Verifica se pertence ao experimento desejado\n",
    "                if run.info.experiment_id != experiment_id:\n",
    "                    continue\n",
    "\n",
    "                r2 = run.data.metrics.get(\"r2\")\n",
    "\n",
    "                source_path = v.source\n",
    "                artifact_path = source_path.split(\"/\")[-1]\n",
    "                model_uri = f\"runs:/{v.run_id}/{artifact_path}\"\n",
    "\n",
    "                print(f\"Modelo '{modelo.name}' versão {v.version} da run {v.run_id} com R² = {r2}\")\n",
    "\n",
    "                if v.current_stage == \"Production\":\n",
    "                    modelo_api.update({\n",
    "                        \"r2\": r2,\n",
    "                        \"model_uri\": model_uri,\n",
    "                        \"nome_modelo\": nome_modelo,\n",
    "                        \"versao_modelo\": v.version,\n",
    "                        \"run_id\": v.run_id\n",
    "                    })\n",
    "                \n",
    "                if r2 is not None and r2 > melhor_modelo[\"r2\"] and v.current_stage != \"Archived\":\n",
    "                    melhor_modelo.update({\n",
    "                        \"r2\": r2,\n",
    "                        \"model_uri\": model_uri,\n",
    "                        \"nome_modelo\": nome_modelo,\n",
    "                        \"versao_modelo\": v.version,\n",
    "                        \"run_id\": v.run_id\n",
    "                    })\n",
    "    \n",
    "    \n",
    "    print(f\"Melhor modelo '{melhor_modelo['nome_modelo']}' versão {melhor_modelo['versao_modelo']} da run {melhor_modelo['run_id']} com R² = {melhor_modelo['r2']:.4f}\")\n",
    "\n",
    "    print(f\"Modelo API '{modelo_api['nome_modelo']}' versão {modelo_api['versao_modelo']} da run {modelo_api['run_id']} com R² = {modelo_api['r2']:.4f}\")\n",
    "\n",
    "    modelo_carregado = mlflow.pyfunc.load_model(melhor_modelo[\"model_uri\"])\n",
    "    \n",
    "    return modelo_carregado, melhor_modelo, modelo_api\n",
    "    \n",
    "\n",
    "# Carregando modelo com melhor R2 \n",
    "loaded_model, melhor_modelo, modelo_api = carregar_modelo_com_melhor_r2(\"ecd15\")\n",
    "\n",
    "if not melhor_modelo[\"model_uri\"]:\n",
    "    print(\"Nenhum modelo em 'Staging' encontrado para esse experimento.\")\n",
    "\n",
    "existe_modelo_api = True\n",
    "if not modelo_api[\"model_uri\"]:\n",
    "    existe_modelo_api = False\n",
    "    print(\"Nenhum modelo em 'Production' encontrado para esse experimento.\")\n",
    "\n",
    "melhor_modelo, modelo_api\n"
   ]
  },
  {
   "cell_type": "markdown",
   "metadata": {},
   "source": [
    "## Predição de melhor modelo carregado x modelo API"
   ]
  },
  {
   "cell_type": "code",
   "execution_count": null,
   "metadata": {},
   "outputs": [],
   "source": [
    "# Fazer a previsão\n",
    "predictions = loaded_model.predict(x_features)\n",
    "# Adicionar as previsões ao DataFrame\n",
    "    \n",
    "df_sample[\"predicao_melhor_modelo\"] = predictions\n",
    "\n",
    "# converter previsões para o mesmo tipo da variável alvo\n",
    "df_sample[\"predicao_melhor_modelo\"] = df_sample[\"predicao_melhor_modelo\"].astype(float).round(2)\n",
    "\n",
    "colunas_exibidas = [\"price_brl\", \"predicao_melhor_modelo\"]\n",
    "\n",
    "if existe_modelo_api:\n",
    "    previsao_json = json.loads(previsao.text)\n",
    "\n",
    "    # Extrair as previsões do JSON e adicioná-las ao DataFrame\n",
    "    df_sample[\"predicao_modelo_api\"] = [round(pred, 2) for pred in previsao_json[\"predictions\"]]\n",
    "\n",
    "    colunas_exibidas = [\"price_brl\", \"predicao_modelo_api\", \"predicao_melhor_modelo\"]\n",
    "\n",
    "df_sample[colunas_exibidas]"
   ]
  },
  {
   "cell_type": "markdown",
   "metadata": {},
   "source": [
    "### Comparação R² Score dos modelos"
   ]
  },
  {
   "cell_type": "code",
   "execution_count": null,
   "metadata": {},
   "outputs": [],
   "source": [
    "# Calcular R²\n",
    "r2_melhor_modelo = r2_score(df_sample[\"price_brl\"], df_sample[\"predicao_melhor_modelo\"])\n",
    "\n",
    "if existe_modelo_api:\n",
    "    r2_api = r2_score(df_sample[\"price_brl\"], df_sample[\"predicao_melhor_modelo\"])\n",
    "    print(f\"R² API: {r2_melhor_modelo:.4f} R² Melhor Modelo: {r2_api:.4f}\")\n",
    "else:\n",
    "    print(f\"R² Melhor Modelo: {r2_melhor_modelo:.4f}\")"
   ]
  },
  {
   "cell_type": "markdown",
   "metadata": {},
   "source": [
    "### Promover melhor modelo para Produção"
   ]
  },
  {
   "cell_type": "code",
   "execution_count": null,
   "metadata": {},
   "outputs": [
    {
     "name": "stdout",
     "output_type": "stream",
     "text": [
      "Modelo gradient_boosting_model Versão 26 arquivado.\n"
     ]
    },
    {
     "name": "stdout",
     "output_type": "stream",
     "text": [
      "Modelo linear_regression_model Versão 26 arquivado.\n"
     ]
    },
    {
     "name": "stdout",
     "output_type": "stream",
     "text": [
      "Modelo decision_tree_model Versão 26 arquivado.\n"
     ]
    },
    {
     "name": "stdout",
     "output_type": "stream",
     "text": [
      "Modelo xgboost_model Versão 24 arquivado.\n"
     ]
    },
    {
     "name": "stdout",
     "output_type": "stream",
     "text": [
      "Modelo gradient_boosting_model Versão 24 arquivado.\n"
     ]
    },
    {
     "name": "stdout",
     "output_type": "stream",
     "text": [
      "Modelo linear_regression_model Versão 24 arquivado.\n"
     ]
    },
    {
     "name": "stdout",
     "output_type": "stream",
     "text": [
      "Modelo decision_tree_model Versão 24 arquivado.\n"
     ]
    },
    {
     "name": "stdout",
     "output_type": "stream",
     "text": [
      "Modelo xgboost_model Versão 23 arquivado.\n"
     ]
    },
    {
     "name": "stdout",
     "output_type": "stream",
     "text": [
      "Modelo gradient_boosting_model Versão 23 arquivado.\n"
     ]
    },
    {
     "name": "stdout",
     "output_type": "stream",
     "text": [
      "Modelo linear_regression_model Versão 23 arquivado.\n"
     ]
    },
    {
     "name": "stdout",
     "output_type": "stream",
     "text": [
      "Modelo decision_tree_model Versão 23 arquivado.\n"
     ]
    },
    {
     "name": "stdout",
     "output_type": "stream",
     "text": [
      "Modelo xgboost_model Versão 22 arquivado.\n",
      "Modelo gradient_boosting_model Versão 22 arquivado.\n"
     ]
    },
    {
     "name": "stdout",
     "output_type": "stream",
     "text": [
      "Modelo linear_regression_model Versão 22 arquivado.\n"
     ]
    },
    {
     "name": "stdout",
     "output_type": "stream",
     "text": [
      "Modelo decision_tree_model Versão 22 arquivado.\n"
     ]
    },
    {
     "name": "stdout",
     "output_type": "stream",
     "text": [
      "Modelo xgboost_model Versão 21 arquivado.\n"
     ]
    },
    {
     "name": "stdout",
     "output_type": "stream",
     "text": [
      "Modelo gradient_boosting_model Versão 21 arquivado.\n"
     ]
    },
    {
     "name": "stdout",
     "output_type": "stream",
     "text": [
      "Modelo linear_regression_model Versão 21 arquivado.\n"
     ]
    },
    {
     "name": "stdout",
     "output_type": "stream",
     "text": [
      "Modelo decision_tree_model Versão 21 arquivado.\n"
     ]
    },
    {
     "name": "stdout",
     "output_type": "stream",
     "text": [
      "Modelo xgboost_model Versão 20 arquivado.\n"
     ]
    },
    {
     "name": "stdout",
     "output_type": "stream",
     "text": [
      "Modelo gradient_boosting_model Versão 20 arquivado.\n"
     ]
    },
    {
     "name": "stdout",
     "output_type": "stream",
     "text": [
      "Modelo linear_regression_model Versão 20 arquivado.\n"
     ]
    },
    {
     "name": "stdout",
     "output_type": "stream",
     "text": [
      "Modelo decision_tree_model Versão 20 arquivado.\n",
      "Modelo xgboost_model Versão 19 arquivado.\n"
     ]
    },
    {
     "name": "stdout",
     "output_type": "stream",
     "text": [
      "Modelo gradient_boosting_model Versão 19 arquivado.\n",
      "Modelo linear_regression_model Versão 19 arquivado.\n",
      "Modelo decision_tree_model Versão 19 arquivado.\n"
     ]
    },
    {
     "name": "stdout",
     "output_type": "stream",
     "text": [
      "Modelo xgboost_model Versão 16 arquivado.\n",
      "Modelo gradient_boosting_model Versão 18 arquivado.\n"
     ]
    },
    {
     "name": "stdout",
     "output_type": "stream",
     "text": [
      "Modelo linear_regression_model Versão 18 arquivado.\n",
      "Modelo decision_tree_model Versão 18 arquivado.\n"
     ]
    },
    {
     "name": "stdout",
     "output_type": "stream",
     "text": [
      "Modelo gradient_boosting_model Versão 17 arquivado.\n",
      "Modelo linear_regression_model Versão 17 arquivado.\n",
      "Modelo decision_tree_model Versão 17 arquivado.\n"
     ]
    },
    {
     "name": "stdout",
     "output_type": "stream",
     "text": [
      "Modelo gradient_boosting_model Versão 16 arquivado.\n",
      "Modelo linear_regression_model Versão 16 arquivado.\n",
      "Modelo decision_tree_model Versão 16 arquivado.\n"
     ]
    },
    {
     "name": "stdout",
     "output_type": "stream",
     "text": [
      "Modelo gradient_boosting_model Versão 15 arquivado.\n",
      "Modelo linear_regression_model Versão 15 arquivado.\n"
     ]
    },
    {
     "name": "stdout",
     "output_type": "stream",
     "text": [
      "Modelo decision_tree_model Versão 15 arquivado.\n",
      "Modelo gradient_boosting_model Versão 14 arquivado.\n"
     ]
    },
    {
     "name": "stdout",
     "output_type": "stream",
     "text": [
      "Modelo linear_regression_model Versão 14 arquivado.\n",
      "Modelo decision_tree_model Versão 14 arquivado.\n"
     ]
    },
    {
     "name": "stdout",
     "output_type": "stream",
     "text": [
      "Modelo gradient_boosting_model Versão 13 arquivado.\n",
      "Modelo linear_regression_model Versão 13 arquivado.\n"
     ]
    },
    {
     "name": "stdout",
     "output_type": "stream",
     "text": [
      "Modelo decision_tree_model Versão 13 arquivado.\n",
      "Modelo gradient_boosting_model Versão 12 arquivado.\n"
     ]
    },
    {
     "name": "stdout",
     "output_type": "stream",
     "text": [
      "Modelo linear_regression_model Versão 12 arquivado.\n",
      "Modelo decision_tree_model Versão 12 arquivado.\n",
      "Modelo gradient_boosting_model Versão 11 arquivado.\n"
     ]
    },
    {
     "name": "stdout",
     "output_type": "stream",
     "text": [
      "Modelo linear_regression_model Versão 11 arquivado.\n",
      "Modelo decision_tree_model Versão 11 arquivado.\n"
     ]
    },
    {
     "name": "stdout",
     "output_type": "stream",
     "text": [
      "Modelo gradient_boosting_model Versão 10 arquivado.\n",
      "Modelo linear_regression_model Versão 10 arquivado.\n"
     ]
    },
    {
     "name": "stdout",
     "output_type": "stream",
     "text": [
      "Modelo decision_tree_model Versão 10 arquivado.\n",
      "Modelo gradient_boosting_model Versão 9 arquivado.\n"
     ]
    },
    {
     "name": "stdout",
     "output_type": "stream",
     "text": [
      "Modelo linear_regression_model Versão 9 arquivado.\n",
      "Modelo decision_tree_model Versão 9 arquivado.\n"
     ]
    },
    {
     "name": "stdout",
     "output_type": "stream",
     "text": [
      "Modelo gradient_boosting_model Versão 8 arquivado.\n",
      "Modelo linear_regression_model Versão 8 arquivado.\n"
     ]
    },
    {
     "name": "stdout",
     "output_type": "stream",
     "text": [
      "Modelo decision_tree_model Versão 8 arquivado.\n",
      "Modelo gradient_boosting_model Versão 7 arquivado.\n"
     ]
    },
    {
     "name": "stdout",
     "output_type": "stream",
     "text": [
      "Modelo linear_regression_model Versão 7 arquivado.\n",
      "Modelo decision_tree_model Versão 7 arquivado.\n",
      "Modelo gradient_boosting_model Versão 6 arquivado.\n"
     ]
    },
    {
     "name": "stdout",
     "output_type": "stream",
     "text": [
      "Modelo linear_regression_model Versão 6 arquivado.\n",
      "Modelo decision_tree_model Versão 6 arquivado.\n"
     ]
    },
    {
     "name": "stdout",
     "output_type": "stream",
     "text": [
      "Modelo gradient_boosting_model Versão 5 arquivado.\n",
      "Modelo linear_regression_model Versão 5 arquivado.\n"
     ]
    },
    {
     "name": "stdout",
     "output_type": "stream",
     "text": [
      "Modelo decision_tree_model Versão 5 arquivado.\n",
      "Modelo gradient_boosting_model Versão 4 arquivado.\n",
      "Modelo linear_regression_model Versão 4 arquivado.\n"
     ]
    },
    {
     "name": "stdout",
     "output_type": "stream",
     "text": [
      "Modelo decision_tree_model Versão 4 arquivado.\n",
      "Modelo gradient_boosting_model Versão 3 arquivado.\n",
      "Modelo linear_regression_model Versão 3 arquivado.\n"
     ]
    },
    {
     "name": "stdout",
     "output_type": "stream",
     "text": [
      "Modelo decision_tree_model Versão 3 arquivado.\n",
      "Modelo gradient_boosting_model Versão 2 arquivado.\n",
      "Modelo linear_regression_model Versão 2 arquivado.\n"
     ]
    },
    {
     "name": "stdout",
     "output_type": "stream",
     "text": [
      "Modelo decision_tree_model Versão 2 arquivado.\n",
      "Modelo gradient_boosting_model Versão 1 arquivado.\n",
      "Modelo linear_regression_model Versão 1 arquivado.\n"
     ]
    },
    {
     "name": "stdout",
     "output_type": "stream",
     "text": [
      "Modelo decision_tree_model Versão 1 arquivado.\n"
     ]
    }
   ],
   "source": [
    "def parar_modelo_mlflow1():\n",
    "    try:\n",
    "        resultado = subprocess.check_output(\"lsof -i :5000 -sTCP:LISTEN -nP\", shell=True)\n",
    "        linhas = resultado.decode().strip().split(\"\\n\")[1:]  # ignora cabeçalho\n",
    "        for linha in linhas:\n",
    "            if \"mlflow\" in linha.lower():\n",
    "                pid = int(linha.split()[1])\n",
    "                os.kill(pid, signal.SIGTERM)\n",
    "                print(f\"Servidor MLflow (PID {pid}) parado com sucesso.\")\n",
    "            else:\n",
    "                print(\"⚠️ Porta 5000 ocupada por outro processo que não é o MLflow. Ignorado.\")\n",
    "    except subprocess.CalledProcessError:\n",
    "        print(\"Nenhum processo ouvindo na porta 5000 foi encontrado.\")\n",
    "\n",
    "def promover_modelo_para_producao(modelo):\n",
    "    client = MlflowClient()\n",
    "\n",
    "    nome_modelo = modelo[\"nome_modelo\"]\n",
    "    versao_modelo = modelo[\"versao_modelo\"]\n",
    "\n",
    "    # Agora vamos arquivar os que ainda estão em Staging\n",
    "    todos_modelos = client.search_model_versions(\"name LIKE '%_model'\")\n",
    "    modelos_ativos = [v for v in todos_modelos if v.current_stage != \"Archived\"]\n",
    "\n",
    "    \n",
    "    for v in modelos_ativos:\n",
    "        client.transition_model_version_stage(\n",
    "             name=v.name,\n",
    "             version=v.version,\n",
    "             stage=\"Archived\"\n",
    "        )\n",
    "        print(f\"Modelo { v.name } Versão {v.version} arquivado.\")\n",
    "\n",
    "    # Promover o modelo selecionado\n",
    "    client.transition_model_version_stage(\n",
    "        name=nome_modelo,\n",
    "        version=versao_modelo,\n",
    "        stage=\"Production\",\n",
    "        archive_existing_versions=True  # arquiva automaticamente os outros em Production\n",
    "    )\n",
    "    print(f\"Modelo '{nome_modelo}' versão {versao_modelo} promovido para 'Production'.\")\n",
    "\n",
    "\n",
    "def servir_melhor_modelo(experimento_nome, modelo):\n",
    "    client = MlflowClient()\n",
    "    \n",
    "    # Parar modelo atual\n",
    "    os.system(\"bash parar_mlflow_serve.sh\")\n",
    "\n",
    "    model_uri = modelo[\"model_uri\"]\n",
    "\n",
    "    promover_modelo_para_producao(modelo)\n",
    "\n",
    "    #Tentativas de tentar parar o servidor e subir via notebook não funcionaram corretamente, deixando a utilização lenta.\n",
    "    print(\"É necessário parar e inicializar o docker novamente para carregar novo modelo na API automaticamente\")\n",
    "\n",
    "    # Reinicializar api com novo modelo\n",
    "    os.system(f\"bash reiniciar_mlflow_serve.sh {model_uri}\")\n",
    "\n",
    "servir_melhor_modelo(\"ecd15\", melhor_modelo)"
   ]
  },
  {
   "cell_type": "code",
   "execution_count": null,
   "metadata": {},
   "outputs": [],
   "source": []
  },
  {
   "cell_type": "code",
   "execution_count": null,
   "metadata": {},
   "outputs": [],
   "source": []
  }
 ],
 "metadata": {
  "kernelspec": {
   "display_name": "Python 3 (ipykernel)",
   "language": "python",
   "name": "python3"
  },
  "language_info": {
   "codemirror_mode": {
    "name": "ipython",
    "version": 3
   },
   "file_extension": ".py",
   "mimetype": "text/x-python",
   "name": "python",
   "nbconvert_exporter": "python",
   "pygments_lexer": "ipython3",
   "version": "3.10.17"
  }
 },
 "nbformat": 4,
 "nbformat_minor": 4
}
