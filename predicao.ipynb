{
 "cells": [
  {
   "cell_type": "markdown",
   "metadata": {},
   "source": [
    "# Treinamento"
   ]
  },
  {
   "cell_type": "markdown",
   "metadata": {},
   "source": [
    "## Inicialização"
   ]
  },
  {
   "cell_type": "code",
   "execution_count": 1,
   "metadata": {
    "execution": {
     "iopub.execute_input": "2025-04-18T00:48:06.063211Z",
     "iopub.status.busy": "2025-04-18T00:48:06.062299Z",
     "iopub.status.idle": "2025-04-18T00:48:08.794955Z",
     "shell.execute_reply": "2025-04-18T00:48:08.792958Z"
    }
   },
   "outputs": [],
   "source": [
    "# Config Inicial\n",
    "import json\n",
    "import mlflow.pyfunc\n",
    "import shutil\n",
    "import pandas as pd\n",
    "import requests\n",
    "from sklearn.metrics import r2_score\n",
    "import mlflow\n",
    "from mlflow.tracking import MlflowClient\n",
    "\n",
    "import os\n",
    "import signal\n",
    "import subprocess\n"
   ]
  },
  {
   "cell_type": "markdown",
   "metadata": {},
   "source": [
    "### Leitura"
   ]
  },
  {
   "cell_type": "code",
   "execution_count": 2,
   "metadata": {
    "execution": {
     "iopub.execute_input": "2025-04-18T00:48:08.801191Z",
     "iopub.status.busy": "2025-04-18T00:48:08.798965Z",
     "iopub.status.idle": "2025-04-18T00:48:08.876649Z",
     "shell.execute_reply": "2025-04-18T00:48:08.874699Z"
    }
   },
   "outputs": [
    {
     "data": {
      "text/html": [
       "<div>\n",
       "<style scoped>\n",
       "    .dataframe tbody tr th:only-of-type {\n",
       "        vertical-align: middle;\n",
       "    }\n",
       "\n",
       "    .dataframe tbody tr th {\n",
       "        vertical-align: top;\n",
       "    }\n",
       "\n",
       "    .dataframe thead th {\n",
       "        text-align: right;\n",
       "    }\n",
       "</style>\n",
       "<table border=\"1\" class=\"dataframe\">\n",
       "  <thead>\n",
       "    <tr style=\"text-align: right;\">\n",
       "      <th></th>\n",
       "      <th>id</th>\n",
       "      <th>property_type</th>\n",
       "      <th>state</th>\n",
       "      <th>region</th>\n",
       "      <th>lat</th>\n",
       "      <th>lon</th>\n",
       "      <th>area_m2</th>\n",
       "      <th>price_brl</th>\n",
       "      <th>city</th>\n",
       "    </tr>\n",
       "  </thead>\n",
       "  <tbody>\n",
       "    <tr>\n",
       "      <th>0</th>\n",
       "      <td>1.0</td>\n",
       "      <td>apartment</td>\n",
       "      <td>Pernambuco</td>\n",
       "      <td>Northeast</td>\n",
       "      <td>-8.134204</td>\n",
       "      <td>-34.906326</td>\n",
       "      <td>72.0</td>\n",
       "      <td>414222.98</td>\n",
       "      <td>Recife</td>\n",
       "    </tr>\n",
       "    <tr>\n",
       "      <th>1</th>\n",
       "      <td>2.0</td>\n",
       "      <td>apartment</td>\n",
       "      <td>Pernambuco</td>\n",
       "      <td>Northeast</td>\n",
       "      <td>-8.126664</td>\n",
       "      <td>-34.903924</td>\n",
       "      <td>136.0</td>\n",
       "      <td>848408.53</td>\n",
       "      <td>Recife</td>\n",
       "    </tr>\n",
       "    <tr>\n",
       "      <th>2</th>\n",
       "      <td>3.0</td>\n",
       "      <td>apartment</td>\n",
       "      <td>Pernambuco</td>\n",
       "      <td>Northeast</td>\n",
       "      <td>-8.125550</td>\n",
       "      <td>-34.907601</td>\n",
       "      <td>75.0</td>\n",
       "      <td>299438.28</td>\n",
       "      <td>Recife</td>\n",
       "    </tr>\n",
       "    <tr>\n",
       "      <th>3</th>\n",
       "      <td>4.0</td>\n",
       "      <td>apartment</td>\n",
       "      <td>Pernambuco</td>\n",
       "      <td>Northeast</td>\n",
       "      <td>-8.120249</td>\n",
       "      <td>-34.895920</td>\n",
       "      <td>187.0</td>\n",
       "      <td>848408.53</td>\n",
       "      <td>Recife</td>\n",
       "    </tr>\n",
       "    <tr>\n",
       "      <th>4</th>\n",
       "      <td>5.0</td>\n",
       "      <td>apartment</td>\n",
       "      <td>Pernambuco</td>\n",
       "      <td>Northeast</td>\n",
       "      <td>-8.142666</td>\n",
       "      <td>-34.906906</td>\n",
       "      <td>80.0</td>\n",
       "      <td>464129.36</td>\n",
       "      <td>Recife</td>\n",
       "    </tr>\n",
       "  </tbody>\n",
       "</table>\n",
       "</div>"
      ],
      "text/plain": [
       "    id property_type       state     region       lat        lon  area_m2  \\\n",
       "0  1.0     apartment  Pernambuco  Northeast -8.134204 -34.906326     72.0   \n",
       "1  2.0     apartment  Pernambuco  Northeast -8.126664 -34.903924    136.0   \n",
       "2  3.0     apartment  Pernambuco  Northeast -8.125550 -34.907601     75.0   \n",
       "3  4.0     apartment  Pernambuco  Northeast -8.120249 -34.895920    187.0   \n",
       "4  5.0     apartment  Pernambuco  Northeast -8.142666 -34.906906     80.0   \n",
       "\n",
       "   price_brl    city  \n",
       "0  414222.98  Recife  \n",
       "1  848408.53  Recife  \n",
       "2  299438.28  Recife  \n",
       "3  848408.53  Recife  \n",
       "4  464129.36  Recife  "
      ]
     },
     "execution_count": 2,
     "metadata": {},
     "output_type": "execute_result"
    }
   ],
   "source": [
    "# Descomentar, quando quiser carregar para o treinamento, dados originais defasados para primeira execução do treinamento\n",
    "#shutil.copyfile(\"dataset/brasil_estado_cidade.csv\", \"dataset/dados_treinamento.csv\")\n",
    "\n",
    "# Carregar o conjunto de dados\n",
    "df_treinamento = pd.read_csv(\"dataset/dados_treinamento.csv\", encoding=\"utf-8\")\n",
    "\n",
    "# Eliminando registros com valores null\n",
    "df_treinamento.dropna(inplace=True)\n",
    "\n",
    "# float64\n",
    "df_treinamento = df_treinamento.astype({col: 'float64' for col in df_treinamento.select_dtypes(include='int').columns})\n",
    "\n",
    "df_treinamento.head()"
   ]
  },
  {
   "cell_type": "code",
   "execution_count": 3,
   "metadata": {
    "execution": {
     "iopub.execute_input": "2025-04-18T00:48:08.913407Z",
     "iopub.status.busy": "2025-04-18T00:48:08.912119Z",
     "iopub.status.idle": "2025-04-18T00:48:09.607780Z",
     "shell.execute_reply": "2025-04-18T00:48:09.606085Z"
    }
   },
   "outputs": [
    {
     "data": {
      "text/plain": [
       "<Experiment: artifact_location='/app/mlruns/0', creation_time=1744907315763, experiment_id='0', last_update_time=1744907894136, lifecycle_stage='active', name='ecd15', tags={}>"
      ]
     },
     "execution_count": 3,
     "metadata": {},
     "output_type": "execute_result"
    }
   ],
   "source": [
    "mlflow.set_tracking_uri(\"sqlite:///mlflow.db\")\n",
    "\n",
    "mlflow.set_experiment(\"ecd15\")"
   ]
  },
  {
   "cell_type": "markdown",
   "metadata": {},
   "source": [
    "### Amostragem"
   ]
  },
  {
   "cell_type": "code",
   "execution_count": 4,
   "metadata": {
    "execution": {
     "iopub.execute_input": "2025-04-18T00:48:09.612303Z",
     "iopub.status.busy": "2025-04-18T00:48:09.611902Z",
     "iopub.status.idle": "2025-04-18T00:48:09.630138Z",
     "shell.execute_reply": "2025-04-18T00:48:09.629108Z"
    }
   },
   "outputs": [
    {
     "data": {
      "text/html": [
       "<div>\n",
       "<style scoped>\n",
       "    .dataframe tbody tr th:only-of-type {\n",
       "        vertical-align: middle;\n",
       "    }\n",
       "\n",
       "    .dataframe tbody tr th {\n",
       "        vertical-align: top;\n",
       "    }\n",
       "\n",
       "    .dataframe thead th {\n",
       "        text-align: right;\n",
       "    }\n",
       "</style>\n",
       "<table border=\"1\" class=\"dataframe\">\n",
       "  <thead>\n",
       "    <tr style=\"text-align: right;\">\n",
       "      <th></th>\n",
       "      <th>id</th>\n",
       "      <th>property_type</th>\n",
       "      <th>state</th>\n",
       "      <th>region</th>\n",
       "      <th>lat</th>\n",
       "      <th>lon</th>\n",
       "      <th>area_m2</th>\n",
       "      <th>price_brl</th>\n",
       "      <th>city</th>\n",
       "    </tr>\n",
       "  </thead>\n",
       "  <tbody>\n",
       "    <tr>\n",
       "      <th>6383</th>\n",
       "      <td>6384.0</td>\n",
       "      <td>apartment</td>\n",
       "      <td>Rio de Janeiro</td>\n",
       "      <td>Southeast</td>\n",
       "      <td>-22.921227</td>\n",
       "      <td>-43.225548</td>\n",
       "      <td>125.0</td>\n",
       "      <td>787484.34</td>\n",
       "      <td>Rio de Janeiro</td>\n",
       "    </tr>\n",
       "    <tr>\n",
       "      <th>9172</th>\n",
       "      <td>9173.0</td>\n",
       "      <td>apartment</td>\n",
       "      <td>Santa Catarina</td>\n",
       "      <td>South</td>\n",
       "      <td>-27.750971</td>\n",
       "      <td>-48.779408</td>\n",
       "      <td>241.0</td>\n",
       "      <td>933875.69</td>\n",
       "      <td>Santo Amaro da Imperatriz</td>\n",
       "    </tr>\n",
       "    <tr>\n",
       "      <th>3868</th>\n",
       "      <td>3869.0</td>\n",
       "      <td>apartment</td>\n",
       "      <td>Rio de Janeiro</td>\n",
       "      <td>Southeast</td>\n",
       "      <td>-22.954330</td>\n",
       "      <td>-43.195595</td>\n",
       "      <td>112.0</td>\n",
       "      <td>1397378.74</td>\n",
       "      <td>Rio de Janeiro</td>\n",
       "    </tr>\n",
       "    <tr>\n",
       "      <th>4676</th>\n",
       "      <td>4677.0</td>\n",
       "      <td>apartment</td>\n",
       "      <td>Rio de Janeiro</td>\n",
       "      <td>Southeast</td>\n",
       "      <td>-23.000669</td>\n",
       "      <td>-43.392197</td>\n",
       "      <td>106.0</td>\n",
       "      <td>998127.67</td>\n",
       "      <td>Rio de Janeiro</td>\n",
       "    </tr>\n",
       "    <tr>\n",
       "      <th>18133</th>\n",
       "      <td>18134.0</td>\n",
       "      <td>house</td>\n",
       "      <td>SP</td>\n",
       "      <td>southeast</td>\n",
       "      <td>-23.588417</td>\n",
       "      <td>-46.664858</td>\n",
       "      <td>350.0</td>\n",
       "      <td>4000000.00</td>\n",
       "      <td>São Paulo</td>\n",
       "    </tr>\n",
       "  </tbody>\n",
       "</table>\n",
       "</div>"
      ],
      "text/plain": [
       "            id property_type           state     region        lat        lon  \\\n",
       "6383    6384.0     apartment  Rio de Janeiro  Southeast -22.921227 -43.225548   \n",
       "9172    9173.0     apartment  Santa Catarina      South -27.750971 -48.779408   \n",
       "3868    3869.0     apartment  Rio de Janeiro  Southeast -22.954330 -43.195595   \n",
       "4676    4677.0     apartment  Rio de Janeiro  Southeast -23.000669 -43.392197   \n",
       "18133  18134.0         house              SP  southeast -23.588417 -46.664858   \n",
       "\n",
       "       area_m2   price_brl                       city  \n",
       "6383     125.0   787484.34             Rio de Janeiro  \n",
       "9172     241.0   933875.69  Santo Amaro da Imperatriz  \n",
       "3868     112.0  1397378.74             Rio de Janeiro  \n",
       "4676     106.0   998127.67             Rio de Janeiro  \n",
       "18133    350.0  4000000.00                  São Paulo  "
      ]
     },
     "execution_count": 4,
     "metadata": {},
     "output_type": "execute_result"
    }
   ],
   "source": [
    "# amostra\n",
    "df_sample = df_treinamento.sample(n=20, random_state=42)\n",
    "\n",
    "x_features = df_sample.drop([\"price_brl\"], axis=1)  # Features\n",
    "y_target = df_sample[\"price_brl\"]  # Variável alvo\n",
    "\n",
    "df_sample.head()"
   ]
  },
  {
   "cell_type": "code",
   "execution_count": 5,
   "metadata": {
    "execution": {
     "iopub.execute_input": "2025-04-18T00:48:09.634045Z",
     "iopub.status.busy": "2025-04-18T00:48:09.633343Z",
     "iopub.status.idle": "2025-04-18T00:48:09.643459Z",
     "shell.execute_reply": "2025-04-18T00:48:09.641329Z"
    }
   },
   "outputs": [],
   "source": [
    "# Gerando o JSON no formato esperado pelo MLflow Serve\n",
    "dados = {\"instances\": x_features.to_dict(orient=\"records\")}\n",
    "json_data = json.dumps(dados)"
   ]
  },
  {
   "cell_type": "code",
   "execution_count": 6,
   "metadata": {
    "execution": {
     "iopub.execute_input": "2025-04-18T00:48:09.647060Z",
     "iopub.status.busy": "2025-04-18T00:48:09.646660Z",
     "iopub.status.idle": "2025-04-18T00:48:09.680255Z",
     "shell.execute_reply": "2025-04-18T00:48:09.679170Z"
    }
   },
   "outputs": [
    {
     "name": "stdout",
     "output_type": "stream",
     "text": [
      "HTTP STATUS 200\n"
     ]
    }
   ],
   "source": [
    "previsao = requests.post(\n",
    "    \"http://localhost:5000/invocations\",\n",
    "    headers={\"Content-Type\": \"application/json\"},\n",
    "    data=json_data\n",
    ")\n",
    "print(\"HTTP STATUS\", previsao.status_code)"
   ]
  },
  {
   "cell_type": "code",
   "execution_count": 7,
   "metadata": {
    "execution": {
     "iopub.execute_input": "2025-04-18T00:48:09.685139Z",
     "iopub.status.busy": "2025-04-18T00:48:09.684027Z",
     "iopub.status.idle": "2025-04-18T00:48:09.692814Z",
     "shell.execute_reply": "2025-04-18T00:48:09.690227Z"
    }
   },
   "outputs": [
    {
     "data": {
      "text/plain": [
       "'{\"predictions\": [978233.0625, 906950.25, 1373972.5, 1051356.75, 1151326.0, 669886.3125, 1369107.5, 1067672.75, 358558.21875, 1130626.0, 673395.375, 715957.8125, 689171.1875, 1025426.875, 687039.875, 1130626.0, 1029650.625, 959656.5, 849469.125, 1066053.125]}'"
      ]
     },
     "execution_count": 7,
     "metadata": {},
     "output_type": "execute_result"
    }
   ],
   "source": [
    "previsao.text"
   ]
  },
  {
   "cell_type": "markdown",
   "metadata": {},
   "source": [
    "### Carregar e identificar o melhor modelo treinado"
   ]
  },
  {
   "cell_type": "code",
   "execution_count": 8,
   "metadata": {
    "execution": {
     "iopub.execute_input": "2025-04-18T00:48:09.696817Z",
     "iopub.status.busy": "2025-04-18T00:48:09.696106Z",
     "iopub.status.idle": "2025-04-18T00:48:15.106502Z",
     "shell.execute_reply": "2025-04-18T00:48:15.105143Z"
    }
   },
   "outputs": [
    {
     "name": "stdout",
     "output_type": "stream",
     "text": [
      "Modelo 'decision_tree_model' versão 18 da run 23f68634125f4e6aba26569957016792 com R² = 0.7569166994450989\n",
      "Modelo 'decision_tree_model' versão 17 da run 150cfef45bfa41cd9ecdafe4ba8ad274 com R² = 0.7667059447759692\n",
      "Modelo 'decision_tree_model' versão 16 da run 6ef5e3a3072a42ea8b82930fbea43f7f com R² = 0.8182087518611222\n",
      "Modelo 'decision_tree_model' versão 15 da run ed05ebdb1134422389b41cd0e85464fd com R² = 0.745466232475294\n",
      "Modelo 'decision_tree_model' versão 14 da run f8cef16acb504893a95847cebb0a50f6 com R² = 0.7797718609172126\n",
      "Modelo 'decision_tree_model' versão 13 da run 5afc011a18654fbe98cd94e534a356c5 com R² = 0.8001423748708438\n",
      "Modelo 'decision_tree_model' versão 12 da run 711a41697187411f9a14ab5251bc3465 com R² = 0.7090054436900005\n",
      "Modelo 'decision_tree_model' versão 11 da run dae3aeec7f904255888e7111ef45cb36 com R² = 0.725827778319228\n",
      "Modelo 'decision_tree_model' versão 10 da run 54f38693af7445df98991da0e161ff03 com R² = 0.7670971810981704\n",
      "Modelo 'decision_tree_model' versão 9 da run 01390f347f15453aac15aca4f0dd63ff com R² = 0.44289446310468705\n"
     ]
    },
    {
     "name": "stdout",
     "output_type": "stream",
     "text": [
      "Modelo 'decision_tree_model' versão 8 da run e2bfe8f204a6443b948b43d1d1e9fb3e com R² = 0.4501405374386255\n",
      "Modelo 'decision_tree_model' versão 7 da run 3b26914ee43a42a1b555950bab92eff0 com R² = 0.4662427582353449\n",
      "Modelo 'decision_tree_model' versão 6 da run 87b82fd6df43456cbac3f5b23fc1bff6 com R² = 0.4342869398037643\n",
      "Modelo 'decision_tree_model' versão 5 da run b6f5c3ba42264a0eb2a1f59bf9583e13 com R² = 0.4688968380333659\n",
      "Modelo 'decision_tree_model' versão 4 da run 3acdfe766be546bca53899f8519cfe6b com R² = 0.4607357460145043\n",
      "Modelo 'decision_tree_model' versão 3 da run 2c1c0982f0934b0eb0200e07dbd3daa4 com R² = 0.47475884579582217\n",
      "Modelo 'decision_tree_model' versão 2 da run 9ebb52752ae84be58ef8aa5eacad1477 com R² = 0.4839914622045445\n",
      "Modelo 'decision_tree_model' versão 1 da run ab47ff20b3ad490ea4e8f847603a667c com R² = 0.4643648515387715\n"
     ]
    },
    {
     "name": "stdout",
     "output_type": "stream",
     "text": [
      "Modelo 'gradient_boosting_model' versão 18 da run c102d3f88cc44df4a5c89c48aefef2db com R² = 0.7571880920801617\n",
      "Modelo 'gradient_boosting_model' versão 17 da run 3eea98cdfe57400bbec20dc4171d7a9c com R² = 0.7596712814915327\n",
      "Modelo 'gradient_boosting_model' versão 16 da run 80a5771892344126bdc266e88f83eea7 com R² = 0.7863802794605161\n",
      "Modelo 'gradient_boosting_model' versão 15 da run 4b6d9d6cfddb4aaf85a393e31de2e08e com R² = 0.7616068455531215\n",
      "Modelo 'gradient_boosting_model' versão 14 da run b0a6d92f684e47baa912b8395c06f371 com R² = 0.753435098460034\n",
      "Modelo 'gradient_boosting_model' versão 13 da run a50aca3ee5fa452dbbc2d7d934366b16 com R² = 0.7596733339941215\n",
      "Modelo 'gradient_boosting_model' versão 12 da run f347da595f9d4924b493964609c5b040 com R² = 0.7643279504584899\n",
      "Modelo 'gradient_boosting_model' versão 11 da run 4cfc82e75b7b489598742b6f242696ae com R² = 0.768577748198987\n",
      "Modelo 'gradient_boosting_model' versão 10 da run 22cfb978a6574be79ff2e1223011f722 com R² = 0.7754390469506066\n"
     ]
    },
    {
     "name": "stdout",
     "output_type": "stream",
     "text": [
      "Modelo 'gradient_boosting_model' versão 9 da run f044bb507c834d06ab5d6d82712182cf com R² = 0.6523843262185738\n",
      "Modelo 'gradient_boosting_model' versão 8 da run 05ae2a6d50c747ada336fe92da0a8f27 com R² = 0.6492820401100539\n",
      "Modelo 'gradient_boosting_model' versão 7 da run 1b9d123a59c24ac3b5590efa906b0709 com R² = 0.6709393751907473\n",
      "Modelo 'gradient_boosting_model' versão 6 da run a777a623d06442c0bcfc3cc601f00bd9 com R² = 0.656862768494582\n",
      "Modelo 'gradient_boosting_model' versão 5 da run a635b10f892b4f699f4cea8440b371ab com R² = 0.6599351198710504\n",
      "Modelo 'gradient_boosting_model' versão 4 da run 54867fd3396248e29e04dc85bd95d293 com R² = 0.6600230971249696\n",
      "Modelo 'gradient_boosting_model' versão 3 da run 3249067b29234dcda01cd072eb4ff7c3 com R² = 0.6796071604125762\n",
      "Modelo 'gradient_boosting_model' versão 2 da run 8ae7fe8a8ed9465e89ae3affdfc01647 com R² = 0.6872079997884422\n",
      "Modelo 'gradient_boosting_model' versão 1 da run 9797126887fc418e80976a54d4972001 com R² = 0.6753892857373056\n"
     ]
    },
    {
     "name": "stdout",
     "output_type": "stream",
     "text": [
      "Modelo 'linear_regression_model' versão 18 da run 726af900e51a44de9211d882c2805224 com R² = -38.837751174255274\n",
      "Modelo 'linear_regression_model' versão 17 da run af1321eb7f8f4a55b34aed9672082920 com R² = -75.20402755500736\n",
      "Modelo 'linear_regression_model' versão 16 da run 279392b71b244e45ab2d4d6fb116e291 com R² = -53.61064994753689\n",
      "Modelo 'linear_regression_model' versão 15 da run 721d6209a4a94186b03d42a674b772eb com R² = 0.3329851214196373\n",
      "Modelo 'linear_regression_model' versão 14 da run 118ac6ede0804befa9c4357393320c0c com R² = 0.33032526020028585\n",
      "Modelo 'linear_regression_model' versão 13 da run b13b7d38438a47ff965f205cf5ce4d9c com R² = 0.3195849483844625\n",
      "Modelo 'linear_regression_model' versão 12 da run ec8c6f3833594c3e9693829090a0693f com R² = -42.622918299380565\n",
      "Modelo 'linear_regression_model' versão 11 da run e509cd776ec14a98a516660f0981ab66 com R² = -86.29611390384845\n",
      "Modelo 'linear_regression_model' versão 10 da run fcbf9e53346b4f7c8337d96ade1a5759 com R² = 0.33811662162762457\n"
     ]
    },
    {
     "name": "stdout",
     "output_type": "stream",
     "text": [
      "Modelo 'linear_regression_model' versão 9 da run 99355716932b40beb54b90031034b8d4 com R² = 0.505998121451072\n",
      "Modelo 'linear_regression_model' versão 8 da run 6f0957cf3cb54947bf29b93107ec07c2 com R² = 0.5056141153532079\n",
      "Modelo 'linear_regression_model' versão 7 da run 9f6f828a3ac94a538694082715959906 com R² = 0.5147260010464185\n",
      "Modelo 'linear_regression_model' versão 6 da run 443035d267ac491ab9ca602fbc675dd8 com R² = 0.5135398078499168\n",
      "Modelo 'linear_regression_model' versão 5 da run 7b090b223aaf48c79ccfc37dbb03537d com R² = 0.5201365184228184\n",
      "Modelo 'linear_regression_model' versão 4 da run a715613fdc074925804da4ac8e763240 com R² = 0.5186459601745141\n",
      "Modelo 'linear_regression_model' versão 3 da run 25fd3b6233f04f15b8a3bf2344da536a com R² = 0.5307410902454659\n",
      "Modelo 'linear_regression_model' versão 2 da run 620a06b265b14288becb37edbc9a7138 com R² = 0.545227078275053\n",
      "Modelo 'linear_regression_model' versão 1 da run a65a55c066404f8bad2dca56d2cb8718 com R² = 0.5319998609827157\n"
     ]
    },
    {
     "name": "stdout",
     "output_type": "stream",
     "text": [
      "Modelo 'random_forest_model' versão 18 da run 969cdbab82234386a6f0776fb4f52dad com R² = 0.8523559427864997\n",
      "Modelo 'random_forest_model' versão 17 da run a56219fba65246e3857536ff74094026 com R² = 0.8602101167209372\n",
      "Modelo 'random_forest_model' versão 16 da run 492123208a2d4930b005ed332f2d1abb com R² = 0.8904461535922401\n",
      "Modelo 'random_forest_model' versão 15 da run efd73360e93d4c3a80a1dd5510a0b73b com R² = 0.8406147055949879\n",
      "Modelo 'random_forest_model' versão 14 da run 10cec532686e45c5a54672d3d38ac77c com R² = 0.8499860064198073\n",
      "Modelo 'random_forest_model' versão 13 da run aea9651056034be0a26b3f7ddff0cb54 com R² = 0.8569121662150836\n",
      "Modelo 'random_forest_model' versão 12 da run e9b7371484f84d74b9334a8f1f2217cf com R² = 0.8422199346757024\n",
      "Modelo 'random_forest_model' versão 11 da run bcfd4ff7cd454d8292d14f19053ed4b9 com R² = 0.8406391296722381\n",
      "Modelo 'random_forest_model' versão 10 da run 2b58ea33dfac410d80b20a5797d5810c com R² = 0.8498020012718455\n"
     ]
    },
    {
     "name": "stdout",
     "output_type": "stream",
     "text": [
      "Modelo 'random_forest_model' versão 9 da run 040edf1217bb4b248a69309b9d02fc7d com R² = 0.6830974803708945\n",
      "Modelo 'random_forest_model' versão 8 da run f6790a4c9dd947349de71668f1927463 com R² = 0.6829200912087237\n",
      "Modelo 'random_forest_model' versão 7 da run 716a57ebe6cd430590752754e679afaa com R² = 0.6942547678310177\n",
      "Modelo 'random_forest_model' versão 6 da run 9e59eda49171433e9474650943b4f750 com R² = 0.6776453306122765\n",
      "Modelo 'random_forest_model' versão 5 da run 991379ad143a4ebcbeb29c7ccd7d01cb com R² = 0.6864647853393464\n",
      "Modelo 'random_forest_model' versão 4 da run 78bcd71be4da4a548cf26a573a94c4a8 com R² = 0.6927963568986575\n",
      "Modelo 'random_forest_model' versão 3 da run 2e5c390cdec64c658edad1ad524ec3bd com R² = 0.6969121638371459\n",
      "Modelo 'random_forest_model' versão 2 da run 2205578702484909bbcf8c1e3ce4cfec com R² = 0.7051748601006242\n",
      "Modelo 'random_forest_model' versão 1 da run feea9309c7ad433cb7b0b142f381f084 com R² = 0.6889370111288469\n"
     ]
    },
    {
     "name": "stdout",
     "output_type": "stream",
     "text": [
      "Modelo 'xgboost_model' versão 18 da run 348a9d5f9f3247ed83bf175a45fc366d com R² = 0.8427781011631683\n",
      "Modelo 'xgboost_model' versão 17 da run 3ce29d9937d34f4b9f32aa4440dfe6d5 com R² = 0.8349147608600651\n",
      "Modelo 'xgboost_model' versão 16 da run b0962634469b496982673e420f041365 com R² = 0.863893477059456\n",
      "Modelo 'xgboost_model' versão 15 da run 9b2cb118c1c44b0295166cade8ddc9a5 com R² = 0.8150327499967401\n",
      "Modelo 'xgboost_model' versão 14 da run f679b380c136454ea1b73f44199ed01d com R² = 0.8359118294814103\n",
      "Modelo 'xgboost_model' versão 13 da run a13e6a5ed49c4854af31b59d46bf3bf9 com R² = 0.8344277104028837\n",
      "Modelo 'xgboost_model' versão 12 da run 992cd26a63df4a54b3fae36e42dbf1f1 com R² = 0.8376653626985738\n",
      "Modelo 'xgboost_model' versão 11 da run c3a295ce39f9416ba680aa97c5769966 com R² = 0.8349100161979262\n",
      "Modelo 'xgboost_model' versão 10 da run afa5e381b8484494b672b388043a6385 com R² = 0.837036426485852\n"
     ]
    },
    {
     "name": "stdout",
     "output_type": "stream",
     "text": [
      "Modelo 'xgboost_model' versão 1 da run f1648a50cd9740c2a286f2103a29b1c8 com R² = 0.6904415768747783\n",
      "Modelo 'xgboost_model' versão 2 da run a957f24328194282bd9c523bcfb7cb38 com R² = 0.7128160768989399\n",
      "Modelo 'xgboost_model' versão 3 da run ba80e3d8f13744468ba5963965a53b67 com R² = 0.7040234028906887\n",
      "Modelo 'xgboost_model' versão 4 da run 21385a91261642d6bbcb8f01bf3740c2 com R² = 0.7026213088601732\n",
      "Modelo 'xgboost_model' versão 5 da run 9d822dcb2b5d4c7ab1bb29684b99494f com R² = 0.6980056141375233\n",
      "Modelo 'xgboost_model' versão 6 da run ee5d37d527554e0fbdbfad283979d1c2 com R² = 0.6883462328636021\n",
      "Modelo 'xgboost_model' versão 8 da run 471853b24301459a9edbeb08a3f3897d com R² = 0.6860089789442159\n",
      "Modelo 'xgboost_model' versão 9 da run e8ffb7b6d6124263a2fb549e0d55c3e0 com R² = 0.6876703524937664\n",
      "Modelo 'xgboost_model' versão 7 da run 8cc1b3f756e34b03bbc93c19aace7a92 com R² = 0.7165948434149507\n"
     ]
    },
    {
     "name": "stdout",
     "output_type": "stream",
     "text": [
      "Modelo 'xgboost_model' versão 18 da run 348a9d5f9f3247ed83bf175a45fc366d com R² = 0.8427781011631683\n",
      "Modelo 'xgboost_model' versão 17 da run 3ce29d9937d34f4b9f32aa4440dfe6d5 com R² = 0.8349147608600651\n",
      "Modelo 'xgboost_model' versão 16 da run b0962634469b496982673e420f041365 com R² = 0.863893477059456\n",
      "Modelo 'xgboost_model' versão 15 da run 9b2cb118c1c44b0295166cade8ddc9a5 com R² = 0.8150327499967401\n",
      "Modelo 'xgboost_model' versão 14 da run f679b380c136454ea1b73f44199ed01d com R² = 0.8359118294814103\n",
      "Modelo 'xgboost_model' versão 13 da run a13e6a5ed49c4854af31b59d46bf3bf9 com R² = 0.8344277104028837\n",
      "Modelo 'xgboost_model' versão 12 da run 992cd26a63df4a54b3fae36e42dbf1f1 com R² = 0.8376653626985738\n",
      "Modelo 'xgboost_model' versão 11 da run c3a295ce39f9416ba680aa97c5769966 com R² = 0.8349100161979262\n",
      "Modelo 'xgboost_model' versão 10 da run afa5e381b8484494b672b388043a6385 com R² = 0.837036426485852\n"
     ]
    },
    {
     "name": "stdout",
     "output_type": "stream",
     "text": [
      "Modelo 'xgboost_model' versão 1 da run f1648a50cd9740c2a286f2103a29b1c8 com R² = 0.6904415768747783\n",
      "Modelo 'xgboost_model' versão 2 da run a957f24328194282bd9c523bcfb7cb38 com R² = 0.7128160768989399\n",
      "Modelo 'xgboost_model' versão 3 da run ba80e3d8f13744468ba5963965a53b67 com R² = 0.7040234028906887\n",
      "Modelo 'xgboost_model' versão 4 da run 21385a91261642d6bbcb8f01bf3740c2 com R² = 0.7026213088601732\n",
      "Modelo 'xgboost_model' versão 5 da run 9d822dcb2b5d4c7ab1bb29684b99494f com R² = 0.6980056141375233\n",
      "Modelo 'xgboost_model' versão 6 da run ee5d37d527554e0fbdbfad283979d1c2 com R² = 0.6883462328636021\n",
      "Modelo 'xgboost_model' versão 8 da run 471853b24301459a9edbeb08a3f3897d com R² = 0.6860089789442159\n",
      "Modelo 'xgboost_model' versão 9 da run e8ffb7b6d6124263a2fb549e0d55c3e0 com R² = 0.6876703524937664\n",
      "Modelo 'xgboost_model' versão 7 da run 8cc1b3f756e34b03bbc93c19aace7a92 com R² = 0.7165948434149507\n"
     ]
    },
    {
     "name": "stdout",
     "output_type": "stream",
     "text": [
      "Modelo 'xgboost_model' versão 18 da run 348a9d5f9f3247ed83bf175a45fc366d com R² = 0.8427781011631683\n",
      "Modelo 'xgboost_model' versão 17 da run 3ce29d9937d34f4b9f32aa4440dfe6d5 com R² = 0.8349147608600651\n",
      "Modelo 'xgboost_model' versão 16 da run b0962634469b496982673e420f041365 com R² = 0.863893477059456\n",
      "Modelo 'xgboost_model' versão 15 da run 9b2cb118c1c44b0295166cade8ddc9a5 com R² = 0.8150327499967401\n",
      "Modelo 'xgboost_model' versão 14 da run f679b380c136454ea1b73f44199ed01d com R² = 0.8359118294814103\n",
      "Modelo 'xgboost_model' versão 13 da run a13e6a5ed49c4854af31b59d46bf3bf9 com R² = 0.8344277104028837\n",
      "Modelo 'xgboost_model' versão 12 da run 992cd26a63df4a54b3fae36e42dbf1f1 com R² = 0.8376653626985738\n",
      "Modelo 'xgboost_model' versão 11 da run c3a295ce39f9416ba680aa97c5769966 com R² = 0.8349100161979262\n",
      "Modelo 'xgboost_model' versão 10 da run afa5e381b8484494b672b388043a6385 com R² = 0.837036426485852\n"
     ]
    },
    {
     "name": "stdout",
     "output_type": "stream",
     "text": [
      "Modelo 'xgboost_model' versão 1 da run f1648a50cd9740c2a286f2103a29b1c8 com R² = 0.6904415768747783\n",
      "Modelo 'xgboost_model' versão 2 da run a957f24328194282bd9c523bcfb7cb38 com R² = 0.7128160768989399\n",
      "Modelo 'xgboost_model' versão 3 da run ba80e3d8f13744468ba5963965a53b67 com R² = 0.7040234028906887\n",
      "Modelo 'xgboost_model' versão 4 da run 21385a91261642d6bbcb8f01bf3740c2 com R² = 0.7026213088601732\n",
      "Modelo 'xgboost_model' versão 5 da run 9d822dcb2b5d4c7ab1bb29684b99494f com R² = 0.6980056141375233\n",
      "Modelo 'xgboost_model' versão 6 da run ee5d37d527554e0fbdbfad283979d1c2 com R² = 0.6883462328636021\n",
      "Modelo 'xgboost_model' versão 8 da run 471853b24301459a9edbeb08a3f3897d com R² = 0.6860089789442159\n",
      "Modelo 'xgboost_model' versão 9 da run e8ffb7b6d6124263a2fb549e0d55c3e0 com R² = 0.6876703524937664\n",
      "Modelo 'xgboost_model' versão 7 da run 8cc1b3f756e34b03bbc93c19aace7a92 com R² = 0.7165948434149507\n",
      "Melhor modelo 'random_forest_model' versão 16 da run 492123208a2d4930b005ed332f2d1abb com R² = 0.8904\n",
      "Modelo API 'xgboost_model' versão 7 da run 8cc1b3f756e34b03bbc93c19aace7a92 com R² = 0.7166\n"
     ]
    },
    {
     "data": {
      "text/plain": [
       "({'r2': 0.8904461535922401,\n",
       "  'model_uri': 'runs:/492123208a2d4930b005ed332f2d1abb/random_forest_model',\n",
       "  'nome_modelo': 'random_forest_model',\n",
       "  'versao_modelo': 16,\n",
       "  'run_id': '492123208a2d4930b005ed332f2d1abb'},\n",
       " {'r2': 0.7165948434149507,\n",
       "  'model_uri': 'runs:/8cc1b3f756e34b03bbc93c19aace7a92/xgboost_model',\n",
       "  'nome_modelo': 'xgboost_model',\n",
       "  'versao_modelo': 7,\n",
       "  'run_id': '8cc1b3f756e34b03bbc93c19aace7a92'})"
      ]
     },
     "execution_count": 8,
     "metadata": {},
     "output_type": "execute_result"
    }
   ],
   "source": [
    "\n",
    "def carregar_modelo_com_melhor_r2(experimento_nome):\n",
    "    client = MlflowClient()\n",
    "\n",
    "    # Pega o experimento\n",
    "    experimento = client.get_experiment_by_name(experimento_nome)\n",
    "    if not experimento:\n",
    "        raise ValueError(f\"Experimento '{experimento_nome}' não encontrado.\")\n",
    "    \n",
    "    experiment_id = experimento.experiment_id\n",
    "\n",
    "    melhor_modelo = {\n",
    "        \"r2\": float('-inf'),\n",
    "        \"model_uri\": None,\n",
    "        \"nome_modelo\": None,\n",
    "        \"versao_modelo\": None,\n",
    "        \"run_id\": None\n",
    "    }\n",
    "\n",
    "    modelo_api = {\n",
    "        \"r2\": float('-inf'),\n",
    "        \"model_uri\": None,\n",
    "        \"nome_modelo\": None,\n",
    "        \"versao_modelo\": None,\n",
    "        \"run_id\": None\n",
    "    }\n",
    "\n",
    "    # Pega todas as runs ordenadas por R² (decrescente)\n",
    "    runs = client.search_runs(\n",
    "        experiment_ids=[experiment_id],\n",
    "        order_by=[\"metrics.r2 DESC\"]\n",
    "    )\n",
    "\n",
    "    modelos_registrados = client.search_registered_models()\n",
    "\n",
    "    \n",
    "\n",
    "    for modelo in modelos_registrados:\n",
    "        \n",
    "        nome_modelo = modelo.name\n",
    "\n",
    "        for versao in modelo.latest_versions:\n",
    "            # Busca informações completas da versão\n",
    "            versoes = client.search_model_versions(f\"name='{nome_modelo}'\")\n",
    "            for v in versoes:\n",
    "                run = client.get_run(v.run_id)\n",
    "\n",
    "                # Verifica se pertence ao experimento desejado\n",
    "                if run.info.experiment_id != experiment_id:\n",
    "                    continue\n",
    "\n",
    "                r2 = run.data.metrics.get(\"r2\")\n",
    "\n",
    "                source_path = v.source\n",
    "                artifact_path = source_path.split(\"/\")[-1]\n",
    "                model_uri = f\"runs:/{v.run_id}/{artifact_path}\"\n",
    "\n",
    "                print(f\"Modelo '{modelo.name}' versão {v.version} da run {v.run_id} com R² = {r2}\")\n",
    "\n",
    "                if v.current_stage == \"Production\":\n",
    "                    modelo_api.update({\n",
    "                        \"r2\": r2,\n",
    "                        \"model_uri\": model_uri,\n",
    "                        \"nome_modelo\": nome_modelo,\n",
    "                        \"versao_modelo\": v.version,\n",
    "                        \"run_id\": v.run_id\n",
    "                    })\n",
    "                \n",
    "                if r2 is not None and r2 > melhor_modelo[\"r2\"] and v.current_stage != \"Archived\":\n",
    "                    melhor_modelo.update({\n",
    "                        \"r2\": r2,\n",
    "                        \"model_uri\": model_uri,\n",
    "                        \"nome_modelo\": nome_modelo,\n",
    "                        \"versao_modelo\": v.version,\n",
    "                        \"run_id\": v.run_id\n",
    "                    })\n",
    "    \n",
    "    \n",
    "    print(f\"Melhor modelo '{melhor_modelo['nome_modelo']}' versão {melhor_modelo['versao_modelo']} da run {melhor_modelo['run_id']} com R² = {melhor_modelo['r2']:.4f}\")\n",
    "\n",
    "    print(f\"Modelo API '{modelo_api['nome_modelo']}' versão {modelo_api['versao_modelo']} da run {modelo_api['run_id']} com R² = {modelo_api['r2']:.4f}\")\n",
    "\n",
    "    modelo_carregado = mlflow.pyfunc.load_model(melhor_modelo[\"model_uri\"])\n",
    "    \n",
    "    return modelo_carregado, melhor_modelo, modelo_api\n",
    "    \n",
    "\n",
    "# Carregando modelo com melhor R2 \n",
    "loaded_model, melhor_modelo, modelo_api = carregar_modelo_com_melhor_r2(\"ecd15\")\n",
    "\n",
    "if not melhor_modelo[\"model_uri\"]:\n",
    "    print(\"Nenhum modelo em 'Staging' encontrado para esse experimento.\")\n",
    "\n",
    "existe_modelo_api = True\n",
    "if not modelo_api[\"model_uri\"]:\n",
    "    existe_modelo_api = False\n",
    "    print(\"Nenhum modelo em 'Production' encontrado para esse experimento.\")\n",
    "\n",
    "melhor_modelo, modelo_api\n"
   ]
  },
  {
   "cell_type": "markdown",
   "metadata": {},
   "source": [
    "## Predição de melhor modelo carregado x modelo API"
   ]
  },
  {
   "cell_type": "code",
   "execution_count": 9,
   "metadata": {
    "execution": {
     "iopub.execute_input": "2025-04-18T00:48:15.111129Z",
     "iopub.status.busy": "2025-04-18T00:48:15.110373Z",
     "iopub.status.idle": "2025-04-18T00:48:15.154032Z",
     "shell.execute_reply": "2025-04-18T00:48:15.152232Z"
    }
   },
   "outputs": [
    {
     "data": {
      "text/html": [
       "<div>\n",
       "<style scoped>\n",
       "    .dataframe tbody tr th:only-of-type {\n",
       "        vertical-align: middle;\n",
       "    }\n",
       "\n",
       "    .dataframe tbody tr th {\n",
       "        vertical-align: top;\n",
       "    }\n",
       "\n",
       "    .dataframe thead th {\n",
       "        text-align: right;\n",
       "    }\n",
       "</style>\n",
       "<table border=\"1\" class=\"dataframe\">\n",
       "  <thead>\n",
       "    <tr style=\"text-align: right;\">\n",
       "      <th></th>\n",
       "      <th>price_brl</th>\n",
       "      <th>predicao_modelo_api</th>\n",
       "      <th>predicao_melhor_modelo</th>\n",
       "    </tr>\n",
       "  </thead>\n",
       "  <tbody>\n",
       "    <tr>\n",
       "      <th>6383</th>\n",
       "      <td>787484.34</td>\n",
       "      <td>978233.06</td>\n",
       "      <td>844436.32</td>\n",
       "    </tr>\n",
       "    <tr>\n",
       "      <th>9172</th>\n",
       "      <td>933875.69</td>\n",
       "      <td>906950.25</td>\n",
       "      <td>1100024.97</td>\n",
       "    </tr>\n",
       "    <tr>\n",
       "      <th>3868</th>\n",
       "      <td>1397378.74</td>\n",
       "      <td>1373972.50</td>\n",
       "      <td>1401079.65</td>\n",
       "    </tr>\n",
       "    <tr>\n",
       "      <th>4676</th>\n",
       "      <td>998127.67</td>\n",
       "      <td>1051356.75</td>\n",
       "      <td>1009376.21</td>\n",
       "    </tr>\n",
       "    <tr>\n",
       "      <th>18133</th>\n",
       "      <td>4000000.00</td>\n",
       "      <td>1151326.00</td>\n",
       "      <td>5049400.00</td>\n",
       "    </tr>\n",
       "    <tr>\n",
       "      <th>13351</th>\n",
       "      <td>1890000.00</td>\n",
       "      <td>669886.31</td>\n",
       "      <td>1792180.00</td>\n",
       "    </tr>\n",
       "    <tr>\n",
       "      <th>17172</th>\n",
       "      <td>1700000.00</td>\n",
       "      <td>1369107.50</td>\n",
       "      <td>1626377.39</td>\n",
       "    </tr>\n",
       "    <tr>\n",
       "      <th>17379</th>\n",
       "      <td>1300000.00</td>\n",
       "      <td>1067672.75</td>\n",
       "      <td>1281245.14</td>\n",
       "    </tr>\n",
       "    <tr>\n",
       "      <th>5818</th>\n",
       "      <td>289457.01</td>\n",
       "      <td>358558.22</td>\n",
       "      <td>309616.08</td>\n",
       "    </tr>\n",
       "    <tr>\n",
       "      <th>20470</th>\n",
       "      <td>3750000.00</td>\n",
       "      <td>1130626.00</td>\n",
       "      <td>3660319.60</td>\n",
       "    </tr>\n",
       "    <tr>\n",
       "      <th>12122</th>\n",
       "      <td>668745.53</td>\n",
       "      <td>673395.38</td>\n",
       "      <td>727628.63</td>\n",
       "    </tr>\n",
       "    <tr>\n",
       "      <th>15254</th>\n",
       "      <td>5500000.00</td>\n",
       "      <td>715957.81</td>\n",
       "      <td>5637000.00</td>\n",
       "    </tr>\n",
       "    <tr>\n",
       "      <th>20198</th>\n",
       "      <td>1690000.00</td>\n",
       "      <td>689171.19</td>\n",
       "      <td>1674560.00</td>\n",
       "    </tr>\n",
       "    <tr>\n",
       "      <th>12095</th>\n",
       "      <td>948221.29</td>\n",
       "      <td>1025426.88</td>\n",
       "      <td>997185.05</td>\n",
       "    </tr>\n",
       "    <tr>\n",
       "      <th>18730</th>\n",
       "      <td>500000.00</td>\n",
       "      <td>687039.88</td>\n",
       "      <td>730510.00</td>\n",
       "    </tr>\n",
       "    <tr>\n",
       "      <th>14485</th>\n",
       "      <td>2600000.00</td>\n",
       "      <td>1130626.00</td>\n",
       "      <td>2607600.00</td>\n",
       "    </tr>\n",
       "    <tr>\n",
       "      <th>5449</th>\n",
       "      <td>1077977.90</td>\n",
       "      <td>1029650.62</td>\n",
       "      <td>1047386.24</td>\n",
       "    </tr>\n",
       "    <tr>\n",
       "      <th>6429</th>\n",
       "      <td>748595.73</td>\n",
       "      <td>959656.50</td>\n",
       "      <td>870533.61</td>\n",
       "    </tr>\n",
       "    <tr>\n",
       "      <th>19784</th>\n",
       "      <td>6500000.00</td>\n",
       "      <td>849469.12</td>\n",
       "      <td>6900100.00</td>\n",
       "    </tr>\n",
       "    <tr>\n",
       "      <th>13718</th>\n",
       "      <td>6100000.00</td>\n",
       "      <td>1066053.12</td>\n",
       "      <td>6481800.00</td>\n",
       "    </tr>\n",
       "  </tbody>\n",
       "</table>\n",
       "</div>"
      ],
      "text/plain": [
       "        price_brl  predicao_modelo_api  predicao_melhor_modelo\n",
       "6383    787484.34            978233.06               844436.32\n",
       "9172    933875.69            906950.25              1100024.97\n",
       "3868   1397378.74           1373972.50              1401079.65\n",
       "4676    998127.67           1051356.75              1009376.21\n",
       "18133  4000000.00           1151326.00              5049400.00\n",
       "13351  1890000.00            669886.31              1792180.00\n",
       "17172  1700000.00           1369107.50              1626377.39\n",
       "17379  1300000.00           1067672.75              1281245.14\n",
       "5818    289457.01            358558.22               309616.08\n",
       "20470  3750000.00           1130626.00              3660319.60\n",
       "12122   668745.53            673395.38               727628.63\n",
       "15254  5500000.00            715957.81              5637000.00\n",
       "20198  1690000.00            689171.19              1674560.00\n",
       "12095   948221.29           1025426.88               997185.05\n",
       "18730   500000.00            687039.88               730510.00\n",
       "14485  2600000.00           1130626.00              2607600.00\n",
       "5449   1077977.90           1029650.62              1047386.24\n",
       "6429    748595.73            959656.50               870533.61\n",
       "19784  6500000.00            849469.12              6900100.00\n",
       "13718  6100000.00           1066053.12              6481800.00"
      ]
     },
     "execution_count": 9,
     "metadata": {},
     "output_type": "execute_result"
    }
   ],
   "source": [
    "# Fazer a previsão\n",
    "predictions = loaded_model.predict(x_features)\n",
    "# Adicionar as previsões ao DataFrame\n",
    "    \n",
    "df_sample[\"predicao_melhor_modelo\"] = predictions\n",
    "\n",
    "# converter previsões para o mesmo tipo da variável alvo\n",
    "df_sample[\"predicao_melhor_modelo\"] = df_sample[\"predicao_melhor_modelo\"].astype(float).round(2)\n",
    "\n",
    "colunas_exibidas = [\"price_brl\", \"predicao_melhor_modelo\"]\n",
    "\n",
    "if existe_modelo_api:\n",
    "    previsao_json = json.loads(previsao.text)\n",
    "\n",
    "    # Extrair as previsões do JSON e adicioná-las ao DataFrame\n",
    "    df_sample[\"predicao_modelo_api\"] = [round(pred, 2) for pred in previsao_json[\"predictions\"]]\n",
    "\n",
    "    colunas_exibidas = [\"price_brl\", \"predicao_modelo_api\", \"predicao_melhor_modelo\"]\n",
    "\n",
    "df_sample[colunas_exibidas]"
   ]
  },
  {
   "cell_type": "markdown",
   "metadata": {},
   "source": [
    "### Comparação R² Score dos modelos"
   ]
  },
  {
   "cell_type": "code",
   "execution_count": 10,
   "metadata": {
    "execution": {
     "iopub.execute_input": "2025-04-18T00:48:15.158241Z",
     "iopub.status.busy": "2025-04-18T00:48:15.157928Z",
     "iopub.status.idle": "2025-04-18T00:48:15.167076Z",
     "shell.execute_reply": "2025-04-18T00:48:15.165884Z"
    }
   },
   "outputs": [
    {
     "name": "stdout",
     "output_type": "stream",
     "text": [
      "R² API: 0.9782 R² Melhor Modelo: 0.9782\n"
     ]
    }
   ],
   "source": [
    "# Calcular R²\n",
    "r2_melhor_modelo = r2_score(df_sample[\"price_brl\"], df_sample[\"predicao_melhor_modelo\"])\n",
    "\n",
    "if existe_modelo_api:\n",
    "    r2_api = r2_score(df_sample[\"price_brl\"], df_sample[\"predicao_modelo_api\"])\n",
    "    print(f\"R² API: {r2_api:.4f} R² Melhor Modelo: {r2_melhor_modelo:.4f}\")\n",
    "else:\n",
    "    print(f\"R² Melhor Modelo: {r2_melhor_modelo:.4f}\")"
   ]
  },
  {
   "cell_type": "markdown",
   "metadata": {},
   "source": [
    "### Promover melhor modelo para Produção"
   ]
  },
  {
   "cell_type": "code",
   "execution_count": 11,
   "metadata": {
    "execution": {
     "iopub.execute_input": "2025-04-18T00:48:15.172034Z",
     "iopub.status.busy": "2025-04-18T00:48:15.171536Z",
     "iopub.status.idle": "2025-04-18T00:48:22.806670Z",
     "shell.execute_reply": "2025-04-18T00:48:22.804023Z"
    }
   },
   "outputs": [
    {
     "name": "stdout",
     "output_type": "stream",
     "text": [
      "O processo na porta 5000 foi encerrado com sucesso.\n"
     ]
    },
    {
     "name": "stdout",
     "output_type": "stream",
     "text": [
      "Modelo xgboost_model Versão 18 arquivado.\n",
      "Modelo gradient_boosting_model Versão 18 arquivado.\n"
     ]
    },
    {
     "name": "stderr",
     "output_type": "stream",
     "text": [
      "/tmp/ipykernel_1620/547996578.py:27: FutureWarning: ``mlflow.tracking.client.MlflowClient.transition_model_version_stage`` is deprecated since 2.9.0. Model registry stages will be removed in a future major release. To learn more about the deprecation of model registry stages, see our migration guide here: https://mlflow.org/docs/latest/model-registry.html#migrating-from-stages\n",
      "  client.transition_model_version_stage(\n"
     ]
    },
    {
     "name": "stdout",
     "output_type": "stream",
     "text": [
      "Modelo random_forest_model Versão 18 arquivado.\n"
     ]
    },
    {
     "name": "stdout",
     "output_type": "stream",
     "text": [
      "Modelo linear_regression_model Versão 18 arquivado.\n",
      "Modelo decision_tree_model Versão 18 arquivado.\n"
     ]
    },
    {
     "name": "stdout",
     "output_type": "stream",
     "text": [
      "Modelo xgboost_model Versão 17 arquivado.\n"
     ]
    },
    {
     "name": "stdout",
     "output_type": "stream",
     "text": [
      "Modelo gradient_boosting_model Versão 17 arquivado.\n",
      "Modelo random_forest_model Versão 17 arquivado.\n"
     ]
    },
    {
     "name": "stdout",
     "output_type": "stream",
     "text": [
      "Modelo linear_regression_model Versão 17 arquivado.\n"
     ]
    },
    {
     "name": "stdout",
     "output_type": "stream",
     "text": [
      "Modelo decision_tree_model Versão 17 arquivado.\n",
      "Modelo xgboost_model Versão 16 arquivado.\n"
     ]
    },
    {
     "name": "stdout",
     "output_type": "stream",
     "text": [
      "Modelo gradient_boosting_model Versão 16 arquivado.\n"
     ]
    },
    {
     "name": "stdout",
     "output_type": "stream",
     "text": [
      "Modelo random_forest_model Versão 16 arquivado.\n"
     ]
    },
    {
     "name": "stdout",
     "output_type": "stream",
     "text": [
      "Modelo linear_regression_model Versão 16 arquivado.\n"
     ]
    },
    {
     "name": "stdout",
     "output_type": "stream",
     "text": [
      "Modelo decision_tree_model Versão 16 arquivado.\n",
      "Modelo xgboost_model Versão 15 arquivado.\n"
     ]
    },
    {
     "name": "stdout",
     "output_type": "stream",
     "text": [
      "Modelo gradient_boosting_model Versão 15 arquivado.\n",
      "Modelo random_forest_model Versão 15 arquivado.\n",
      "Modelo linear_regression_model Versão 15 arquivado.\n"
     ]
    },
    {
     "name": "stdout",
     "output_type": "stream",
     "text": [
      "Modelo decision_tree_model Versão 15 arquivado.\n",
      "Modelo xgboost_model Versão 14 arquivado.\n",
      "Modelo gradient_boosting_model Versão 14 arquivado.\n",
      "Modelo random_forest_model Versão 14 arquivado.\n"
     ]
    },
    {
     "name": "stdout",
     "output_type": "stream",
     "text": [
      "Modelo linear_regression_model Versão 14 arquivado.\n",
      "Modelo decision_tree_model Versão 14 arquivado.\n",
      "Modelo xgboost_model Versão 13 arquivado.\n"
     ]
    },
    {
     "name": "stdout",
     "output_type": "stream",
     "text": [
      "Modelo gradient_boosting_model Versão 13 arquivado.\n",
      "Modelo random_forest_model Versão 13 arquivado.\n",
      "Modelo linear_regression_model Versão 13 arquivado.\n"
     ]
    },
    {
     "name": "stdout",
     "output_type": "stream",
     "text": [
      "Modelo decision_tree_model Versão 13 arquivado.\n",
      "Modelo xgboost_model Versão 12 arquivado.\n",
      "Modelo gradient_boosting_model Versão 12 arquivado.\n"
     ]
    },
    {
     "name": "stdout",
     "output_type": "stream",
     "text": [
      "Modelo random_forest_model Versão 12 arquivado.\n",
      "Modelo linear_regression_model Versão 12 arquivado.\n",
      "Modelo decision_tree_model Versão 12 arquivado.\n"
     ]
    },
    {
     "name": "stdout",
     "output_type": "stream",
     "text": [
      "Modelo xgboost_model Versão 11 arquivado.\n",
      "Modelo gradient_boosting_model Versão 11 arquivado.\n"
     ]
    },
    {
     "name": "stdout",
     "output_type": "stream",
     "text": [
      "Modelo random_forest_model Versão 11 arquivado.\n",
      "Modelo linear_regression_model Versão 11 arquivado.\n"
     ]
    },
    {
     "name": "stdout",
     "output_type": "stream",
     "text": [
      "Modelo decision_tree_model Versão 11 arquivado.\n",
      "Modelo xgboost_model Versão 10 arquivado.\n",
      "Modelo gradient_boosting_model Versão 10 arquivado.\n"
     ]
    },
    {
     "name": "stdout",
     "output_type": "stream",
     "text": [
      "Modelo random_forest_model Versão 10 arquivado.\n",
      "Modelo linear_regression_model Versão 10 arquivado.\n"
     ]
    },
    {
     "name": "stdout",
     "output_type": "stream",
     "text": [
      "Modelo decision_tree_model Versão 10 arquivado.\n",
      "Modelo xgboost_model Versão 7 arquivado.\n",
      "Modelo gradient_boosting_model Versão 9 arquivado.\n"
     ]
    },
    {
     "name": "stdout",
     "output_type": "stream",
     "text": [
      "Modelo random_forest_model Versão 9 arquivado.\n",
      "Modelo linear_regression_model Versão 9 arquivado.\n"
     ]
    },
    {
     "name": "stdout",
     "output_type": "stream",
     "text": [
      "Modelo decision_tree_model Versão 9 arquivado.\n",
      "Modelo gradient_boosting_model Versão 8 arquivado.\n",
      "Modelo random_forest_model Versão 8 arquivado.\n"
     ]
    },
    {
     "name": "stdout",
     "output_type": "stream",
     "text": [
      "Modelo linear_regression_model Versão 8 arquivado.\n",
      "Modelo decision_tree_model Versão 8 arquivado.\n",
      "Modelo gradient_boosting_model Versão 7 arquivado.\n"
     ]
    },
    {
     "name": "stdout",
     "output_type": "stream",
     "text": [
      "Modelo random_forest_model Versão 7 arquivado.\n",
      "Modelo linear_regression_model Versão 7 arquivado.\n",
      "Modelo decision_tree_model Versão 7 arquivado.\n"
     ]
    },
    {
     "name": "stdout",
     "output_type": "stream",
     "text": [
      "Modelo gradient_boosting_model Versão 6 arquivado.\n",
      "Modelo random_forest_model Versão 6 arquivado.\n",
      "Modelo linear_regression_model Versão 6 arquivado.\n"
     ]
    },
    {
     "name": "stdout",
     "output_type": "stream",
     "text": [
      "Modelo decision_tree_model Versão 6 arquivado.\n",
      "Modelo gradient_boosting_model Versão 5 arquivado.\n",
      "Modelo random_forest_model Versão 5 arquivado.\n"
     ]
    },
    {
     "name": "stdout",
     "output_type": "stream",
     "text": [
      "Modelo linear_regression_model Versão 5 arquivado.\n",
      "Modelo decision_tree_model Versão 5 arquivado.\n",
      "Modelo gradient_boosting_model Versão 4 arquivado.\n"
     ]
    },
    {
     "name": "stdout",
     "output_type": "stream",
     "text": [
      "Modelo random_forest_model Versão 4 arquivado.\n",
      "Modelo linear_regression_model Versão 4 arquivado.\n",
      "Modelo decision_tree_model Versão 4 arquivado.\n"
     ]
    },
    {
     "name": "stdout",
     "output_type": "stream",
     "text": [
      "Modelo gradient_boosting_model Versão 3 arquivado.\n",
      "Modelo random_forest_model Versão 3 arquivado.\n",
      "Modelo linear_regression_model Versão 3 arquivado.\n"
     ]
    },
    {
     "name": "stdout",
     "output_type": "stream",
     "text": [
      "Modelo decision_tree_model Versão 3 arquivado.\n",
      "Modelo gradient_boosting_model Versão 2 arquivado.\n",
      "Modelo random_forest_model Versão 2 arquivado.\n"
     ]
    },
    {
     "name": "stdout",
     "output_type": "stream",
     "text": [
      "Modelo linear_regression_model Versão 2 arquivado.\n",
      "Modelo decision_tree_model Versão 2 arquivado.\n",
      "Modelo gradient_boosting_model Versão 1 arquivado.\n"
     ]
    },
    {
     "name": "stdout",
     "output_type": "stream",
     "text": [
      "Modelo random_forest_model Versão 1 arquivado.\n",
      "Modelo linear_regression_model Versão 1 arquivado.\n",
      "Modelo decision_tree_model Versão 1 arquivado.\n"
     ]
    },
    {
     "name": "stdout",
     "output_type": "stream",
     "text": [
      "Modelo 'random_forest_model' versão 16 promovido para 'Production'.\n"
     ]
    },
    {
     "name": "stderr",
     "output_type": "stream",
     "text": [
      "/tmp/ipykernel_1620/547996578.py:35: FutureWarning: ``mlflow.tracking.client.MlflowClient.transition_model_version_stage`` is deprecated since 2.9.0. Model registry stages will be removed in a future major release. To learn more about the deprecation of model registry stages, see our migration guide here: https://mlflow.org/docs/latest/model-registry.html#migrating-from-stages\n",
      "  client.transition_model_version_stage(\n"
     ]
    }
   ],
   "source": [
    "def parar_modelo_mlflow1():\n",
    "    try:\n",
    "        resultado = subprocess.check_output(\"lsof -i :5000 -sTCP:LISTEN -nP\", shell=True)\n",
    "        linhas = resultado.decode().strip().split(\"\\n\")[1:]  # ignora cabeçalho\n",
    "        for linha in linhas:\n",
    "            if \"mlflow\" in linha.lower():\n",
    "                pid = int(linha.split()[1])\n",
    "                os.kill(pid, signal.SIGTERM)\n",
    "                print(f\"Servidor MLflow (PID {pid}) parado com sucesso.\")\n",
    "            else:\n",
    "                print(\"⚠️ Porta 5000 ocupada por outro processo que não é o MLflow. Ignorado.\")\n",
    "    except subprocess.CalledProcessError:\n",
    "        print(\"Nenhum processo ouvindo na porta 5000 foi encontrado.\")\n",
    "\n",
    "def promover_modelo_para_producao(modelo):\n",
    "    client = MlflowClient()\n",
    "\n",
    "    nome_modelo = modelo[\"nome_modelo\"]\n",
    "    versao_modelo = modelo[\"versao_modelo\"]\n",
    "\n",
    "    # Agora vamos arquivar os que ainda estão em Staging\n",
    "    todos_modelos = client.search_model_versions(\"name LIKE '%_model'\")\n",
    "    modelos_ativos = [v for v in todos_modelos if v.current_stage != \"Archived\"]\n",
    "\n",
    "    \n",
    "    for v in modelos_ativos:\n",
    "        client.transition_model_version_stage(\n",
    "             name=v.name,\n",
    "             version=v.version,\n",
    "             stage=\"Archived\"\n",
    "        )\n",
    "        print(f\"Modelo { v.name } Versão {v.version} arquivado.\")\n",
    "\n",
    "    # Promover o modelo selecionado\n",
    "    client.transition_model_version_stage(\n",
    "        name=nome_modelo,\n",
    "        version=versao_modelo,\n",
    "        stage=\"Production\",\n",
    "        archive_existing_versions=True  # arquiva automaticamente os outros em Production\n",
    "    )\n",
    "    print(f\"Modelo '{nome_modelo}' versão {versao_modelo} promovido para 'Production'.\")\n",
    "\n",
    "\n",
    "def servir_melhor_modelo(experimento_nome, modelo):\n",
    "    client = MlflowClient()\n",
    "    \n",
    "    # Parar modelo atual\n",
    "    os.system(\"bash parar_mlflow_serve.sh\")\n",
    "\n",
    "    model_uri = modelo[\"model_uri\"]\n",
    "\n",
    "    promover_modelo_para_producao(modelo)\n",
    "\n",
    "    #Tentativas de tentar parar o servidor e subir via notebook não funcionaram corretamente, deixando a utilização lenta.\n",
    "    #print(\"É necessário parar e inicializar o docker novamente para carregar novo modelo na API automaticamente\")\n",
    "\n",
    "    # Reinicializar api com novo modelo\n",
    "    os.system(f\"bash reiniciar_mlflow_serve.sh {model_uri}\")\n",
    "\n",
    "servir_melhor_modelo(\"ecd15\", melhor_modelo)"
   ]
  },
  {
   "cell_type": "code",
   "execution_count": null,
   "metadata": {},
   "outputs": [],
   "source": []
  },
  {
   "cell_type": "code",
   "execution_count": null,
   "metadata": {},
   "outputs": [],
   "source": []
  }
 ],
 "metadata": {
  "kernelspec": {
   "display_name": "Python 3 (ipykernel)",
   "language": "python",
   "name": "python3"
  },
  "language_info": {
   "codemirror_mode": {
    "name": "ipython",
    "version": 3
   },
   "file_extension": ".py",
   "mimetype": "text/x-python",
   "name": "python",
   "nbconvert_exporter": "python",
   "pygments_lexer": "ipython3",
   "version": "3.10.17"
  }
 },
 "nbformat": 4,
 "nbformat_minor": 4
}
