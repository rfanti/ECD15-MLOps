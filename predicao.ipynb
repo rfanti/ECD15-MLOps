{
 "cells": [
  {
   "cell_type": "markdown",
   "metadata": {},
   "source": [
    "# Treinamento"
   ]
  },
  {
   "cell_type": "markdown",
   "metadata": {},
   "source": [
    "## Inicialização"
   ]
  },
  {
   "cell_type": "code",
   "execution_count": 1,
   "metadata": {},
   "outputs": [],
   "source": [
    "# Config Inicial\n",
    "import json\n",
    "import mlflow.pyfunc\n",
    "import shutil\n",
    "import pandas as pd\n",
    "import requests\n",
    "from sklearn.metrics import r2_score\n",
    "import mlflow\n",
    "from mlflow.tracking import MlflowClient\n",
    "\n",
    "import os\n",
    "import signal\n",
    "import subprocess\n"
   ]
  },
  {
   "cell_type": "markdown",
   "metadata": {},
   "source": [
    "### Leitura"
   ]
  },
  {
   "cell_type": "code",
   "execution_count": 2,
   "metadata": {},
   "outputs": [
    {
     "data": {
      "text/html": [
       "<div>\n",
       "<style scoped>\n",
       "    .dataframe tbody tr th:only-of-type {\n",
       "        vertical-align: middle;\n",
       "    }\n",
       "\n",
       "    .dataframe tbody tr th {\n",
       "        vertical-align: top;\n",
       "    }\n",
       "\n",
       "    .dataframe thead th {\n",
       "        text-align: right;\n",
       "    }\n",
       "</style>\n",
       "<table border=\"1\" class=\"dataframe\">\n",
       "  <thead>\n",
       "    <tr style=\"text-align: right;\">\n",
       "      <th></th>\n",
       "      <th>id</th>\n",
       "      <th>property_type</th>\n",
       "      <th>state</th>\n",
       "      <th>region</th>\n",
       "      <th>lat</th>\n",
       "      <th>lon</th>\n",
       "      <th>area_m2</th>\n",
       "      <th>price_brl</th>\n",
       "      <th>city</th>\n",
       "    </tr>\n",
       "  </thead>\n",
       "  <tbody>\n",
       "    <tr>\n",
       "      <th>0</th>\n",
       "      <td>1.0</td>\n",
       "      <td>apartment</td>\n",
       "      <td>Pernambuco</td>\n",
       "      <td>Northeast</td>\n",
       "      <td>-8.134204</td>\n",
       "      <td>-34.906326</td>\n",
       "      <td>72.0</td>\n",
       "      <td>414222.98</td>\n",
       "      <td>Recife</td>\n",
       "    </tr>\n",
       "    <tr>\n",
       "      <th>1</th>\n",
       "      <td>2.0</td>\n",
       "      <td>apartment</td>\n",
       "      <td>Pernambuco</td>\n",
       "      <td>Northeast</td>\n",
       "      <td>-8.126664</td>\n",
       "      <td>-34.903924</td>\n",
       "      <td>136.0</td>\n",
       "      <td>848408.53</td>\n",
       "      <td>Recife</td>\n",
       "    </tr>\n",
       "    <tr>\n",
       "      <th>2</th>\n",
       "      <td>3.0</td>\n",
       "      <td>apartment</td>\n",
       "      <td>Pernambuco</td>\n",
       "      <td>Northeast</td>\n",
       "      <td>-8.125550</td>\n",
       "      <td>-34.907601</td>\n",
       "      <td>75.0</td>\n",
       "      <td>299438.28</td>\n",
       "      <td>Recife</td>\n",
       "    </tr>\n",
       "    <tr>\n",
       "      <th>3</th>\n",
       "      <td>4.0</td>\n",
       "      <td>apartment</td>\n",
       "      <td>Pernambuco</td>\n",
       "      <td>Northeast</td>\n",
       "      <td>-8.120249</td>\n",
       "      <td>-34.895920</td>\n",
       "      <td>187.0</td>\n",
       "      <td>848408.53</td>\n",
       "      <td>Recife</td>\n",
       "    </tr>\n",
       "    <tr>\n",
       "      <th>4</th>\n",
       "      <td>5.0</td>\n",
       "      <td>apartment</td>\n",
       "      <td>Pernambuco</td>\n",
       "      <td>Northeast</td>\n",
       "      <td>-8.142666</td>\n",
       "      <td>-34.906906</td>\n",
       "      <td>80.0</td>\n",
       "      <td>464129.36</td>\n",
       "      <td>Recife</td>\n",
       "    </tr>\n",
       "  </tbody>\n",
       "</table>\n",
       "</div>"
      ],
      "text/plain": [
       "    id property_type       state     region       lat        lon  area_m2  \\\n",
       "0  1.0     apartment  Pernambuco  Northeast -8.134204 -34.906326     72.0   \n",
       "1  2.0     apartment  Pernambuco  Northeast -8.126664 -34.903924    136.0   \n",
       "2  3.0     apartment  Pernambuco  Northeast -8.125550 -34.907601     75.0   \n",
       "3  4.0     apartment  Pernambuco  Northeast -8.120249 -34.895920    187.0   \n",
       "4  5.0     apartment  Pernambuco  Northeast -8.142666 -34.906906     80.0   \n",
       "\n",
       "   price_brl    city  \n",
       "0  414222.98  Recife  \n",
       "1  848408.53  Recife  \n",
       "2  299438.28  Recife  \n",
       "3  848408.53  Recife  \n",
       "4  464129.36  Recife  "
      ]
     },
     "execution_count": 2,
     "metadata": {},
     "output_type": "execute_result"
    }
   ],
   "source": [
    "# Descomentar, quando quiser carregar para o treinamento, dados originais defasados para primeira execução do treinamento\n",
    "#shutil.copyfile(\"dataset/brasil_estado_cidade.csv\", \"dataset/dados_treinamento.csv\")\n",
    "\n",
    "# Carregar o conjunto de dados\n",
    "df_treinamento = pd.read_csv(\"dataset/dados_treinamento.csv\", encoding=\"utf-8\")\n",
    "\n",
    "# Eliminando registros com valores null\n",
    "df_treinamento.dropna(inplace=True)\n",
    "\n",
    "# float64\n",
    "df_treinamento = df_treinamento.astype({col: 'float64' for col in df_treinamento.select_dtypes(include='int').columns})\n",
    "\n",
    "df_treinamento.head()"
   ]
  },
  {
   "cell_type": "code",
   "execution_count": 3,
   "metadata": {},
   "outputs": [
    {
     "data": {
      "text/plain": [
       "<Experiment: artifact_location='/app/mlruns/0', creation_time=1744853753613, experiment_id='0', last_update_time=1744853767255, lifecycle_stage='active', name='ecd15', tags={}>"
      ]
     },
     "execution_count": 3,
     "metadata": {},
     "output_type": "execute_result"
    }
   ],
   "source": [
    "mlflow.set_tracking_uri(\"sqlite:///mlflow.db\")\n",
    "\n",
    "mlflow.set_experiment(\"ecd15\")"
   ]
  },
  {
   "cell_type": "markdown",
   "metadata": {},
   "source": [
    "### Amostragem"
   ]
  },
  {
   "cell_type": "code",
   "execution_count": 4,
   "metadata": {},
   "outputs": [
    {
     "data": {
      "text/html": [
       "<div>\n",
       "<style scoped>\n",
       "    .dataframe tbody tr th:only-of-type {\n",
       "        vertical-align: middle;\n",
       "    }\n",
       "\n",
       "    .dataframe tbody tr th {\n",
       "        vertical-align: top;\n",
       "    }\n",
       "\n",
       "    .dataframe thead th {\n",
       "        text-align: right;\n",
       "    }\n",
       "</style>\n",
       "<table border=\"1\" class=\"dataframe\">\n",
       "  <thead>\n",
       "    <tr style=\"text-align: right;\">\n",
       "      <th></th>\n",
       "      <th>id</th>\n",
       "      <th>property_type</th>\n",
       "      <th>state</th>\n",
       "      <th>region</th>\n",
       "      <th>lat</th>\n",
       "      <th>lon</th>\n",
       "      <th>area_m2</th>\n",
       "      <th>price_brl</th>\n",
       "      <th>city</th>\n",
       "    </tr>\n",
       "  </thead>\n",
       "  <tbody>\n",
       "    <tr>\n",
       "      <th>3823</th>\n",
       "      <td>3824.0</td>\n",
       "      <td>apartment</td>\n",
       "      <td>Rio de Janeiro</td>\n",
       "      <td>Southeast</td>\n",
       "      <td>-22.930788</td>\n",
       "      <td>-43.355751</td>\n",
       "      <td>62.0</td>\n",
       "      <td>419213.60</td>\n",
       "      <td>Rio de Janeiro</td>\n",
       "    </tr>\n",
       "    <tr>\n",
       "      <th>376</th>\n",
       "      <td>377.0</td>\n",
       "      <td>apartment</td>\n",
       "      <td>Piau</td>\n",
       "      <td>Northeast</td>\n",
       "      <td>-5.064457</td>\n",
       "      <td>-42.792750</td>\n",
       "      <td>60.0</td>\n",
       "      <td>319400.84</td>\n",
       "      <td>Teresina</td>\n",
       "    </tr>\n",
       "    <tr>\n",
       "      <th>5473</th>\n",
       "      <td>5474.0</td>\n",
       "      <td>apartment</td>\n",
       "      <td>Rio de Janeiro</td>\n",
       "      <td>Southeast</td>\n",
       "      <td>-22.933163</td>\n",
       "      <td>-43.174660</td>\n",
       "      <td>78.0</td>\n",
       "      <td>1287584.69</td>\n",
       "      <td>Rio de Janeiro</td>\n",
       "    </tr>\n",
       "    <tr>\n",
       "      <th>2282</th>\n",
       "      <td>2283.0</td>\n",
       "      <td>apartment</td>\n",
       "      <td>Rio Grande do Sul</td>\n",
       "      <td>South</td>\n",
       "      <td>-30.037640</td>\n",
       "      <td>-51.189133</td>\n",
       "      <td>104.0</td>\n",
       "      <td>726908.65</td>\n",
       "      <td>Porto Alegre</td>\n",
       "    </tr>\n",
       "    <tr>\n",
       "      <th>980</th>\n",
       "      <td>981.0</td>\n",
       "      <td>apartment</td>\n",
       "      <td>Rio Grande do Sul</td>\n",
       "      <td>South</td>\n",
       "      <td>-30.080242</td>\n",
       "      <td>-51.225227</td>\n",
       "      <td>60.0</td>\n",
       "      <td>494701.71</td>\n",
       "      <td>Porto Alegre</td>\n",
       "    </tr>\n",
       "  </tbody>\n",
       "</table>\n",
       "</div>"
      ],
      "text/plain": [
       "          id property_type              state     region        lat  \\\n",
       "3823  3824.0     apartment     Rio de Janeiro  Southeast -22.930788   \n",
       "376    377.0     apartment              Piau  Northeast  -5.064457   \n",
       "5473  5474.0     apartment     Rio de Janeiro  Southeast -22.933163   \n",
       "2282  2283.0     apartment  Rio Grande do Sul      South -30.037640   \n",
       "980    981.0     apartment  Rio Grande do Sul      South -30.080242   \n",
       "\n",
       "            lon  area_m2   price_brl            city  \n",
       "3823 -43.355751     62.0   419213.60  Rio de Janeiro  \n",
       "376  -42.792750     60.0   319400.84        Teresina  \n",
       "5473 -43.174660     78.0  1287584.69  Rio de Janeiro  \n",
       "2282 -51.189133    104.0   726908.65    Porto Alegre  \n",
       "980  -51.225227     60.0   494701.71    Porto Alegre  "
      ]
     },
     "execution_count": 4,
     "metadata": {},
     "output_type": "execute_result"
    }
   ],
   "source": [
    "# amostra\n",
    "df_sample = df_treinamento.sample(n=20, random_state=42)\n",
    "\n",
    "x_features = df_sample.drop([\"price_brl\"], axis=1)  # Features\n",
    "y_target = df_sample[\"price_brl\"]  # Variável alvo\n",
    "\n",
    "df_sample.head()"
   ]
  },
  {
   "cell_type": "code",
   "execution_count": 5,
   "metadata": {},
   "outputs": [],
   "source": [
    "# Gerando o JSON no formato esperado pelo MLflow Serve\n",
    "dados = {\"instances\": x_features.to_dict(orient=\"records\")}\n",
    "json_data = json.dumps(dados)"
   ]
  },
  {
   "cell_type": "code",
   "execution_count": 6,
   "metadata": {},
   "outputs": [
    {
     "name": "stdout",
     "output_type": "stream",
     "text": [
      "HTTP STATUS 200\n"
     ]
    }
   ],
   "source": [
    "previsao = requests.post(\n",
    "    \"http://localhost:5000/invocations\",\n",
    "    headers={\"Content-Type\": \"application/json\"},\n",
    "    data=json_data\n",
    ")\n",
    "print(\"HTTP STATUS\", previsao.status_code)"
   ]
  },
  {
   "cell_type": "code",
   "execution_count": 7,
   "metadata": {},
   "outputs": [
    {
     "data": {
      "text/plain": [
       "'{\"predictions\": [348099.1875, 314764.6875, 963706.625, 730391.0, 330280.34375, 604923.6875, 1018210.0625, 668755.375, 1182253.375, 1222384.375, 798778.8125, 1070625.5, 355035.8125, 863029.625, 542877.5625, 1041795.375, 491103.1875, 373186.9375, 512069.875, 270661.0625]}'"
      ]
     },
     "execution_count": 7,
     "metadata": {},
     "output_type": "execute_result"
    }
   ],
   "source": [
    "previsao.text"
   ]
  },
  {
   "cell_type": "markdown",
   "metadata": {},
   "source": [
    "### Carregar e identificar o melhor modelo treinado"
   ]
  },
  {
   "cell_type": "code",
   "execution_count": 10,
   "metadata": {},
   "outputs": [
    {
     "name": "stdout",
     "output_type": "stream",
     "text": [
      "Modelo 'decision_tree_model' versão 9 da run d60a101ceabd4ca7a3b282552d62d6a3 com R² = 0.44289446310468705\n",
      "Modelo 'decision_tree_model' versão 8 da run 920600d9a7204c4a8032ca9ad47253bc com R² = 0.4501405374386255\n",
      "Modelo 'decision_tree_model' versão 7 da run 7dcfc2ff68cd4632aabe1e04c3efc7bf com R² = 0.4662427582353449\n",
      "Modelo 'decision_tree_model' versão 6 da run cddd012dcec74994979981bcc8eb9d51 com R² = 0.4342869398037643\n",
      "Modelo 'decision_tree_model' versão 5 da run b42e223e8a8b4127b4dbd355b4834466 com R² = 0.4688968380333659\n",
      "Modelo 'decision_tree_model' versão 4 da run 26e8268bf94e46c2823560a48c089f9f com R² = 0.4607357460145043\n",
      "Modelo 'decision_tree_model' versão 3 da run 1bc7cc60346645e9a16531b6064ea027 com R² = 0.47475884579582217\n",
      "Modelo 'decision_tree_model' versão 2 da run b8798b83b80046d78a75e21ea222c348 com R² = 0.4839914622045445\n",
      "Modelo 'decision_tree_model' versão 1 da run b1fede94817e4073b2ef3c77bfb7214a com R² = 0.4643648515387715\n",
      "Modelo 'gradient_boosting_model' versão 9 da run 7e1687736297479bb4a352886f05c747 com R² = 0.6523843262185738\n",
      "Modelo 'gradient_boosting_model' versão 8 da run b5dc470a56de465ba93f8b7bf1db0d16 com R² = 0.6492820401100539\n",
      "Modelo 'gradient_boosting_model' versão 7 da run 5a943d9789454f1bac2643c5130b8188 com R² = 0.6709393751907473\n",
      "Modelo 'gradient_boosting_model' versão 6 da run 07300de47bac438287f50a878da70606 com R² = 0.656862768494582\n",
      "Modelo 'gradient_boosting_model' versão 5 da run 36554f525dd244a18f7ec794040cb214 com R² = 0.6599351198710504\n",
      "Modelo 'gradient_boosting_model' versão 4 da run 11d5eb81208845e48d3f51332a9919e4 com R² = 0.6600230971249696\n",
      "Modelo 'gradient_boosting_model' versão 3 da run 15c2f02f02f042c4836b298b1938f396 com R² = 0.6796071604125762\n",
      "Modelo 'gradient_boosting_model' versão 2 da run d4c9cfc583734972bea911369e7c28f3 com R² = 0.6872079997884422\n",
      "Modelo 'gradient_boosting_model' versão 1 da run c90cca3085ca44deb6d0e06737480eb7 com R² = 0.6753892857373056\n",
      "Modelo 'linear_regression_model' versão 9 da run 0153756999e9400485c9d4112e05ae7f com R² = 0.505998121451072\n",
      "Modelo 'linear_regression_model' versão 8 da run f0aef1baf59648ab92fbce190162ad7b com R² = 0.5056141153532079\n",
      "Modelo 'linear_regression_model' versão 7 da run 1883816261d041928481120f60df5e70 com R² = 0.5147260010464185\n",
      "Modelo 'linear_regression_model' versão 6 da run 26daf29671d046c589875064123913ea com R² = 0.5135398078499168\n",
      "Modelo 'linear_regression_model' versão 5 da run 33432ca7f76e4835b07e5de333071e92 com R² = 0.5201365184228184\n",
      "Modelo 'linear_regression_model' versão 4 da run 61e6883ec22a44709ac2f80e5e2c3c19 com R² = 0.5186459601745141\n",
      "Modelo 'linear_regression_model' versão 3 da run a3fb4498641544b1845e150df40f5759 com R² = 0.5307410902454659\n",
      "Modelo 'linear_regression_model' versão 2 da run 3720cb3ed83f48a8b2bfd080c68c8db0 com R² = 0.545227078275053\n",
      "Modelo 'linear_regression_model' versão 1 da run a95a946b206a416ea31ccbe09d382902 com R² = 0.5319998609827157\n",
      "Modelo 'random_forest_model' versão 9 da run 50d40f9906ba4bc4a091cfe7c25c4dc8 com R² = 0.6830974803708945\n",
      "Modelo 'random_forest_model' versão 8 da run df7b47c201454d808d78b1e4f67a17f7 com R² = 0.6829200912087237\n",
      "Modelo 'random_forest_model' versão 7 da run b1938e5bbc864f0e80fe8adc4e251da1 com R² = 0.6942547678310177\n",
      "Modelo 'random_forest_model' versão 6 da run d39b1de0d849492fba32b2fa22ecd490 com R² = 0.6776453306122765\n",
      "Modelo 'random_forest_model' versão 5 da run e8fa03eaf67141349d27f6c56ec7f460 com R² = 0.6864647853393464\n",
      "Modelo 'random_forest_model' versão 4 da run bef47c4e143f4fadbdbfa37e4c240972 com R² = 0.6927963568986575\n",
      "Modelo 'random_forest_model' versão 3 da run 6c56fa89486c496c9cc9d77912cce6fa com R² = 0.6969121638371459\n",
      "Modelo 'random_forest_model' versão 2 da run 80afa5140a8e4734920dee4454980419 com R² = 0.7051748601006242\n",
      "Modelo 'random_forest_model' versão 1 da run 08b0a9f07f19477dabf2091dcdeac707 com R² = 0.6889370111288469\n",
      "Modelo 'xgboost_model' versão 7 da run c7f5488202f3431686829d21df15d091 com R² = 0.7165948434149507\n",
      "Modelo 'xgboost_model' versão 9 da run 05e3bb7c71d94ee0a341a4c898c34951 com R² = 0.6876703524937664\n",
      "Modelo 'xgboost_model' versão 8 da run 154c557ef36649d59e0b6145c0c9b662 com R² = 0.6860089789442159\n",
      "Modelo 'xgboost_model' versão 6 da run f8a6dbb2d79f43c59c048fdd305afc5e com R² = 0.6883462328636021\n",
      "Modelo 'xgboost_model' versão 5 da run 230ed37138454f6b937eeeb6c639d722 com R² = 0.6980056141375233\n",
      "Modelo 'xgboost_model' versão 4 da run fe47422a27864d8ab03ebc22ee1785b1 com R² = 0.7026213088601732\n",
      "Modelo 'xgboost_model' versão 3 da run 50d210cf63954c3caba041167d27ee54 com R² = 0.7040234028906887\n",
      "Modelo 'xgboost_model' versão 2 da run e439df4d684e4eae838d4c59cea81ab4 com R² = 0.7128160768989399\n",
      "Modelo 'xgboost_model' versão 1 da run e7c392a765314df09d1301feb3f3fa2a com R² = 0.6904415768747783\n",
      "Modelo 'xgboost_model' versão 7 da run c7f5488202f3431686829d21df15d091 com R² = 0.7165948434149507\n",
      "Modelo 'xgboost_model' versão 9 da run 05e3bb7c71d94ee0a341a4c898c34951 com R² = 0.6876703524937664\n",
      "Modelo 'xgboost_model' versão 8 da run 154c557ef36649d59e0b6145c0c9b662 com R² = 0.6860089789442159\n",
      "Modelo 'xgboost_model' versão 6 da run f8a6dbb2d79f43c59c048fdd305afc5e com R² = 0.6883462328636021\n",
      "Modelo 'xgboost_model' versão 5 da run 230ed37138454f6b937eeeb6c639d722 com R² = 0.6980056141375233\n",
      "Modelo 'xgboost_model' versão 4 da run fe47422a27864d8ab03ebc22ee1785b1 com R² = 0.7026213088601732\n",
      "Modelo 'xgboost_model' versão 3 da run 50d210cf63954c3caba041167d27ee54 com R² = 0.7040234028906887\n",
      "Modelo 'xgboost_model' versão 2 da run e439df4d684e4eae838d4c59cea81ab4 com R² = 0.7128160768989399\n",
      "Modelo 'xgboost_model' versão 1 da run e7c392a765314df09d1301feb3f3fa2a com R² = 0.6904415768747783\n",
      "Carregando modelo 'xgboost_model' versão 2 da run e439df4d684e4eae838d4c59cea81ab4 com R² = 0.7128\n",
      "Modelo API 'xgboost_model' versão 7 da run c7f5488202f3431686829d21df15d091 com R² = 0.7166\n"
     ]
    },
    {
     "data": {
      "text/plain": [
       "({'r2': 0.7128160768989399,\n",
       "  'model_uri': 'runs:/e439df4d684e4eae838d4c59cea81ab4/xgboost_model',\n",
       "  'nome_modelo': 'xgboost_model',\n",
       "  'versao_modelo': 2,\n",
       "  'run_id': 'e439df4d684e4eae838d4c59cea81ab4'},\n",
       " {'r2': 0.7165948434149507,\n",
       "  'model_uri': 'runs:/c7f5488202f3431686829d21df15d091/xgboost_model',\n",
       "  'nome_modelo': 'xgboost_model',\n",
       "  'versao_modelo': 7,\n",
       "  'run_id': 'c7f5488202f3431686829d21df15d091'})"
      ]
     },
     "execution_count": 10,
     "metadata": {},
     "output_type": "execute_result"
    }
   ],
   "source": [
    "\n",
    "def carregar_modelo_com_melhor_r2(experimento_nome):\n",
    "    client = MlflowClient()\n",
    "\n",
    "    # Pega o experimento\n",
    "    experimento = client.get_experiment_by_name(experimento_nome)\n",
    "    if not experimento:\n",
    "        raise ValueError(f\"Experimento '{experimento_nome}' não encontrado.\")\n",
    "    \n",
    "    experiment_id = experimento.experiment_id\n",
    "\n",
    "    melhor_modelo = {\n",
    "        \"r2\": float('-inf'),\n",
    "        \"model_uri\": None,\n",
    "        \"nome_modelo\": None,\n",
    "        \"versao_modelo\": None,\n",
    "        \"run_id\": None\n",
    "    }\n",
    "\n",
    "    modelo_api = {\n",
    "        \"r2\": float('-inf'),\n",
    "        \"model_uri\": None,\n",
    "        \"nome_modelo\": None,\n",
    "        \"versao_modelo\": None,\n",
    "        \"run_id\": None\n",
    "    }\n",
    "\n",
    "    # Pega todas as runs ordenadas por R² (decrescente)\n",
    "    runs = client.search_runs(\n",
    "        experiment_ids=[experiment_id],\n",
    "        order_by=[\"metrics.r2 DESC\"]\n",
    "    )\n",
    "\n",
    "    modelos_registrados = client.search_registered_models()\n",
    "\n",
    "    \n",
    "\n",
    "    for modelo in modelos_registrados:\n",
    "        \n",
    "        nome_modelo = modelo.name\n",
    "\n",
    "        for versao in modelo.latest_versions:\n",
    "            # Busca informações completas da versão\n",
    "            versoes = client.search_model_versions(f\"name='{nome_modelo}'\")\n",
    "            for v in versoes:\n",
    "                run = client.get_run(v.run_id)\n",
    "\n",
    "                # Verifica se pertence ao experimento desejado\n",
    "                if run.info.experiment_id != experiment_id:\n",
    "                    continue\n",
    "\n",
    "                r2 = run.data.metrics.get(\"r2\")\n",
    "\n",
    "                source_path = v.source\n",
    "                artifact_path = source_path.split(\"/\")[-1]\n",
    "                model_uri = f\"runs:/{v.run_id}/{artifact_path}\"\n",
    "\n",
    "                print(f\"Modelo '{modelo.name}' versão {v.version} da run {v.run_id} com R² = {r2}\")\n",
    "\n",
    "                if v.current_stage == \"Production\":\n",
    "                    modelo_api.update({\n",
    "                        \"r2\": r2,\n",
    "                        \"model_uri\": model_uri,\n",
    "                        \"nome_modelo\": nome_modelo,\n",
    "                        \"versao_modelo\": v.version,\n",
    "                        \"run_id\": v.run_id\n",
    "                    })\n",
    "                    continue\n",
    "                \n",
    "                if r2 is not None and r2 > melhor_modelo[\"r2\"] and v.current_stage == \"Staging\":\n",
    "                    melhor_modelo.update({\n",
    "                        \"r2\": r2,\n",
    "                        \"model_uri\": model_uri,\n",
    "                        \"nome_modelo\": nome_modelo,\n",
    "                        \"versao_modelo\": v.version,\n",
    "                        \"run_id\": v.run_id\n",
    "                    })\n",
    "\n",
    "    if not melhor_modelo[\"model_uri\"]:\n",
    "        raise ValueError(\"Nenhum modelo em 'Staging' com métrica R² encontrado para esse experimento.\")\n",
    "\n",
    "    print(f\"Carregando modelo '{melhor_modelo['nome_modelo']}' versão {melhor_modelo['versao_modelo']} da run {melhor_modelo['run_id']} com R² = {melhor_modelo['r2']:.4f}\")\n",
    "\n",
    "    print(f\"Modelo API '{modelo_api['nome_modelo']}' versão {modelo_api['versao_modelo']} da run {modelo_api['run_id']} com R² = {modelo_api['r2']:.4f}\")\n",
    "    \n",
    "    modelo_carregado = mlflow.pyfunc.load_model(melhor_modelo[\"model_uri\"])\n",
    "    \n",
    "    return modelo_carregado, melhor_modelo, modelo_api\n",
    "    \n",
    "\n",
    "# Carregando modelo com melhor R2 \n",
    "loaded_model, melhor_modelo, modelo_api = carregar_modelo_com_melhor_r2(\"ecd15\")\n",
    "\n",
    "melhor_modelo, modelo_api\n"
   ]
  },
  {
   "cell_type": "markdown",
   "metadata": {},
   "source": [
    "## Predição de melhor modelo carregado x modelo API"
   ]
  },
  {
   "cell_type": "code",
   "execution_count": 11,
   "metadata": {},
   "outputs": [
    {
     "data": {
      "text/html": [
       "<div>\n",
       "<style scoped>\n",
       "    .dataframe tbody tr th:only-of-type {\n",
       "        vertical-align: middle;\n",
       "    }\n",
       "\n",
       "    .dataframe tbody tr th {\n",
       "        vertical-align: top;\n",
       "    }\n",
       "\n",
       "    .dataframe thead th {\n",
       "        text-align: right;\n",
       "    }\n",
       "</style>\n",
       "<table border=\"1\" class=\"dataframe\">\n",
       "  <thead>\n",
       "    <tr style=\"text-align: right;\">\n",
       "      <th></th>\n",
       "      <th>price_brl</th>\n",
       "      <th>predicao_modelo_api</th>\n",
       "      <th>predicao_melhor_modelo</th>\n",
       "    </tr>\n",
       "  </thead>\n",
       "  <tbody>\n",
       "    <tr>\n",
       "      <th>3823</th>\n",
       "      <td>419213.60</td>\n",
       "      <td>348099.19</td>\n",
       "      <td>319265.22</td>\n",
       "    </tr>\n",
       "    <tr>\n",
       "      <th>376</th>\n",
       "      <td>319400.84</td>\n",
       "      <td>314764.69</td>\n",
       "      <td>317740.22</td>\n",
       "    </tr>\n",
       "    <tr>\n",
       "      <th>5473</th>\n",
       "      <td>1287584.69</td>\n",
       "      <td>963706.62</td>\n",
       "      <td>983341.94</td>\n",
       "    </tr>\n",
       "    <tr>\n",
       "      <th>2282</th>\n",
       "      <td>726908.65</td>\n",
       "      <td>730391.00</td>\n",
       "      <td>696935.06</td>\n",
       "    </tr>\n",
       "    <tr>\n",
       "      <th>980</th>\n",
       "      <td>494701.71</td>\n",
       "      <td>330280.34</td>\n",
       "      <td>365088.44</td>\n",
       "    </tr>\n",
       "    <tr>\n",
       "      <th>10954</th>\n",
       "      <td>558951.47</td>\n",
       "      <td>604923.69</td>\n",
       "      <td>633396.56</td>\n",
       "    </tr>\n",
       "    <tr>\n",
       "      <th>6607</th>\n",
       "      <td>993137.02</td>\n",
       "      <td>1018210.06</td>\n",
       "      <td>1014023.75</td>\n",
       "    </tr>\n",
       "    <tr>\n",
       "      <th>1212</th>\n",
       "      <td>678726.79</td>\n",
       "      <td>668755.38</td>\n",
       "      <td>751220.06</td>\n",
       "    </tr>\n",
       "    <tr>\n",
       "      <th>6408</th>\n",
       "      <td>1362953.71</td>\n",
       "      <td>1182253.38</td>\n",
       "      <td>1227060.62</td>\n",
       "    </tr>\n",
       "    <tr>\n",
       "      <th>11009</th>\n",
       "      <td>1274609.05</td>\n",
       "      <td>1222384.38</td>\n",
       "      <td>1275967.25</td>\n",
       "    </tr>\n",
       "    <tr>\n",
       "      <th>3655</th>\n",
       "      <td>696620.79</td>\n",
       "      <td>798778.81</td>\n",
       "      <td>778495.31</td>\n",
       "    </tr>\n",
       "    <tr>\n",
       "      <th>6564</th>\n",
       "      <td>1247659.60</td>\n",
       "      <td>1070625.50</td>\n",
       "      <td>1130717.88</td>\n",
       "    </tr>\n",
       "    <tr>\n",
       "      <th>773</th>\n",
       "      <td>429078.02</td>\n",
       "      <td>355035.81</td>\n",
       "      <td>360587.94</td>\n",
       "    </tr>\n",
       "    <tr>\n",
       "      <th>3690</th>\n",
       "      <td>1207734.48</td>\n",
       "      <td>863029.62</td>\n",
       "      <td>940956.25</td>\n",
       "    </tr>\n",
       "    <tr>\n",
       "      <th>9158</th>\n",
       "      <td>429194.89</td>\n",
       "      <td>542877.56</td>\n",
       "      <td>565915.31</td>\n",
       "    </tr>\n",
       "    <tr>\n",
       "      <th>7382</th>\n",
       "      <td>648782.97</td>\n",
       "      <td>1041795.38</td>\n",
       "      <td>1064887.00</td>\n",
       "    </tr>\n",
       "    <tr>\n",
       "      <th>3171</th>\n",
       "      <td>336195.25</td>\n",
       "      <td>491103.19</td>\n",
       "      <td>457765.66</td>\n",
       "    </tr>\n",
       "    <tr>\n",
       "      <th>6786</th>\n",
       "      <td>259513.19</td>\n",
       "      <td>373186.94</td>\n",
       "      <td>386248.59</td>\n",
       "    </tr>\n",
       "    <tr>\n",
       "      <th>10635</th>\n",
       "      <td>688708.09</td>\n",
       "      <td>512069.88</td>\n",
       "      <td>537990.50</td>\n",
       "    </tr>\n",
       "    <tr>\n",
       "      <th>10496</th>\n",
       "      <td>262494.77</td>\n",
       "      <td>270661.06</td>\n",
       "      <td>332603.50</td>\n",
       "    </tr>\n",
       "  </tbody>\n",
       "</table>\n",
       "</div>"
      ],
      "text/plain": [
       "        price_brl  predicao_modelo_api  predicao_melhor_modelo\n",
       "3823    419213.60            348099.19               319265.22\n",
       "376     319400.84            314764.69               317740.22\n",
       "5473   1287584.69            963706.62               983341.94\n",
       "2282    726908.65            730391.00               696935.06\n",
       "980     494701.71            330280.34               365088.44\n",
       "10954   558951.47            604923.69               633396.56\n",
       "6607    993137.02           1018210.06              1014023.75\n",
       "1212    678726.79            668755.38               751220.06\n",
       "6408   1362953.71           1182253.38              1227060.62\n",
       "11009  1274609.05           1222384.38              1275967.25\n",
       "3655    696620.79            798778.81               778495.31\n",
       "6564   1247659.60           1070625.50              1130717.88\n",
       "773     429078.02            355035.81               360587.94\n",
       "3690   1207734.48            863029.62               940956.25\n",
       "9158    429194.89            542877.56               565915.31\n",
       "7382    648782.97           1041795.38              1064887.00\n",
       "3171    336195.25            491103.19               457765.66\n",
       "6786    259513.19            373186.94               386248.59\n",
       "10635   688708.09            512069.88               537990.50\n",
       "10496   262494.77            270661.06               332603.50"
      ]
     },
     "execution_count": 11,
     "metadata": {},
     "output_type": "execute_result"
    }
   ],
   "source": [
    "# Fazer a previsão\n",
    "predictions = loaded_model.predict(x_features)\n",
    "\n",
    "# Adicionar as previsões ao DataFrame\n",
    "df_sample[\"predicao_melhor_modelo\"] = predictions\n",
    "\n",
    "# converter previsões para o mesmo tipo da variável alvo\n",
    "df_sample[\"predicao_melhor_modelo\"] = df_sample[\"predicao_melhor_modelo\"].astype(float).round(2)\n",
    "\n",
    "previsao_json = json.loads(previsao.text)\n",
    "\n",
    "# Extrair as previsões do JSON e adicioná-las ao DataFrame\n",
    "df_sample[\"predicao_modelo_api\"] = [round(pred, 2) for pred in previsao_json[\"predictions\"]]\n",
    "\n",
    "# Exibir o DataFrame atualizado\n",
    "df_sample[[\"price_brl\", \"predicao_modelo_api\", \"predicao_melhor_modelo\"]]"
   ]
  },
  {
   "cell_type": "markdown",
   "metadata": {},
   "source": [
    "### Comparação R² Score dos modelos"
   ]
  },
  {
   "cell_type": "code",
   "execution_count": 12,
   "metadata": {},
   "outputs": [
    {
     "name": "stdout",
     "output_type": "stream",
     "text": [
      "R² API: 0.8166 R² Melhor Modelo: 0.8166\n"
     ]
    }
   ],
   "source": [
    "# Calcular R²\n",
    "r2_melhor_modelo = r2_score(df_sample[\"price_brl\"], df_sample[\"predicao_melhor_modelo\"])\n",
    "r2_api = r2_score(df_sample[\"price_brl\"], df_sample[\"predicao_melhor_modelo\"])\n",
    "print(f\"R² API: {r2_melhor_modelo:.4f} R² Melhor Modelo: {r2_api:.4f}\")"
   ]
  },
  {
   "cell_type": "markdown",
   "metadata": {},
   "source": [
    "### Promover melhor modelo para Produção"
   ]
  },
  {
   "cell_type": "code",
   "execution_count": 13,
   "metadata": {},
   "outputs": [
    {
     "name": "stderr",
     "output_type": "stream",
     "text": [
      "/tmp/ipykernel_236/274293922.py:33: FutureWarning: ``mlflow.tracking.client.MlflowClient.transition_model_version_stage`` is deprecated since 2.9.0. Model registry stages will be removed in a future major release. To learn more about the deprecation of model registry stages, see our migration guide here: https://mlflow.org/docs/latest/model-registry.html#migrating-from-stages\n",
      "  client.transition_model_version_stage(\n",
      "/tmp/ipykernel_236/274293922.py:47: FutureWarning: ``mlflow.tracking.client.MlflowClient.transition_model_version_stage`` is deprecated since 2.9.0. Model registry stages will be removed in a future major release. To learn more about the deprecation of model registry stages, see our migration guide here: https://mlflow.org/docs/latest/model-registry.html#migrating-from-stages\n",
      "  client.transition_model_version_stage(\n"
     ]
    },
    {
     "name": "stdout",
     "output_type": "stream",
     "text": [
      "Modelo 'xgboost_model' versão 2 promovido para 'Production'.\n",
      "Modelo gradient_boosting_model Versão 9 arquivado.\n",
      "Modelo random_forest_model Versão 9 arquivado.\n",
      "Modelo linear_regression_model Versão 9 arquivado.\n",
      "Modelo decision_tree_model Versão 9 arquivado.\n",
      "Modelo gradient_boosting_model Versão 8 arquivado.\n",
      "Modelo random_forest_model Versão 8 arquivado.\n",
      "Modelo linear_regression_model Versão 8 arquivado.\n",
      "Modelo decision_tree_model Versão 8 arquivado.\n",
      "Modelo gradient_boosting_model Versão 7 arquivado.\n",
      "Modelo random_forest_model Versão 7 arquivado.\n",
      "Modelo linear_regression_model Versão 7 arquivado.\n",
      "Modelo decision_tree_model Versão 7 arquivado.\n",
      "Modelo gradient_boosting_model Versão 6 arquivado.\n",
      "Modelo random_forest_model Versão 6 arquivado.\n",
      "Modelo linear_regression_model Versão 6 arquivado.\n",
      "Modelo decision_tree_model Versão 6 arquivado.\n",
      "Modelo gradient_boosting_model Versão 5 arquivado.\n",
      "Modelo random_forest_model Versão 5 arquivado.\n",
      "Modelo linear_regression_model Versão 5 arquivado.\n",
      "Modelo decision_tree_model Versão 5 arquivado.\n",
      "Modelo gradient_boosting_model Versão 4 arquivado.\n",
      "Modelo random_forest_model Versão 4 arquivado.\n",
      "Modelo linear_regression_model Versão 4 arquivado.\n",
      "Modelo decision_tree_model Versão 4 arquivado.\n",
      "Modelo gradient_boosting_model Versão 3 arquivado.\n",
      "Modelo random_forest_model Versão 3 arquivado.\n",
      "Modelo linear_regression_model Versão 3 arquivado.\n",
      "Modelo decision_tree_model Versão 3 arquivado.\n",
      "Modelo gradient_boosting_model Versão 1 arquivado.\n",
      "Modelo random_forest_model Versão 1 arquivado.\n",
      "Modelo linear_regression_model Versão 1 arquivado.\n",
      "Modelo decision_tree_model Versão 1 arquivado.\n"
     ]
    },
    {
     "name": "stdout",
     "output_type": "stream",
     "text": [
      "Modelo decision_tree_model Versão 27 arquivado.\n"
     ]
    },
    {
     "name": "stdout",
     "output_type": "stream",
     "text": [
      "Modelo xgboost_model Versão 26 arquivado.\n"
     ]
    },
    {
     "name": "stdout",
     "output_type": "stream",
     "text": [
      "Modelo gradient_boosting_model Versão 26 arquivado.\n"
     ]
    },
    {
     "name": "stdout",
     "output_type": "stream",
     "text": [
      "Modelo linear_regression_model Versão 26 arquivado.\n"
     ]
    },
    {
     "name": "stdout",
     "output_type": "stream",
     "text": [
      "Modelo decision_tree_model Versão 26 arquivado.\n"
     ]
    },
    {
     "name": "stdout",
     "output_type": "stream",
     "text": [
      "Modelo xgboost_model Versão 24 arquivado.\n"
     ]
    },
    {
     "name": "stdout",
     "output_type": "stream",
     "text": [
      "Modelo gradient_boosting_model Versão 24 arquivado.\n"
     ]
    },
    {
     "name": "stdout",
     "output_type": "stream",
     "text": [
      "Modelo linear_regression_model Versão 24 arquivado.\n"
     ]
    },
    {
     "name": "stdout",
     "output_type": "stream",
     "text": [
      "Modelo decision_tree_model Versão 24 arquivado.\n"
     ]
    },
    {
     "name": "stdout",
     "output_type": "stream",
     "text": [
      "Modelo xgboost_model Versão 23 arquivado.\n"
     ]
    },
    {
     "name": "stdout",
     "output_type": "stream",
     "text": [
      "Modelo gradient_boosting_model Versão 23 arquivado.\n"
     ]
    },
    {
     "name": "stdout",
     "output_type": "stream",
     "text": [
      "Modelo linear_regression_model Versão 23 arquivado.\n"
     ]
    },
    {
     "name": "stdout",
     "output_type": "stream",
     "text": [
      "Modelo decision_tree_model Versão 23 arquivado.\n"
     ]
    },
    {
     "name": "stdout",
     "output_type": "stream",
     "text": [
      "Modelo xgboost_model Versão 22 arquivado.\n",
      "Modelo gradient_boosting_model Versão 22 arquivado.\n"
     ]
    },
    {
     "name": "stdout",
     "output_type": "stream",
     "text": [
      "Modelo linear_regression_model Versão 22 arquivado.\n"
     ]
    },
    {
     "name": "stdout",
     "output_type": "stream",
     "text": [
      "Modelo decision_tree_model Versão 22 arquivado.\n"
     ]
    },
    {
     "name": "stdout",
     "output_type": "stream",
     "text": [
      "Modelo xgboost_model Versão 21 arquivado.\n"
     ]
    },
    {
     "name": "stdout",
     "output_type": "stream",
     "text": [
      "Modelo gradient_boosting_model Versão 21 arquivado.\n"
     ]
    },
    {
     "name": "stdout",
     "output_type": "stream",
     "text": [
      "Modelo linear_regression_model Versão 21 arquivado.\n"
     ]
    },
    {
     "name": "stdout",
     "output_type": "stream",
     "text": [
      "Modelo decision_tree_model Versão 21 arquivado.\n"
     ]
    },
    {
     "name": "stdout",
     "output_type": "stream",
     "text": [
      "Modelo xgboost_model Versão 20 arquivado.\n"
     ]
    },
    {
     "name": "stdout",
     "output_type": "stream",
     "text": [
      "Modelo gradient_boosting_model Versão 20 arquivado.\n"
     ]
    },
    {
     "name": "stdout",
     "output_type": "stream",
     "text": [
      "Modelo linear_regression_model Versão 20 arquivado.\n"
     ]
    },
    {
     "name": "stdout",
     "output_type": "stream",
     "text": [
      "Modelo decision_tree_model Versão 20 arquivado.\n",
      "Modelo xgboost_model Versão 19 arquivado.\n"
     ]
    },
    {
     "name": "stdout",
     "output_type": "stream",
     "text": [
      "Modelo gradient_boosting_model Versão 19 arquivado.\n",
      "Modelo linear_regression_model Versão 19 arquivado.\n",
      "Modelo decision_tree_model Versão 19 arquivado.\n"
     ]
    },
    {
     "name": "stdout",
     "output_type": "stream",
     "text": [
      "Modelo xgboost_model Versão 16 arquivado.\n",
      "Modelo gradient_boosting_model Versão 18 arquivado.\n"
     ]
    },
    {
     "name": "stdout",
     "output_type": "stream",
     "text": [
      "Modelo linear_regression_model Versão 18 arquivado.\n",
      "Modelo decision_tree_model Versão 18 arquivado.\n"
     ]
    },
    {
     "name": "stdout",
     "output_type": "stream",
     "text": [
      "Modelo gradient_boosting_model Versão 17 arquivado.\n",
      "Modelo linear_regression_model Versão 17 arquivado.\n",
      "Modelo decision_tree_model Versão 17 arquivado.\n"
     ]
    },
    {
     "name": "stdout",
     "output_type": "stream",
     "text": [
      "Modelo gradient_boosting_model Versão 16 arquivado.\n",
      "Modelo linear_regression_model Versão 16 arquivado.\n",
      "Modelo decision_tree_model Versão 16 arquivado.\n"
     ]
    },
    {
     "name": "stdout",
     "output_type": "stream",
     "text": [
      "Modelo gradient_boosting_model Versão 15 arquivado.\n",
      "Modelo linear_regression_model Versão 15 arquivado.\n"
     ]
    },
    {
     "name": "stdout",
     "output_type": "stream",
     "text": [
      "Modelo decision_tree_model Versão 15 arquivado.\n",
      "Modelo gradient_boosting_model Versão 14 arquivado.\n"
     ]
    },
    {
     "name": "stdout",
     "output_type": "stream",
     "text": [
      "Modelo linear_regression_model Versão 14 arquivado.\n",
      "Modelo decision_tree_model Versão 14 arquivado.\n"
     ]
    },
    {
     "name": "stdout",
     "output_type": "stream",
     "text": [
      "Modelo gradient_boosting_model Versão 13 arquivado.\n",
      "Modelo linear_regression_model Versão 13 arquivado.\n"
     ]
    },
    {
     "name": "stdout",
     "output_type": "stream",
     "text": [
      "Modelo decision_tree_model Versão 13 arquivado.\n",
      "Modelo gradient_boosting_model Versão 12 arquivado.\n"
     ]
    },
    {
     "name": "stdout",
     "output_type": "stream",
     "text": [
      "Modelo linear_regression_model Versão 12 arquivado.\n",
      "Modelo decision_tree_model Versão 12 arquivado.\n",
      "Modelo gradient_boosting_model Versão 11 arquivado.\n"
     ]
    },
    {
     "name": "stdout",
     "output_type": "stream",
     "text": [
      "Modelo linear_regression_model Versão 11 arquivado.\n",
      "Modelo decision_tree_model Versão 11 arquivado.\n"
     ]
    },
    {
     "name": "stdout",
     "output_type": "stream",
     "text": [
      "Modelo gradient_boosting_model Versão 10 arquivado.\n",
      "Modelo linear_regression_model Versão 10 arquivado.\n"
     ]
    },
    {
     "name": "stdout",
     "output_type": "stream",
     "text": [
      "Modelo decision_tree_model Versão 10 arquivado.\n",
      "Modelo gradient_boosting_model Versão 9 arquivado.\n"
     ]
    },
    {
     "name": "stdout",
     "output_type": "stream",
     "text": [
      "Modelo linear_regression_model Versão 9 arquivado.\n",
      "Modelo decision_tree_model Versão 9 arquivado.\n"
     ]
    },
    {
     "name": "stdout",
     "output_type": "stream",
     "text": [
      "Modelo gradient_boosting_model Versão 8 arquivado.\n",
      "Modelo linear_regression_model Versão 8 arquivado.\n"
     ]
    },
    {
     "name": "stdout",
     "output_type": "stream",
     "text": [
      "Modelo decision_tree_model Versão 8 arquivado.\n",
      "Modelo gradient_boosting_model Versão 7 arquivado.\n"
     ]
    },
    {
     "name": "stdout",
     "output_type": "stream",
     "text": [
      "Modelo linear_regression_model Versão 7 arquivado.\n",
      "Modelo decision_tree_model Versão 7 arquivado.\n",
      "Modelo gradient_boosting_model Versão 6 arquivado.\n"
     ]
    },
    {
     "name": "stdout",
     "output_type": "stream",
     "text": [
      "Modelo linear_regression_model Versão 6 arquivado.\n",
      "Modelo decision_tree_model Versão 6 arquivado.\n"
     ]
    },
    {
     "name": "stdout",
     "output_type": "stream",
     "text": [
      "Modelo gradient_boosting_model Versão 5 arquivado.\n",
      "Modelo linear_regression_model Versão 5 arquivado.\n"
     ]
    },
    {
     "name": "stdout",
     "output_type": "stream",
     "text": [
      "Modelo decision_tree_model Versão 5 arquivado.\n",
      "Modelo gradient_boosting_model Versão 4 arquivado.\n",
      "Modelo linear_regression_model Versão 4 arquivado.\n"
     ]
    },
    {
     "name": "stdout",
     "output_type": "stream",
     "text": [
      "Modelo decision_tree_model Versão 4 arquivado.\n",
      "Modelo gradient_boosting_model Versão 3 arquivado.\n",
      "Modelo linear_regression_model Versão 3 arquivado.\n"
     ]
    },
    {
     "name": "stdout",
     "output_type": "stream",
     "text": [
      "Modelo decision_tree_model Versão 3 arquivado.\n",
      "Modelo gradient_boosting_model Versão 2 arquivado.\n",
      "Modelo linear_regression_model Versão 2 arquivado.\n"
     ]
    },
    {
     "name": "stdout",
     "output_type": "stream",
     "text": [
      "Modelo decision_tree_model Versão 2 arquivado.\n",
      "Modelo gradient_boosting_model Versão 1 arquivado.\n",
      "Modelo linear_regression_model Versão 1 arquivado.\n"
     ]
    },
    {
     "name": "stdout",
     "output_type": "stream",
     "text": [
      "Modelo decision_tree_model Versão 1 arquivado.\n"
     ]
    }
   ],
   "source": [
    "def parar_modelo_mlflow():\n",
    "    # Encontra o processo que está usando a porta 5000\n",
    "    try:\n",
    "        resultado = subprocess.check_output(\"lsof -i :5000 -t\", shell=True)\n",
    "        pids = resultado.decode().strip().split(\"\\n\")\n",
    "        for pid in pids:\n",
    "            os.kill(int(pid), signal.SIGTERM)\n",
    "        print(\"Servidor de modelo parado com sucesso.\")\n",
    "    except subprocess.CalledProcessError:\n",
    "        print(\"Nenhum processo na porta 5000 foi encontrado.\")\n",
    "\n",
    "def parar_modelo_mlflow1():\n",
    "    try:\n",
    "        resultado = subprocess.check_output(\"lsof -i :5000 -sTCP:LISTEN -nP\", shell=True)\n",
    "        linhas = resultado.decode().strip().split(\"\\n\")[1:]  # ignora cabeçalho\n",
    "        for linha in linhas:\n",
    "            if \"mlflow\" in linha.lower():\n",
    "                pid = int(linha.split()[1])\n",
    "                os.kill(pid, signal.SIGTERM)\n",
    "                print(f\"Servidor MLflow (PID {pid}) parado com sucesso.\")\n",
    "            else:\n",
    "                print(\"⚠️ Porta 5000 ocupada por outro processo que não é o MLflow. Ignorado.\")\n",
    "    except subprocess.CalledProcessError:\n",
    "        print(\"Nenhum processo ouvindo na porta 5000 foi encontrado.\")\n",
    "\n",
    "def promover_modelo_para_producao(modelo):\n",
    "    client = MlflowClient()\n",
    "\n",
    "    nome_modelo = modelo[\"nome_modelo\"]\n",
    "    versao_modelo = modelo[\"versao_modelo\"]\n",
    "\n",
    "    # Promover o modelo selecionado\n",
    "    client.transition_model_version_stage(\n",
    "        name=nome_modelo,\n",
    "        version=versao_modelo,\n",
    "        stage=\"Production\",\n",
    "        archive_existing_versions=True  # arquiva automaticamente os outros em Production\n",
    "    )\n",
    "    print(f\"Modelo '{nome_modelo}' versão {versao_modelo} promovido para 'Production'.\")\n",
    "\n",
    "    # Agora vamos arquivar os que ainda estão em Staging\n",
    "    todos_modelos = client.search_model_versions(\"name LIKE '%_model'\")\n",
    "    modelos_ativos = [v for v in todos_modelos if v.current_stage != \"Archived\"]\n",
    "    \n",
    "    for v in modelos_ativos:\n",
    "        if v.version != versao_modelo and v.name != nome_modelo:\n",
    "            client.transition_model_version_stage(\n",
    "                name=nome_modelo,\n",
    "                version=v.version,\n",
    "                stage=\"Archived\"\n",
    "            )\n",
    "            print(f\"Modelo { v.name } Versão {v.version} arquivado.\")\n",
    "\n",
    "def servir_melhor_modelo(experimento_nome, modelo):\n",
    "    client = MlflowClient()\n",
    "    \n",
    "    # Parar modelo atual\n",
    "    #parar_modelo_mlflow1()\n",
    "\n",
    "    model_uri = modelo[\"model_uri\"]\n",
    "\n",
    "    #comando = f\"mlflow models serve -m {model_uri} --no-conda --host 0.0.0.0 --port 5000 &\"\n",
    "    #print(f\"Executando comando:\\n{comando}\")\n",
    "    #get_ipython().system(comando)\n",
    "\n",
    "    promover_modelo_para_producao(modelo)\n",
    "\n",
    "servir_melhor_modelo(\"ecd15\", melhor_modelo)"
   ]
  },
  {
   "cell_type": "code",
   "execution_count": null,
   "metadata": {},
   "outputs": [],
   "source": []
  }
 ],
 "metadata": {
  "kernelspec": {
   "display_name": "Python 3 (ipykernel)",
   "language": "python",
   "name": "python3"
  },
  "language_info": {
   "codemirror_mode": {
    "name": "ipython",
    "version": 3
   },
   "file_extension": ".py",
   "mimetype": "text/x-python",
   "name": "python",
   "nbconvert_exporter": "python",
   "pygments_lexer": "ipython3",
   "version": "3.10.17"
  }
 },
 "nbformat": 4,
 "nbformat_minor": 4
}
