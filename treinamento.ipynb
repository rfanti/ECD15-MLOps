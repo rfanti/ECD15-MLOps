{
 "cells": [
  {
   "cell_type": "markdown",
   "metadata": {},
   "source": [
    "# Treinamento"
   ]
  },
  {
   "cell_type": "markdown",
   "metadata": {},
   "source": [
    "## Inicialização"
   ]
  },
  {
   "cell_type": "code",
   "execution_count": 5,
   "metadata": {},
   "outputs": [],
   "source": [
    "# Config Inicial\n",
    "import pandas as pd\n",
    "import numpy as np\n",
    "import matplotlib.pyplot as plt\n",
    "\n",
    "from scipy import stats\n",
    "\n",
    "from sklearn.model_selection import train_test_split\n",
    "from sklearn.preprocessing import StandardScaler, OneHotEncoder\n",
    "from sklearn.compose import ColumnTransformer\n",
    "from sklearn.pipeline import Pipeline\n",
    "\n",
    "from sklearn.tree import DecisionTreeRegressor\n",
    "from sklearn.linear_model import LinearRegression\n",
    "from sklearn.ensemble import RandomForestRegressor\n",
    "from sklearn.ensemble import GradientBoostingRegressor\n",
    "from xgboost import XGBRegressor\n",
    "\n",
    "from sklearn.metrics import *\n",
    "\n",
    "import mlflow\n",
    "import mlflow.sklearn\n",
    "from mlflow.models import infer_signature"
   ]
  },
  {
   "cell_type": "markdown",
   "metadata": {},
   "source": [
    "### MLFlow"
   ]
  },
  {
   "cell_type": "code",
   "execution_count": 6,
   "metadata": {},
   "outputs": [
    {
     "data": {
      "text/plain": [
       "<Experiment: artifact_location='file:///C:/Estudo/ECD15-MLOps/models/mlruns/0', creation_time=1743297663367, experiment_id='0', last_update_time=1743297701488, lifecycle_stage='active', name='ecd15', tags={}>"
      ]
     },
     "execution_count": 6,
     "metadata": {},
     "output_type": "execute_result"
    }
   ],
   "source": [
    "mlflow.set_tracking_uri(\"sqlite:///mlflow.db\")\n",
    "\n",
    "mlflow.set_experiment(\"ecd15\")"
   ]
  },
  {
   "cell_type": "code",
   "execution_count": 7,
   "metadata": {},
   "outputs": [],
   "source": [
    "seeds = [42, 47, 123]"
   ]
  },
  {
   "cell_type": "markdown",
   "metadata": {},
   "source": [
    "## Dataset"
   ]
  },
  {
   "cell_type": "markdown",
   "metadata": {},
   "source": [
    "O pré-processamento inicial foi realizado no dataset `brasile-real-state-dataset.csv`, onde as colunas de latitude e longitude foram convertidas em informações de cidade e estado. Esse processo resultou na criação do dataset `brasil_estado_cidade.csv`, que está sendo utilizado para o treinamento dos modelos apresentados a seguir.\n"
   ]
  },
  {
   "cell_type": "markdown",
   "metadata": {},
   "source": [
    "### Leitura"
   ]
  },
  {
   "cell_type": "code",
   "execution_count": 8,
   "metadata": {},
   "outputs": [
    {
     "name": "stderr",
     "output_type": "stream",
     "text": [
      "/tmp/ipykernel_148/3995125492.py:18: DeprecationWarning: DataFrameGroupBy.apply operated on the grouping columns. This behavior is deprecated, and in a future version of pandas the grouping columns will be excluded from the operation. Either pass `include_groups=False` to exclude the groupings or explicitly select the grouping columns after groupby to silence this warning.\n",
      "  df_filtrado = df.groupby(\"city\").apply(remover_outliers_grupo).reset_index(drop=True)\n"
     ]
    },
    {
     "data": {
      "text/html": [
       "<div>\n",
       "<style scoped>\n",
       "    .dataframe tbody tr th:only-of-type {\n",
       "        vertical-align: middle;\n",
       "    }\n",
       "\n",
       "    .dataframe tbody tr th {\n",
       "        vertical-align: top;\n",
       "    }\n",
       "\n",
       "    .dataframe thead th {\n",
       "        text-align: right;\n",
       "    }\n",
       "</style>\n",
       "<table border=\"1\" class=\"dataframe\">\n",
       "  <thead>\n",
       "    <tr style=\"text-align: right;\">\n",
       "      <th></th>\n",
       "      <th>Unnamed: 0</th>\n",
       "      <th>property_type</th>\n",
       "      <th>state</th>\n",
       "      <th>region</th>\n",
       "      <th>lat</th>\n",
       "      <th>lon</th>\n",
       "      <th>area_m2</th>\n",
       "      <th>price_brl</th>\n",
       "      <th>city</th>\n",
       "    </tr>\n",
       "  </thead>\n",
       "  <tbody>\n",
       "    <tr>\n",
       "      <th>8974</th>\n",
       "      <td>5809.0</td>\n",
       "      <td>apartment</td>\n",
       "      <td>Rio de Janeiro</td>\n",
       "      <td>Southeast</td>\n",
       "      <td>-22.872278</td>\n",
       "      <td>-43.028980</td>\n",
       "      <td>53.0</td>\n",
       "      <td>329382.13</td>\n",
       "      <td>Sete Pontes</td>\n",
       "    </tr>\n",
       "    <tr>\n",
       "      <th>717</th>\n",
       "      <td>8352.0</td>\n",
       "      <td>apartment</td>\n",
       "      <td>Santa Catarina</td>\n",
       "      <td>South</td>\n",
       "      <td>-26.985996</td>\n",
       "      <td>-48.636383</td>\n",
       "      <td>76.0</td>\n",
       "      <td>499063.83</td>\n",
       "      <td>Balneário Camboriú</td>\n",
       "    </tr>\n",
       "    <tr>\n",
       "      <th>8108</th>\n",
       "      <td>6339.0</td>\n",
       "      <td>apartment</td>\n",
       "      <td>Rio de Janeiro</td>\n",
       "      <td>Southeast</td>\n",
       "      <td>-22.914837</td>\n",
       "      <td>-43.182472</td>\n",
       "      <td>75.0</td>\n",
       "      <td>538988.95</td>\n",
       "      <td>Rio de Janeiro</td>\n",
       "    </tr>\n",
       "    <tr>\n",
       "      <th>5606</th>\n",
       "      <td>3331.0</td>\n",
       "      <td>apartment</td>\n",
       "      <td>Rio Grande do Sul</td>\n",
       "      <td>South</td>\n",
       "      <td>-30.015261</td>\n",
       "      <td>-51.165073</td>\n",
       "      <td>87.0</td>\n",
       "      <td>548970.21</td>\n",
       "      <td>Porto Alegre</td>\n",
       "    </tr>\n",
       "    <tr>\n",
       "      <th>4257</th>\n",
       "      <td>1259.0</td>\n",
       "      <td>apartment</td>\n",
       "      <td>Rio Grande do Sul</td>\n",
       "      <td>South</td>\n",
       "      <td>-30.031038</td>\n",
       "      <td>-51.217381</td>\n",
       "      <td>90.0</td>\n",
       "      <td>666332.92</td>\n",
       "      <td>Porto Alegre</td>\n",
       "    </tr>\n",
       "    <tr>\n",
       "      <th>2879</th>\n",
       "      <td>230.0</td>\n",
       "      <td>apartment</td>\n",
       "      <td>Pernambuco</td>\n",
       "      <td>Northeast</td>\n",
       "      <td>-8.215346</td>\n",
       "      <td>-34.927231</td>\n",
       "      <td>103.0</td>\n",
       "      <td>469120.01</td>\n",
       "      <td>Jaboatão dos Guararapes</td>\n",
       "    </tr>\n",
       "    <tr>\n",
       "      <th>8852</th>\n",
       "      <td>12225.0</td>\n",
       "      <td>house</td>\n",
       "      <td>So Paulo</td>\n",
       "      <td>Southeast</td>\n",
       "      <td>-23.648643</td>\n",
       "      <td>-46.543930</td>\n",
       "      <td>127.0</td>\n",
       "      <td>548970.21</td>\n",
       "      <td>Santo André</td>\n",
       "    </tr>\n",
       "    <tr>\n",
       "      <th>9585</th>\n",
       "      <td>10306.0</td>\n",
       "      <td>house</td>\n",
       "      <td>So Paulo</td>\n",
       "      <td>Southeast</td>\n",
       "      <td>-23.501787</td>\n",
       "      <td>-46.681152</td>\n",
       "      <td>200.0</td>\n",
       "      <td>479101.27</td>\n",
       "      <td>São Paulo</td>\n",
       "    </tr>\n",
       "    <tr>\n",
       "      <th>8375</th>\n",
       "      <td>1768.0</td>\n",
       "      <td>apartment</td>\n",
       "      <td>Rio Grande do Sul</td>\n",
       "      <td>South</td>\n",
       "      <td>-29.700670</td>\n",
       "      <td>-52.443275</td>\n",
       "      <td>72.0</td>\n",
       "      <td>334572.82</td>\n",
       "      <td>Santa Cruz do Sul</td>\n",
       "    </tr>\n",
       "    <tr>\n",
       "      <th>7294</th>\n",
       "      <td>5154.0</td>\n",
       "      <td>apartment</td>\n",
       "      <td>Rio de Janeiro</td>\n",
       "      <td>Southeast</td>\n",
       "      <td>-22.899942</td>\n",
       "      <td>-43.281296</td>\n",
       "      <td>73.0</td>\n",
       "      <td>409232.33</td>\n",
       "      <td>Rio de Janeiro</td>\n",
       "    </tr>\n",
       "  </tbody>\n",
       "</table>\n",
       "</div>"
      ],
      "text/plain": [
       "      Unnamed: 0 property_type              state     region        lat  \\\n",
       "8974      5809.0     apartment     Rio de Janeiro  Southeast -22.872278   \n",
       "717       8352.0     apartment     Santa Catarina      South -26.985996   \n",
       "8108      6339.0     apartment     Rio de Janeiro  Southeast -22.914837   \n",
       "5606      3331.0     apartment  Rio Grande do Sul      South -30.015261   \n",
       "4257      1259.0     apartment  Rio Grande do Sul      South -30.031038   \n",
       "2879       230.0     apartment         Pernambuco  Northeast  -8.215346   \n",
       "8852     12225.0         house          So Paulo  Southeast -23.648643   \n",
       "9585     10306.0         house          So Paulo  Southeast -23.501787   \n",
       "8375      1768.0     apartment  Rio Grande do Sul      South -29.700670   \n",
       "7294      5154.0     apartment     Rio de Janeiro  Southeast -22.899942   \n",
       "\n",
       "            lon  area_m2  price_brl                     city  \n",
       "8974 -43.028980     53.0  329382.13              Sete Pontes  \n",
       "717  -48.636383     76.0  499063.83       Balneário Camboriú  \n",
       "8108 -43.182472     75.0  538988.95           Rio de Janeiro  \n",
       "5606 -51.165073     87.0  548970.21             Porto Alegre  \n",
       "4257 -51.217381     90.0  666332.92             Porto Alegre  \n",
       "2879 -34.927231    103.0  469120.01  Jaboatão dos Guararapes  \n",
       "8852 -46.543930    127.0  548970.21              Santo André  \n",
       "9585 -46.681152    200.0  479101.27                São Paulo  \n",
       "8375 -52.443275     72.0  334572.82        Santa Cruz do Sul  \n",
       "7294 -43.281296     73.0  409232.33           Rio de Janeiro  "
      ]
     },
     "execution_count": 8,
     "metadata": {},
     "output_type": "execute_result"
    }
   ],
   "source": [
    "# Carregar o conjunto de dados\n",
    "dados = pd.read_csv(\"dataset/brasil_estado_cidade.csv\", encoding=\"utf-8\")\n",
    "\n",
    "# Eliminando registros com valores null\n",
    "dados.dropna(inplace=True)\n",
    "\n",
    "# float64\n",
    "dados = dados.astype({col: 'float64' for col in dados.select_dtypes(include='int').columns})\n",
    "\n",
    "def remover_outliers_por_cidade(df):\n",
    "    # Remove outliers da coluna 'price_brl' agrupando por cidade.\n",
    "\n",
    "    def remover_outliers_grupo(grupo):\n",
    "        # Remove outliers de um grupo usando o método Z-score.\n",
    "        z_scores = np.abs(stats.zscore(grupo[\"price_brl\"]))\n",
    "        return grupo[(z_scores < 3)]\n",
    "\n",
    "    df_filtrado = df.groupby(\"city\").apply(remover_outliers_grupo).reset_index(drop=True)\n",
    "    return df_filtrado\n",
    "\n",
    "dados = remover_outliers_por_cidade(dados)\n",
    "\n",
    "dados.sample(10)"
   ]
  },
  {
   "cell_type": "markdown",
   "metadata": {},
   "source": [
    "### Tratamento Features"
   ]
  },
  {
   "cell_type": "code",
   "execution_count": 9,
   "metadata": {},
   "outputs": [],
   "source": [
    "# Exemplo de pré-processamento\n",
    "x_features = dados.drop([\"price_brl\"], axis=1)  # Features\n",
    "y_target = dados[\"price_brl\"]  # Variável alvo\n",
    "\n",
    "# Identificando colunas numéricas e categóricas\n",
    "numeric_features = x_features.select_dtypes(include=['number']).columns\n",
    "categorical_features = x_features.select_dtypes(include=['object']).columns\n",
    "\n",
    "# Criando transformadores\n",
    "numeric_transformer = StandardScaler()\n",
    "categorical_transformer = OneHotEncoder(handle_unknown='ignore')\n",
    "\n",
    "# Criando o ColumnTransformer\n",
    "preprocessor = ColumnTransformer(\n",
    "    transformers=[\n",
    "        ('num', numeric_transformer, numeric_features),\n",
    "        ('cat', categorical_transformer, categorical_features)\n",
    "    ])\n"
   ]
  },
  {
   "cell_type": "markdown",
   "metadata": {},
   "source": [
    "### Divisão dos Dados"
   ]
  },
  {
   "cell_type": "code",
   "execution_count": 10,
   "metadata": {},
   "outputs": [],
   "source": [
    "test_sizes = [0.1, 0.2, 0.3]\n",
    "#x_train, x_test, y_train, y_test = train_test_split(x_features, y_target, test_size=0.2, random_state=42)"
   ]
  },
  {
   "cell_type": "markdown",
   "metadata": {},
   "source": [
    "## Modelos"
   ]
  },
  {
   "cell_type": "markdown",
   "metadata": {},
   "source": [
    "- Árvore de Decisão: `DecisionTreeRegressor`\n",
    "- Regressão Linear: `LinearRegression`\n",
    "- Random Forest: `RandomForestRegressor`\n",
    "- Gradient Boosting: `GradientBoostingRegressor`\n",
    "- XGBoost: `XGBRegressor`"
   ]
  },
  {
   "cell_type": "code",
   "execution_count": 11,
   "metadata": {},
   "outputs": [],
   "source": [
    "models = {\n",
    "    \"Decision Tree\": DecisionTreeRegressor(random_state=42),\n",
    "    \"Linear Regression\": LinearRegression(),\n",
    "    \"Random Forest\": RandomForestRegressor(random_state=42),\n",
    "    \"Gradient Boosting\": GradientBoostingRegressor(random_state=42),\n",
    "    \"XGBoost\": XGBRegressor(random_state=42)\n",
    "}"
   ]
  },
  {
   "cell_type": "markdown",
   "metadata": {},
   "source": [
    "## Execução"
   ]
  },
  {
   "cell_type": "code",
   "execution_count": 12,
   "metadata": {},
   "outputs": [
    {
     "name": "stdout",
     "output_type": "stream",
     "text": [
      "Modelo: Decision Tree, Test Size: 0.1, Seed: 42\n",
      "MSE: 61318563319.787544, R2: 0.4643648515387715, MAE: 173409.66728007182\n"
     ]
    },
    {
     "name": "stderr",
     "output_type": "stream",
     "text": [
      "Registered model 'decision_tree_model' already exists. Creating a new version of this model...\n",
      "Created version '23' of model 'decision_tree_model'.\n"
     ]
    },
    {
     "name": "stdout",
     "output_type": "stream",
     "text": [
      "Modelo: Linear Regression, Test Size: 0.1, Seed: 42\n",
      "MSE: 53575827203.35227, R2: 0.5319998609827157, MAE: 173412.6447177572\n"
     ]
    },
    {
     "name": "stderr",
     "output_type": "stream",
     "text": [
      "Registered model 'linear_regression_model' already exists. Creating a new version of this model...\n",
      "Created version '23' of model 'linear_regression_model'.\n"
     ]
    },
    {
     "name": "stdout",
     "output_type": "stream",
     "text": [
      "Modelo: Random Forest, Test Size: 0.1, Seed: 42\n",
      "MSE: 35609940151.11541, R2: 0.6889370111288469, MAE: 132206.2374586176\n"
     ]
    },
    {
     "name": "stderr",
     "output_type": "stream",
     "text": [
      "Registered model 'random_forest_model' already exists. Creating a new version of this model...\n",
      "Created version '22' of model 'random_forest_model'.\n"
     ]
    },
    {
     "name": "stdout",
     "output_type": "stream",
     "text": [
      "Modelo: Gradient Boosting, Test Size: 0.1, Seed: 42\n",
      "MSE: 37160859764.30143, R2: 0.6753892857373056, MAE: 142903.46345812114\n"
     ]
    },
    {
     "name": "stderr",
     "output_type": "stream",
     "text": [
      "Registered model 'gradient_boosting_model' already exists. Creating a new version of this model...\n",
      "Created version '22' of model 'gradient_boosting_model'.\n"
     ]
    },
    {
     "name": "stdout",
     "output_type": "stream",
     "text": [
      "Modelo: XGBoost, Test Size: 0.1, Seed: 42\n",
      "MSE: 35437700128.731316, R2: 0.6904415768747783, MAE: 134797.36147834378\n"
     ]
    },
    {
     "name": "stderr",
     "output_type": "stream",
     "text": [
      "Registered model 'xgboost_model' already exists. Creating a new version of this model...\n",
      "Created version '22' of model 'xgboost_model'.\n"
     ]
    },
    {
     "name": "stdout",
     "output_type": "stream",
     "text": [
      "Modelo: Decision Tree, Test Size: 0.2, Seed: 42\n",
      "MSE: 60234484268.80455, R2: 0.4839914622045445, MAE: 169972.06397395598\n"
     ]
    },
    {
     "name": "stderr",
     "output_type": "stream",
     "text": [
      "Registered model 'decision_tree_model' already exists. Creating a new version of this model...\n",
      "Created version '24' of model 'decision_tree_model'.\n"
     ]
    },
    {
     "name": "stdout",
     "output_type": "stream",
     "text": [
      "Modelo: Linear Regression, Test Size: 0.2, Seed: 42\n",
      "MSE: 53086354959.45636, R2: 0.545227078275053, MAE: 173764.0734761504\n"
     ]
    },
    {
     "name": "stderr",
     "output_type": "stream",
     "text": [
      "Registered model 'linear_regression_model' already exists. Creating a new version of this model...\n",
      "Created version '24' of model 'linear_regression_model'.\n"
     ]
    },
    {
     "name": "stdout",
     "output_type": "stream",
     "text": [
      "Modelo: Random Forest, Test Size: 0.2, Seed: 42\n",
      "MSE: 34415400038.12209, R2: 0.7051748601006242, MAE: 129875.12021360575\n"
     ]
    },
    {
     "name": "stderr",
     "output_type": "stream",
     "text": [
      "Registered model 'random_forest_model' already exists. Creating a new version of this model...\n",
      "Created version '23' of model 'random_forest_model'.\n"
     ]
    },
    {
     "name": "stdout",
     "output_type": "stream",
     "text": [
      "Modelo: Gradient Boosting, Test Size: 0.2, Seed: 42\n",
      "MSE: 36512699763.93193, R2: 0.6872079997884422, MAE: 141645.96487383224\n"
     ]
    },
    {
     "name": "stderr",
     "output_type": "stream",
     "text": [
      "Registered model 'gradient_boosting_model' already exists. Creating a new version of this model...\n",
      "Created version '23' of model 'gradient_boosting_model'.\n"
     ]
    },
    {
     "name": "stdout",
     "output_type": "stream",
     "text": [
      "Modelo: XGBoost, Test Size: 0.2, Seed: 42\n",
      "MSE: 33523428841.29063, R2: 0.7128160768989399, MAE: 130945.1318292546\n"
     ]
    },
    {
     "name": "stderr",
     "output_type": "stream",
     "text": [
      "Registered model 'xgboost_model' already exists. Creating a new version of this model...\n",
      "Created version '23' of model 'xgboost_model'.\n"
     ]
    },
    {
     "name": "stdout",
     "output_type": "stream",
     "text": [
      "Modelo: Decision Tree, Test Size: 0.3, Seed: 42\n",
      "MSE: 61209737715.86217, R2: 0.47475884579582217, MAE: 172580.1899281652\n"
     ]
    },
    {
     "name": "stderr",
     "output_type": "stream",
     "text": [
      "Registered model 'decision_tree_model' already exists. Creating a new version of this model...\n",
      "Created version '25' of model 'decision_tree_model'.\n"
     ]
    },
    {
     "name": "stdout",
     "output_type": "stream",
     "text": [
      "Modelo: Linear Regression, Test Size: 0.3, Seed: 42\n",
      "MSE: 54685765875.346565, R2: 0.5307410902454659, MAE: 175958.76369341835\n"
     ]
    },
    {
     "name": "stderr",
     "output_type": "stream",
     "text": [
      "Registered model 'linear_regression_model' already exists. Creating a new version of this model...\n",
      "Created version '25' of model 'linear_regression_model'.\n"
     ]
    },
    {
     "name": "stdout",
     "output_type": "stream",
     "text": [
      "Modelo: Random Forest, Test Size: 0.3, Seed: 42\n",
      "MSE: 35320779432.26966, R2: 0.6969121638371459, MAE: 131905.3177776115\n"
     ]
    },
    {
     "name": "stderr",
     "output_type": "stream",
     "text": [
      "Registered model 'random_forest_model' already exists. Creating a new version of this model...\n",
      "Created version '24' of model 'random_forest_model'.\n"
     ]
    },
    {
     "name": "stdout",
     "output_type": "stream",
     "text": [
      "Modelo: Gradient Boosting, Test Size: 0.3, Seed: 42\n",
      "MSE: 37337443039.665245, R2: 0.6796071604125762, MAE: 142814.49462159694\n"
     ]
    },
    {
     "name": "stderr",
     "output_type": "stream",
     "text": [
      "Registered model 'gradient_boosting_model' already exists. Creating a new version of this model...\n",
      "Created version '24' of model 'gradient_boosting_model'.\n"
     ]
    },
    {
     "name": "stdout",
     "output_type": "stream",
     "text": [
      "Modelo: XGBoost, Test Size: 0.3, Seed: 42\n",
      "MSE: 34492060902.08964, R2: 0.7040234028906887, MAE: 132658.0528461024\n"
     ]
    },
    {
     "name": "stderr",
     "output_type": "stream",
     "text": [
      "Registered model 'xgboost_model' already exists. Creating a new version of this model...\n",
      "Created version '24' of model 'xgboost_model'.\n"
     ]
    },
    {
     "name": "stdout",
     "output_type": "stream",
     "text": [
      "Modelo: Decision Tree, Test Size: 0.1, Seed: 47\n",
      "MSE: 65322070122.38855, R2: 0.4607357460145043, MAE: 175668.96981149013\n"
     ]
    },
    {
     "name": "stderr",
     "output_type": "stream",
     "text": [
      "Registered model 'decision_tree_model' already exists. Creating a new version of this model...\n",
      "Created version '26' of model 'decision_tree_model'.\n"
     ]
    },
    {
     "name": "stdout",
     "output_type": "stream",
     "text": [
      "Modelo: Linear Regression, Test Size: 0.1, Seed: 47\n",
      "MSE: 58307299456.23486, R2: 0.5186459601745141, MAE: 182221.6780128887\n"
     ]
    },
    {
     "name": "stderr",
     "output_type": "stream",
     "text": [
      "Registered model 'linear_regression_model' already exists. Creating a new version of this model...\n",
      "Created version '26' of model 'linear_regression_model'.\n"
     ]
    },
    {
     "name": "stdout",
     "output_type": "stream",
     "text": [
      "Modelo: Random Forest, Test Size: 0.1, Seed: 47\n",
      "MSE: 37212141854.77767, R2: 0.6927963568986575, MAE: 136306.39953536805\n"
     ]
    },
    {
     "name": "stderr",
     "output_type": "stream",
     "text": [
      "Registered model 'random_forest_model' already exists. Creating a new version of this model...\n",
      "Created version '25' of model 'random_forest_model'.\n"
     ]
    },
    {
     "name": "stdout",
     "output_type": "stream",
     "text": [
      "Modelo: Gradient Boosting, Test Size: 0.1, Seed: 47\n",
      "MSE: 41182027040.48046, R2: 0.6600230971249696, MAE: 146885.3764817992\n"
     ]
    },
    {
     "name": "stderr",
     "output_type": "stream",
     "text": [
      "Registered model 'gradient_boosting_model' already exists. Creating a new version of this model...\n",
      "Created version '25' of model 'gradient_boosting_model'.\n"
     ]
    },
    {
     "name": "stdout",
     "output_type": "stream",
     "text": [
      "Modelo: XGBoost, Test Size: 0.1, Seed: 47\n",
      "MSE: 36022027367.79652, R2: 0.7026213088601732, MAE: 135572.6124478232\n"
     ]
    },
    {
     "name": "stderr",
     "output_type": "stream",
     "text": [
      "Registered model 'xgboost_model' already exists. Creating a new version of this model...\n",
      "Created version '25' of model 'xgboost_model'.\n"
     ]
    },
    {
     "name": "stdout",
     "output_type": "stream",
     "text": [
      "Modelo: Decision Tree, Test Size: 0.2, Seed: 47\n",
      "MSE: 62908425780.65023, R2: 0.4688968380333659, MAE: 175165.05669959585\n"
     ]
    },
    {
     "name": "stderr",
     "output_type": "stream",
     "text": [
      "Registered model 'decision_tree_model' already exists. Creating a new version of this model...\n",
      "Created version '27' of model 'decision_tree_model'.\n"
     ]
    },
    {
     "name": "stdout",
     "output_type": "stream",
     "text": [
      "Modelo: Linear Regression, Test Size: 0.2, Seed: 47\n",
      "MSE: 56839157394.32, R2: 0.5201365184228184, MAE: 179765.89586411332\n"
     ]
    },
    {
     "name": "stderr",
     "output_type": "stream",
     "text": [
      "Registered model 'linear_regression_model' already exists. Creating a new version of this model...\n",
      "Created version '27' of model 'linear_regression_model'.\n"
     ]
    },
    {
     "name": "stdout",
     "output_type": "stream",
     "text": [
      "Modelo: Random Forest, Test Size: 0.2, Seed: 47\n",
      "MSE: 37137807103.35725, R2: 0.6864647853393464, MAE: 135326.87215002245\n"
     ]
    },
    {
     "name": "stderr",
     "output_type": "stream",
     "text": [
      "Registered model 'random_forest_model' already exists. Creating a new version of this model...\n",
      "Created version '26' of model 'random_forest_model'.\n"
     ]
    },
    {
     "name": "stdout",
     "output_type": "stream",
     "text": [
      "Modelo: Gradient Boosting, Test Size: 0.2, Seed: 47\n",
      "MSE: 40280208826.061806, R2: 0.6599351198710504, MAE: 146408.9990681346\n"
     ]
    },
    {
     "name": "stderr",
     "output_type": "stream",
     "text": [
      "Registered model 'gradient_boosting_model' already exists. Creating a new version of this model...\n",
      "Created version '26' of model 'gradient_boosting_model'.\n"
     ]
    },
    {
     "name": "stdout",
     "output_type": "stream",
     "text": [
      "Modelo: XGBoost, Test Size: 0.2, Seed: 47\n",
      "MSE: 35770812093.93399, R2: 0.6980056141375233, MAE: 134917.4975446228\n"
     ]
    },
    {
     "name": "stderr",
     "output_type": "stream",
     "text": [
      "Registered model 'xgboost_model' already exists. Creating a new version of this model...\n",
      "Created version '26' of model 'xgboost_model'.\n"
     ]
    },
    {
     "name": "stdout",
     "output_type": "stream",
     "text": [
      "Modelo: Decision Tree, Test Size: 0.3, Seed: 47\n",
      "MSE: 65904808872.47329, R2: 0.4342869398037643, MAE: 180476.29380724335\n"
     ]
    },
    {
     "name": "stderr",
     "output_type": "stream",
     "text": [
      "Registered model 'decision_tree_model' already exists. Creating a new version of this model...\n",
      "Created version '28' of model 'decision_tree_model'.\n"
     ]
    },
    {
     "name": "stdout",
     "output_type": "stream",
     "text": [
      "Modelo: Linear Regression, Test Size: 0.3, Seed: 47\n",
      "MSE: 56671956586.253815, R2: 0.5135398078499168, MAE: 179735.95102699214\n"
     ]
    },
    {
     "name": "stderr",
     "output_type": "stream",
     "text": [
      "Registered model 'linear_regression_model' already exists. Creating a new version of this model...\n",
      "Created version '28' of model 'linear_regression_model'.\n"
     ]
    },
    {
     "name": "stdout",
     "output_type": "stream",
     "text": [
      "Modelo: Random Forest, Test Size: 0.3, Seed: 47\n",
      "MSE: 37553884415.851776, R2: 0.6776453306122765, MAE: 137225.04068982342\n"
     ]
    },
    {
     "name": "stderr",
     "output_type": "stream",
     "text": [
      "Registered model 'random_forest_model' already exists. Creating a new version of this model...\n",
      "Created version '27' of model 'random_forest_model'.\n"
     ]
    },
    {
     "name": "stdout",
     "output_type": "stream",
     "text": [
      "Modelo: Gradient Boosting, Test Size: 0.3, Seed: 47\n",
      "MSE: 39975024885.49525, R2: 0.656862768494582, MAE: 146693.90711630083\n"
     ]
    },
    {
     "name": "stderr",
     "output_type": "stream",
     "text": [
      "Registered model 'gradient_boosting_model' already exists. Creating a new version of this model...\n",
      "Created version '27' of model 'gradient_boosting_model'.\n"
     ]
    },
    {
     "name": "stdout",
     "output_type": "stream",
     "text": [
      "Modelo: XGBoost, Test Size: 0.3, Seed: 47\n",
      "MSE: 36307243729.50807, R2: 0.6883462328636021, MAE: 137182.97523776564\n"
     ]
    },
    {
     "name": "stderr",
     "output_type": "stream",
     "text": [
      "Registered model 'xgboost_model' already exists. Creating a new version of this model...\n",
      "Created version '27' of model 'xgboost_model'.\n"
     ]
    },
    {
     "name": "stdout",
     "output_type": "stream",
     "text": [
      "Modelo: Decision Tree, Test Size: 0.1, Seed: 123\n",
      "MSE: 63424352270.36406, R2: 0.4662427582353449, MAE: 177855.1455924596\n"
     ]
    },
    {
     "name": "stderr",
     "output_type": "stream",
     "text": [
      "Registered model 'decision_tree_model' already exists. Creating a new version of this model...\n",
      "Created version '29' of model 'decision_tree_model'.\n"
     ]
    },
    {
     "name": "stdout",
     "output_type": "stream",
     "text": [
      "Modelo: Linear Regression, Test Size: 0.1, Seed: 123\n",
      "MSE: 57663272081.37626, R2: 0.5147260010464185, MAE: 180383.88009849493\n"
     ]
    },
    {
     "name": "stderr",
     "output_type": "stream",
     "text": [
      "Registered model 'linear_regression_model' already exists. Creating a new version of this model...\n",
      "Created version '29' of model 'linear_regression_model'.\n"
     ]
    },
    {
     "name": "stdout",
     "output_type": "stream",
     "text": [
      "Modelo: Random Forest, Test Size: 0.1, Seed: 123\n",
      "MSE: 36330548408.03451, R2: 0.6942547678310177, MAE: 137781.02847576299\n"
     ]
    },
    {
     "name": "stderr",
     "output_type": "stream",
     "text": [
      "Registered model 'random_forest_model' already exists. Creating a new version of this model...\n",
      "Created version '28' of model 'random_forest_model'.\n"
     ]
    },
    {
     "name": "stdout",
     "output_type": "stream",
     "text": [
      "Modelo: Gradient Boosting, Test Size: 0.1, Seed: 123\n",
      "MSE: 39101028244.99076, R2: 0.6709393751907473, MAE: 149339.75781635128\n"
     ]
    },
    {
     "name": "stderr",
     "output_type": "stream",
     "text": [
      "Registered model 'gradient_boosting_model' already exists. Creating a new version of this model...\n",
      "Created version '28' of model 'gradient_boosting_model'.\n"
     ]
    },
    {
     "name": "stdout",
     "output_type": "stream",
     "text": [
      "Modelo: XGBoost, Test Size: 0.1, Seed: 123\n",
      "MSE: 33675961804.39893, R2: 0.7165948434149507, MAE: 137149.96591113106\n"
     ]
    },
    {
     "name": "stderr",
     "output_type": "stream",
     "text": [
      "Registered model 'xgboost_model' already exists. Creating a new version of this model...\n",
      "Created version '28' of model 'xgboost_model'.\n"
     ]
    },
    {
     "name": "stdout",
     "output_type": "stream",
     "text": [
      "Modelo: Decision Tree, Test Size: 0.2, Seed: 123\n",
      "MSE: 63529096083.97432, R2: 0.4501405374386255, MAE: 176293.00179164796\n"
     ]
    },
    {
     "name": "stderr",
     "output_type": "stream",
     "text": [
      "Registered model 'decision_tree_model' already exists. Creating a new version of this model...\n",
      "Created version '30' of model 'decision_tree_model'.\n"
     ]
    },
    {
     "name": "stdout",
     "output_type": "stream",
     "text": [
      "Modelo: Linear Regression, Test Size: 0.2, Seed: 123\n",
      "MSE: 57119846991.41373, R2: 0.5056141153532079, MAE: 179498.15173649596\n"
     ]
    },
    {
     "name": "stderr",
     "output_type": "stream",
     "text": [
      "Registered model 'linear_regression_model' already exists. Creating a new version of this model...\n",
      "Created version '30' of model 'linear_regression_model'.\n"
     ]
    },
    {
     "name": "stdout",
     "output_type": "stream",
     "text": [
      "Modelo: Random Forest, Test Size: 0.2, Seed: 123\n",
      "MSE: 36634451825.31596, R2: 0.6829200912087237, MAE: 137577.93817831163\n"
     ]
    },
    {
     "name": "stderr",
     "output_type": "stream",
     "text": [
      "Registered model 'random_forest_model' already exists. Creating a new version of this model...\n",
      "Created version '29' of model 'random_forest_model'.\n"
     ]
    },
    {
     "name": "stdout",
     "output_type": "stream",
     "text": [
      "Modelo: Gradient Boosting, Test Size: 0.2, Seed: 123\n",
      "MSE: 40520890317.01785, R2: 0.6492820401100539, MAE: 149237.93202080845\n"
     ]
    },
    {
     "name": "stderr",
     "output_type": "stream",
     "text": [
      "Registered model 'gradient_boosting_model' already exists. Creating a new version of this model...\n",
      "Created version '29' of model 'gradient_boosting_model'.\n"
     ]
    },
    {
     "name": "stdout",
     "output_type": "stream",
     "text": [
      "Modelo: XGBoost, Test Size: 0.2, Seed: 123\n",
      "MSE: 36277571096.50831, R2: 0.6860089789442159, MAE: 137197.1964214751\n"
     ]
    },
    {
     "name": "stderr",
     "output_type": "stream",
     "text": [
      "Registered model 'xgboost_model' already exists. Creating a new version of this model...\n",
      "Created version '29' of model 'xgboost_model'.\n"
     ]
    },
    {
     "name": "stdout",
     "output_type": "stream",
     "text": [
      "Modelo: Decision Tree, Test Size: 0.3, Seed: 123\n",
      "MSE: 63730050991.39421, R2: 0.44289446310468705, MAE: 176694.38042502245\n"
     ]
    },
    {
     "name": "stderr",
     "output_type": "stream",
     "text": [
      "Registered model 'decision_tree_model' already exists. Creating a new version of this model...\n",
      "Created version '31' of model 'decision_tree_model'.\n"
     ]
    },
    {
     "name": "stdout",
     "output_type": "stream",
     "text": [
      "Modelo: Linear Regression, Test Size: 0.3, Seed: 123\n",
      "MSE: 56511312174.740974, R2: 0.505998121451072, MAE: 180757.0030505261\n"
     ]
    },
    {
     "name": "stderr",
     "output_type": "stream",
     "text": [
      "Registered model 'linear_regression_model' already exists. Creating a new version of this model...\n",
      "Created version '31' of model 'linear_regression_model'.\n"
     ]
    },
    {
     "name": "stdout",
     "output_type": "stream",
     "text": [
      "Modelo: Random Forest, Test Size: 0.3, Seed: 123\n",
      "MSE: 36252042741.875175, R2: 0.6830974803708945, MAE: 137698.2834600419\n"
     ]
    },
    {
     "name": "stderr",
     "output_type": "stream",
     "text": [
      "Registered model 'random_forest_model' already exists. Creating a new version of this model...\n",
      "Created version '30' of model 'random_forest_model'.\n"
     ]
    },
    {
     "name": "stdout",
     "output_type": "stream",
     "text": [
      "Modelo: Gradient Boosting, Test Size: 0.3, Seed: 123\n",
      "MSE: 39765471976.7416, R2: 0.6523843262185738, MAE: 148802.22336159798\n"
     ]
    },
    {
     "name": "stderr",
     "output_type": "stream",
     "text": [
      "Registered model 'gradient_boosting_model' already exists. Creating a new version of this model...\n",
      "Created version '30' of model 'gradient_boosting_model'.\n"
     ]
    },
    {
     "name": "stdout",
     "output_type": "stream",
     "text": [
      "Modelo: XGBoost, Test Size: 0.3, Seed: 123\n",
      "MSE: 35728929338.27869, R2: 0.6876703524937664, MAE: 137394.49164296337\n"
     ]
    },
    {
     "name": "stderr",
     "output_type": "stream",
     "text": [
      "Registered model 'xgboost_model' already exists. Creating a new version of this model...\n",
      "Created version '30' of model 'xgboost_model'.\n"
     ]
    }
   ],
   "source": [
    "# para cada semente \n",
    "for seed in seeds:\n",
    "    # para cada tamanho de teste\n",
    "    for test_size in test_sizes:\n",
    "        # Dividir os dados em conjuntos de treino e teste\n",
    "        x_train, x_test, y_train, y_test = train_test_split(x_features, y_target, test_size=test_size, random_state=seed)\n",
    "\n",
    "        # Para cada modelo\n",
    "        for model_name, model in models.items():\n",
    "            # Criar o pipeline\n",
    "            pipeline = Pipeline(steps=[('preprocessor', preprocessor),\n",
    "                                       ('model', model)])\n",
    "\n",
    "            # Treinar o modelo\n",
    "            pipeline.fit(x_train, y_train)\n",
    "\n",
    "            # Fazer previsões\n",
    "            y_pred = pipeline.predict(x_test)\n",
    "\n",
    "            # Avaliar o modelo\n",
    "            mse = mean_squared_error(y_test, y_pred)\n",
    "            r2 = r2_score(y_test, y_pred)\n",
    "            mae = mean_absolute_error(y_test, y_pred)\n",
    "            \n",
    "            print(f\"Modelo: {model_name}, Test Size: {test_size}, Seed: {seed}\")\n",
    "            print(f\"MSE: {mse}, R2: {r2}, MAE: {mae}\")\n",
    "            \n",
    "            # Logar os resultados no MLflow\n",
    "            with mlflow.start_run():\n",
    "                mlflow.log_param(\"model_type\", model_name)\n",
    "                mlflow.log_param(\"test_size\", test_size)\n",
    "                mlflow.log_param(\"random_seed\", seed)\n",
    "                \n",
    "                # registrar métricas\n",
    "                mlflow.log_metric(\"mse\", mse)\n",
    "                mlflow.log_metric(\"r2\", r2)\n",
    "                mlflow.log_metric(\"mae\", mae)\n",
    "\n",
    "                # Logar o modelo\n",
    "                signature = infer_signature(x_test, y_pred)\n",
    "                \n",
    "                registered_model_name= model_name.lower().replace(\" \", \"_\") + \"_model\"\n",
    "                 \n",
    "                mlflow.sklearn.log_model(\n",
    "                    sk_model=pipeline,\n",
    "                    artifact_path=\"'sklearn'-model\",\n",
    "                    signature=signature,\n",
    "                    registered_model_name= registered_model_name,\n",
    "                )\n",
    "                \n",
    "            mlflow.end_run()\n",
    "                "
   ]
  },
  {
   "cell_type": "code",
   "execution_count": null,
   "metadata": {},
   "outputs": [],
   "source": [
    "\n",
    "#Avaliar modelos, corrigir valores de acordo com a inflação,  testar drift, \n",
    "\n",
    "#df_examples, y = load_new_data()\n",
    "#drift_score, drift_by_columns = evaluate_model(df_examples, y, None)\n",
    "#new_data = simulate_drift(df_examples)\n",
    "#drift_score, drift_by_columns = evaluate_model(df_examples, y, new_data)\n",
    "#check_for_drift(drift_score, drift_by_columns)\n",
    "\n"
   ]
  }
 ],
 "metadata": {
  "kernelspec": {
   "display_name": "Python 3 (ipykernel)",
   "language": "python",
   "name": "python3"
  },
  "language_info": {
   "codemirror_mode": {
    "name": "ipython",
    "version": 3
   },
   "file_extension": ".py",
   "mimetype": "text/x-python",
   "name": "python",
   "nbconvert_exporter": "python",
   "pygments_lexer": "ipython3",
   "version": "3.10.16"
  }
 },
 "nbformat": 4,
 "nbformat_minor": 4
}
