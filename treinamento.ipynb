{
 "cells": [
  {
   "cell_type": "markdown",
   "metadata": {},
   "source": [
    "# Treinamento"
   ]
  },
  {
   "cell_type": "markdown",
   "metadata": {},
   "source": [
    "## Inicialização"
   ]
  },
  {
   "cell_type": "code",
   "execution_count": 1,
   "metadata": {},
   "outputs": [],
   "source": [
    "# Config Inicial\n",
    "import pandas as pd\n",
    "import numpy as np\n",
    "import matplotlib.pyplot as plt\n",
    "import shutil\n",
    "\n",
    "from scipy import stats\n",
    "\n",
    "from sklearn.model_selection import train_test_split\n",
    "from sklearn.preprocessing import StandardScaler, OneHotEncoder\n",
    "from sklearn.compose import ColumnTransformer\n",
    "from sklearn.pipeline import Pipeline\n",
    "\n",
    "from sklearn.tree import DecisionTreeRegressor\n",
    "from sklearn.linear_model import LinearRegression\n",
    "from sklearn.ensemble import RandomForestRegressor\n",
    "from sklearn.ensemble import GradientBoostingRegressor\n",
    "from xgboost import XGBRegressor\n",
    "\n",
    "from sklearn.metrics import *\n",
    "\n",
    "import mlflow\n",
    "import mlflow.sklearn\n",
    "from mlflow.models import infer_signature"
   ]
  },
  {
   "cell_type": "markdown",
   "metadata": {},
   "source": [
    "### MLFlow"
   ]
  },
  {
   "cell_type": "code",
   "execution_count": 2,
   "metadata": {},
   "outputs": [
    {
     "data": {
      "text/plain": [
       "<Experiment: artifact_location='/app/mlruns/1', creation_time=1744227466344, experiment_id='1', last_update_time=1744227466344, lifecycle_stage='active', name='ecd15', tags={}>"
      ]
     },
     "execution_count": 2,
     "metadata": {},
     "output_type": "execute_result"
    }
   ],
   "source": [
    "mlflow.set_tracking_uri(\"sqlite:///mlflow.db\")\n",
    "\n",
    "mlflow.set_experiment(\"ecd15\")"
   ]
  },
  {
   "cell_type": "code",
   "execution_count": 3,
   "metadata": {},
   "outputs": [],
   "source": [
    "seeds = [42, 47, 123]"
   ]
  },
  {
   "cell_type": "markdown",
   "metadata": {},
   "source": [
    "## Dataset"
   ]
  },
  {
   "cell_type": "markdown",
   "metadata": {},
   "source": [
    "O pré-processamento inicial foi realizado no dataset `brasile-real-state-dataset.csv`, onde as colunas de latitude e longitude foram convertidas em informações de cidade e estado. Esse processo resultou na criação do dataset `brasil_estado_cidade.csv`, que está sendo utilizado para o treinamento dos modelos apresentados a seguir.\n"
   ]
  },
  {
   "cell_type": "markdown",
   "metadata": {},
   "source": [
    "### Leitura"
   ]
  },
  {
   "cell_type": "code",
   "execution_count": 5,
   "metadata": {},
   "outputs": [
    {
     "name": "stderr",
     "output_type": "stream",
     "text": [
      "/tmp/ipykernel_1394/3584315994.py:22: DeprecationWarning: DataFrameGroupBy.apply operated on the grouping columns. This behavior is deprecated, and in a future version of pandas the grouping columns will be excluded from the operation. Either pass `include_groups=False` to exclude the groupings or explicitly select the grouping columns after groupby to silence this warning.\n",
      "  df_filtrado = df.groupby(\"city\").apply(remover_outliers_grupo).reset_index(drop=True)\n"
     ]
    },
    {
     "data": {
      "text/html": [
       "<div>\n",
       "<style scoped>\n",
       "    .dataframe tbody tr th:only-of-type {\n",
       "        vertical-align: middle;\n",
       "    }\n",
       "\n",
       "    .dataframe tbody tr th {\n",
       "        vertical-align: top;\n",
       "    }\n",
       "\n",
       "    .dataframe thead th {\n",
       "        text-align: right;\n",
       "    }\n",
       "</style>\n",
       "<table border=\"1\" class=\"dataframe\">\n",
       "  <thead>\n",
       "    <tr style=\"text-align: right;\">\n",
       "      <th></th>\n",
       "      <th>id</th>\n",
       "      <th>property_type</th>\n",
       "      <th>state</th>\n",
       "      <th>region</th>\n",
       "      <th>lat</th>\n",
       "      <th>lon</th>\n",
       "      <th>area_m2</th>\n",
       "      <th>price_brl</th>\n",
       "      <th>city</th>\n",
       "    </tr>\n",
       "  </thead>\n",
       "  <tbody>\n",
       "    <tr>\n",
       "      <th>8160</th>\n",
       "      <td>6429.0</td>\n",
       "      <td>house</td>\n",
       "      <td>Rio de Janeiro</td>\n",
       "      <td>Southeast</td>\n",
       "      <td>-22.916160</td>\n",
       "      <td>-43.355623</td>\n",
       "      <td>140.0</td>\n",
       "      <td>454317.88</td>\n",
       "      <td>Rio de Janeiro</td>\n",
       "    </tr>\n",
       "    <tr>\n",
       "      <th>1416</th>\n",
       "      <td>4024.0</td>\n",
       "      <td>house</td>\n",
       "      <td>Rio de Janeiro</td>\n",
       "      <td>Southeast</td>\n",
       "      <td>-22.862112</td>\n",
       "      <td>-42.021259</td>\n",
       "      <td>230.0</td>\n",
       "      <td>768558.29</td>\n",
       "      <td>Cabo Frio</td>\n",
       "    </tr>\n",
       "    <tr>\n",
       "      <th>4908</th>\n",
       "      <td>2230.0</td>\n",
       "      <td>apartment</td>\n",
       "      <td>Rio Grande do Sul</td>\n",
       "      <td>South</td>\n",
       "      <td>-30.032711</td>\n",
       "      <td>-51.211208</td>\n",
       "      <td>109.0</td>\n",
       "      <td>393742.15</td>\n",
       "      <td>Porto Alegre</td>\n",
       "    </tr>\n",
       "    <tr>\n",
       "      <th>7566</th>\n",
       "      <td>5544.0</td>\n",
       "      <td>apartment</td>\n",
       "      <td>Rio de Janeiro</td>\n",
       "      <td>Southeast</td>\n",
       "      <td>-22.944958</td>\n",
       "      <td>-43.240059</td>\n",
       "      <td>148.0</td>\n",
       "      <td>908635.80</td>\n",
       "      <td>Rio de Janeiro</td>\n",
       "    </tr>\n",
       "    <tr>\n",
       "      <th>5374</th>\n",
       "      <td>2956.0</td>\n",
       "      <td>house</td>\n",
       "      <td>Rio Grande do Sul</td>\n",
       "      <td>South</td>\n",
       "      <td>-30.150503</td>\n",
       "      <td>-51.213573</td>\n",
       "      <td>110.0</td>\n",
       "      <td>548970.21</td>\n",
       "      <td>Porto Alegre</td>\n",
       "    </tr>\n",
       "    <tr>\n",
       "      <th>4806</th>\n",
       "      <td>2081.0</td>\n",
       "      <td>apartment</td>\n",
       "      <td>Rio Grande do Sul</td>\n",
       "      <td>South</td>\n",
       "      <td>-30.027777</td>\n",
       "      <td>-51.162804</td>\n",
       "      <td>99.0</td>\n",
       "      <td>648782.97</td>\n",
       "      <td>Porto Alegre</td>\n",
       "    </tr>\n",
       "    <tr>\n",
       "      <th>3291</th>\n",
       "      <td>4096.0</td>\n",
       "      <td>apartment</td>\n",
       "      <td>Rio de Janeiro</td>\n",
       "      <td>Southeast</td>\n",
       "      <td>-22.906288</td>\n",
       "      <td>-43.099586</td>\n",
       "      <td>62.0</td>\n",
       "      <td>373550.26</td>\n",
       "      <td>Niterói</td>\n",
       "    </tr>\n",
       "    <tr>\n",
       "      <th>5368</th>\n",
       "      <td>2946.0</td>\n",
       "      <td>house</td>\n",
       "      <td>Rio Grande do Sul</td>\n",
       "      <td>South</td>\n",
       "      <td>-30.117683</td>\n",
       "      <td>-51.260231</td>\n",
       "      <td>186.0</td>\n",
       "      <td>1396270.36</td>\n",
       "      <td>Porto Alegre</td>\n",
       "    </tr>\n",
       "    <tr>\n",
       "      <th>5533</th>\n",
       "      <td>3217.0</td>\n",
       "      <td>apartment</td>\n",
       "      <td>Rio Grande do Sul</td>\n",
       "      <td>South</td>\n",
       "      <td>-30.031361</td>\n",
       "      <td>-51.157860</td>\n",
       "      <td>125.0</td>\n",
       "      <td>1009595.32</td>\n",
       "      <td>Porto Alegre</td>\n",
       "    </tr>\n",
       "    <tr>\n",
       "      <th>7261</th>\n",
       "      <td>5109.0</td>\n",
       "      <td>apartment</td>\n",
       "      <td>Rio de Janeiro</td>\n",
       "      <td>Southeast</td>\n",
       "      <td>-22.956388</td>\n",
       "      <td>-43.375317</td>\n",
       "      <td>174.0</td>\n",
       "      <td>1261994.16</td>\n",
       "      <td>Rio de Janeiro</td>\n",
       "    </tr>\n",
       "  </tbody>\n",
       "</table>\n",
       "</div>"
      ],
      "text/plain": [
       "          id property_type              state     region        lat  \\\n",
       "8160  6429.0         house     Rio de Janeiro  Southeast -22.916160   \n",
       "1416  4024.0         house     Rio de Janeiro  Southeast -22.862112   \n",
       "4908  2230.0     apartment  Rio Grande do Sul      South -30.032711   \n",
       "7566  5544.0     apartment     Rio de Janeiro  Southeast -22.944958   \n",
       "5374  2956.0         house  Rio Grande do Sul      South -30.150503   \n",
       "4806  2081.0     apartment  Rio Grande do Sul      South -30.027777   \n",
       "3291  4096.0     apartment     Rio de Janeiro  Southeast -22.906288   \n",
       "5368  2946.0         house  Rio Grande do Sul      South -30.117683   \n",
       "5533  3217.0     apartment  Rio Grande do Sul      South -30.031361   \n",
       "7261  5109.0     apartment     Rio de Janeiro  Southeast -22.956388   \n",
       "\n",
       "            lon  area_m2   price_brl            city  \n",
       "8160 -43.355623    140.0   454317.88  Rio de Janeiro  \n",
       "1416 -42.021259    230.0   768558.29       Cabo Frio  \n",
       "4908 -51.211208    109.0   393742.15    Porto Alegre  \n",
       "7566 -43.240059    148.0   908635.80  Rio de Janeiro  \n",
       "5374 -51.213573    110.0   548970.21    Porto Alegre  \n",
       "4806 -51.162804     99.0   648782.97    Porto Alegre  \n",
       "3291 -43.099586     62.0   373550.26         Niterói  \n",
       "5368 -51.260231    186.0  1396270.36    Porto Alegre  \n",
       "5533 -51.157860    125.0  1009595.32    Porto Alegre  \n",
       "7261 -43.375317    174.0  1261994.16  Rio de Janeiro  "
      ]
     },
     "execution_count": 5,
     "metadata": {},
     "output_type": "execute_result"
    }
   ],
   "source": [
    "# Descomentar, quando quiser carregar para o treinamento, dados originais defasados para primeira execução do treinamento\n",
    "#shutil.copyfile(\"dataset/brasil_estado_cidade.csv\", \"dataset/dados_treinamento.csv\")\n",
    "\n",
    "\n",
    "# Carregar o conjunto de dados\n",
    "dados = pd.read_csv(\"dataset/dados_treinamento.csv\", encoding=\"utf-8\")\n",
    "\n",
    "# Eliminando registros com valores null\n",
    "dados.dropna(inplace=True)\n",
    "\n",
    "# float64\n",
    "dados = dados.astype({col: 'float64' for col in dados.select_dtypes(include='int').columns})\n",
    "\n",
    "def remover_outliers_por_cidade(df):\n",
    "    # Remove outliers da coluna 'price_brl' agrupando por cidade.\n",
    "\n",
    "    def remover_outliers_grupo(grupo):\n",
    "        # Remove outliers de um grupo usando o método Z-score.\n",
    "        z_scores = np.abs(stats.zscore(grupo[\"price_brl\"]))\n",
    "        return grupo[(z_scores < 3)]\n",
    "\n",
    "    df_filtrado = df.groupby(\"city\").apply(remover_outliers_grupo).reset_index(drop=True)\n",
    "    return df_filtrado\n",
    "\n",
    "dados = remover_outliers_por_cidade(dados)\n",
    "\n",
    "dados.sample(10)"
   ]
  },
  {
   "cell_type": "markdown",
   "metadata": {},
   "source": [
    "### Tratamento Features"
   ]
  },
  {
   "cell_type": "code",
   "execution_count": 5,
   "metadata": {
    "execution": {
     "iopub.execute_input": "2025-04-15T19:55:40.433362Z",
     "iopub.status.busy": "2025-04-15T19:55:40.433080Z",
     "iopub.status.idle": "2025-04-15T19:55:40.443255Z",
     "shell.execute_reply": "2025-04-15T19:55:40.441653Z"
    }
   },
   "outputs": [],
   "source": [
    "# Exemplo de pré-processamento\n",
    "x_features = dados.drop([\"price_brl\"], axis=1)  # Features\n",
    "y_target = dados[\"price_brl\"]  # Variável alvo\n",
    "\n",
    "# Identificando colunas numéricas e categóricas\n",
    "numeric_features = x_features.select_dtypes(include=['number']).columns\n",
    "categorical_features = x_features.select_dtypes(include=['object']).columns\n",
    "\n",
    "# Criando transformadores\n",
    "numeric_transformer = StandardScaler()\n",
    "categorical_transformer = OneHotEncoder(handle_unknown='ignore')\n",
    "\n",
    "# Criando o ColumnTransformer\n",
    "preprocessor = ColumnTransformer(\n",
    "    transformers=[\n",
    "        ('num', numeric_transformer, numeric_features),\n",
    "        ('cat', categorical_transformer, categorical_features)\n",
    "    ])\n"
   ]
  },
  {
   "cell_type": "markdown",
   "metadata": {},
   "source": [
    "### Divisão dos Dados"
   ]
  },
  {
   "cell_type": "code",
   "execution_count": 6,
   "metadata": {
    "execution": {
     "iopub.execute_input": "2025-04-15T19:55:40.446898Z",
     "iopub.status.busy": "2025-04-15T19:55:40.446034Z",
     "iopub.status.idle": "2025-04-15T19:55:40.451876Z",
     "shell.execute_reply": "2025-04-15T19:55:40.450378Z"
    }
   },
   "outputs": [],
   "source": [
    "test_sizes = [0.1, 0.2, 0.3]\n",
    "#x_train, x_test, y_train, y_test = train_test_split(x_features, y_target, test_size=0.2, random_state=42)"
   ]
  },
  {
   "cell_type": "markdown",
   "metadata": {},
   "source": [
    "## Modelos"
   ]
  },
  {
   "cell_type": "markdown",
   "metadata": {},
   "source": [
    "- Árvore de Decisão: `DecisionTreeRegressor`\n",
    "- Regressão Linear: `LinearRegression`\n",
    "- Random Forest: `RandomForestRegressor`\n",
    "- Gradient Boosting: `GradientBoostingRegressor`\n",
    "- XGBoost: `XGBRegressor`"
   ]
  },
  {
   "cell_type": "code",
   "execution_count": 7,
   "metadata": {
    "execution": {
     "iopub.execute_input": "2025-04-15T19:55:40.457149Z",
     "iopub.status.busy": "2025-04-15T19:55:40.456734Z",
     "iopub.status.idle": "2025-04-15T19:55:40.462814Z",
     "shell.execute_reply": "2025-04-15T19:55:40.460923Z"
    }
   },
   "outputs": [],
   "source": [
    "models = {\n",
    "    \"Decision Tree\": DecisionTreeRegressor(random_state=42),\n",
    "    \"Linear Regression\": LinearRegression(),\n",
    "    \"Random Forest\": RandomForestRegressor(random_state=42),\n",
    "    \"Gradient Boosting\": GradientBoostingRegressor(random_state=42),\n",
    "    \"XGBoost\": XGBRegressor(random_state=42)\n",
    "}"
   ]
  },
  {
   "cell_type": "markdown",
   "metadata": {},
   "source": [
    "## Execução"
   ]
  },
  {
   "cell_type": "code",
   "execution_count": 8,
   "metadata": {
    "execution": {
     "iopub.execute_input": "2025-04-15T19:55:40.467369Z",
     "iopub.status.busy": "2025-04-15T19:55:40.466386Z",
     "iopub.status.idle": "2025-04-15T20:06:17.426727Z",
     "shell.execute_reply": "2025-04-15T20:06:17.423826Z"
    }
   },
   "outputs": [
    {
     "name": "stdout",
     "output_type": "stream",
     "text": [
      "Modelo: Decision Tree, Test Size: 0.1, Seed: 42\n",
      "MSE: 774057741995.8984, R2: 0.7670971810981704, MAE: 349363.0108622449\n"
     ]
    },
    {
     "name": "stderr",
     "output_type": "stream",
     "text": [
      "Registered model 'decision_tree_model' already exists. Creating a new version of this model...\n",
      "Created version '26' of model 'decision_tree_model'.\n"
     ]
    },
    {
     "name": "stdout",
     "output_type": "stream",
     "text": [
      "Modelo: Linear Regression, Test Size: 0.1, Seed: 42\n",
      "MSE: 2199784252261.418, R2: 0.33811662162762457, MAE: 892908.60254239\n"
     ]
    },
    {
     "name": "stderr",
     "output_type": "stream",
     "text": [
      "Registered model 'linear_regression_model' already exists. Creating a new version of this model...\n",
      "Created version '26' of model 'linear_regression_model'.\n"
     ]
    },
    {
     "name": "stdout",
     "output_type": "stream",
     "text": [
      "Modelo: Random Forest, Test Size: 0.1, Seed: 42\n",
      "MSE: 499186417304.9078, R2: 0.8498020012718455, MAE: 323265.798247449\n"
     ]
    },
    {
     "name": "stderr",
     "output_type": "stream",
     "text": [
      "Registered model 'random_forest_model' already exists. Creating a new version of this model...\n",
      "Created version '25' of model 'random_forest_model'.\n"
     ]
    },
    {
     "name": "stdout",
     "output_type": "stream",
     "text": [
      "Modelo: Gradient Boosting, Test Size: 0.1, Seed: 42\n",
      "MSE: 746333363750.0034, R2: 0.7754390469506066, MAE: 455995.7297825873\n"
     ]
    },
    {
     "name": "stderr",
     "output_type": "stream",
     "text": [
      "Registered model 'gradient_boosting_model' already exists. Creating a new version of this model...\n",
      "Created version '25' of model 'gradient_boosting_model'.\n"
     ]
    },
    {
     "name": "stdout",
     "output_type": "stream",
     "text": [
      "Modelo: XGBoost, Test Size: 0.1, Seed: 42\n",
      "MSE: 541613091403.2191, R2: 0.837036426485852, MAE: 370490.8937595663\n"
     ]
    },
    {
     "name": "stderr",
     "output_type": "stream",
     "text": [
      "Registered model 'xgboost_model' already exists. Creating a new version of this model...\n",
      "Created version '25' of model 'xgboost_model'.\n"
     ]
    },
    {
     "name": "stdout",
     "output_type": "stream",
     "text": [
      "Modelo: Decision Tree, Test Size: 0.2, Seed: 42\n",
      "MSE: 920426371321.241, R2: 0.725827778319228, MAE: 381089.7109693877\n"
     ]
    },
    {
     "name": "stderr",
     "output_type": "stream",
     "text": [
      "Registered model 'decision_tree_model' already exists. Creating a new version of this model...\n",
      "Created version '27' of model 'decision_tree_model'.\n"
     ]
    },
    {
     "name": "stdout",
     "output_type": "stream",
     "text": [
      "Modelo: Linear Regression, Test Size: 0.2, Seed: 42\n",
      "MSE: 293062677387203.56, R2: -86.29611390384845, MAE: 1089963.6110702255\n"
     ]
    },
    {
     "name": "stderr",
     "output_type": "stream",
     "text": [
      "Registered model 'linear_regression_model' already exists. Creating a new version of this model...\n",
      "Created version '27' of model 'linear_regression_model'.\n"
     ]
    },
    {
     "name": "stdout",
     "output_type": "stream",
     "text": [
      "Modelo: Random Forest, Test Size: 0.2, Seed: 42\n",
      "MSE: 534992008698.6826, R2: 0.8406391296722381, MAE: 337181.9775269388\n"
     ]
    },
    {
     "name": "stderr",
     "output_type": "stream",
     "text": [
      "Registered model 'random_forest_model' already exists. Creating a new version of this model...\n",
      "Created version '26' of model 'random_forest_model'.\n"
     ]
    },
    {
     "name": "stdout",
     "output_type": "stream",
     "text": [
      "Modelo: Gradient Boosting, Test Size: 0.2, Seed: 42\n",
      "MSE: 776910009928.753, R2: 0.768577748198987, MAE: 460076.7054672476\n"
     ]
    },
    {
     "name": "stderr",
     "output_type": "stream",
     "text": [
      "Registered model 'gradient_boosting_model' already exists. Creating a new version of this model...\n",
      "Created version '26' of model 'gradient_boosting_model'.\n"
     ]
    },
    {
     "name": "stdout",
     "output_type": "stream",
     "text": [
      "Modelo: XGBoost, Test Size: 0.2, Seed: 42\n",
      "MSE: 554225274175.8407, R2: 0.8349100161979262, MAE: 371699.6693422353\n"
     ]
    },
    {
     "name": "stderr",
     "output_type": "stream",
     "text": [
      "Registered model 'xgboost_model' already exists. Creating a new version of this model...\n",
      "Created version '26' of model 'xgboost_model'.\n"
     ]
    },
    {
     "name": "stdout",
     "output_type": "stream",
     "text": [
      "Modelo: Decision Tree, Test Size: 0.3, Seed: 42\n",
      "MSE: 1054209920501.4044, R2: 0.7090054436900005, MAE: 418202.5879591836\n"
     ]
    },
    {
     "name": "stderr",
     "output_type": "stream",
     "text": [
      "Registered model 'decision_tree_model' already exists. Creating a new version of this model...\n",
      "Created version '28' of model 'decision_tree_model'.\n"
     ]
    },
    {
     "name": "stdout",
     "output_type": "stream",
     "text": [
      "Modelo: Linear Regression, Test Size: 0.3, Seed: 42\n",
      "MSE: 158036335165796.25, R2: -42.622918299380565, MAE: 996560.0153769052\n"
     ]
    },
    {
     "name": "stderr",
     "output_type": "stream",
     "text": [
      "Registered model 'linear_regression_model' already exists. Creating a new version of this model...\n",
      "Created version '28' of model 'linear_regression_model'.\n"
     ]
    },
    {
     "name": "stdout",
     "output_type": "stream",
     "text": [
      "Modelo: Random Forest, Test Size: 0.3, Seed: 42\n",
      "MSE: 571602823885.9476, R2: 0.8422199346757024, MAE: 344299.86669278913\n"
     ]
    },
    {
     "name": "stderr",
     "output_type": "stream",
     "text": [
      "Registered model 'random_forest_model' already exists. Creating a new version of this model...\n",
      "Created version '27' of model 'random_forest_model'.\n"
     ]
    },
    {
     "name": "stdout",
     "output_type": "stream",
     "text": [
      "Modelo: Gradient Boosting, Test Size: 0.3, Seed: 42\n",
      "MSE: 853788523613.7699, R2: 0.7643279504584899, MAE: 471990.8598665985\n"
     ]
    },
    {
     "name": "stderr",
     "output_type": "stream",
     "text": [
      "Registered model 'gradient_boosting_model' already exists. Creating a new version of this model...\n",
      "Created version '27' of model 'gradient_boosting_model'.\n"
     ]
    },
    {
     "name": "stdout",
     "output_type": "stream",
     "text": [
      "Modelo: XGBoost, Test Size: 0.3, Seed: 42\n",
      "MSE: 588103046511.4581, R2: 0.8376653626985738, MAE: 376057.7703492507\n"
     ]
    },
    {
     "name": "stderr",
     "output_type": "stream",
     "text": [
      "Registered model 'xgboost_model' already exists. Creating a new version of this model...\n",
      "Created version '27' of model 'xgboost_model'.\n"
     ]
    },
    {
     "name": "stdout",
     "output_type": "stream",
     "text": [
      "Modelo: Decision Tree, Test Size: 0.1, Seed: 47\n",
      "MSE: 733142029677.6044, R2: 0.8001423748708438, MAE: 358420.7369336735\n"
     ]
    },
    {
     "name": "stderr",
     "output_type": "stream",
     "text": [
      "Registered model 'decision_tree_model' already exists. Creating a new version of this model...\n",
      "Created version '29' of model 'decision_tree_model'.\n"
     ]
    },
    {
     "name": "stdout",
     "output_type": "stream",
     "text": [
      "Modelo: Linear Regression, Test Size: 0.1, Seed: 47\n",
      "MSE: 2495981184817.1206, R2: 0.3195849483844625, MAE: 917207.7588834051\n"
     ]
    },
    {
     "name": "stderr",
     "output_type": "stream",
     "text": [
      "Registered model 'linear_regression_model' already exists. Creating a new version of this model...\n",
      "Created version '29' of model 'linear_regression_model'.\n"
     ]
    },
    {
     "name": "stdout",
     "output_type": "stream",
     "text": [
      "Modelo: Random Forest, Test Size: 0.1, Seed: 47\n",
      "MSE: 524892181699.1084, R2: 0.8569121662150836, MAE: 343183.3890582143\n"
     ]
    },
    {
     "name": "stderr",
     "output_type": "stream",
     "text": [
      "Registered model 'random_forest_model' already exists. Creating a new version of this model...\n",
      "Created version '28' of model 'random_forest_model'.\n"
     ]
    },
    {
     "name": "stdout",
     "output_type": "stream",
     "text": [
      "Modelo: Gradient Boosting, Test Size: 0.1, Seed: 47\n",
      "MSE: 881595483721.6643, R2: 0.7596733339941215, MAE: 496099.308104567\n"
     ]
    },
    {
     "name": "stderr",
     "output_type": "stream",
     "text": [
      "Registered model 'gradient_boosting_model' already exists. Creating a new version of this model...\n",
      "Created version '28' of model 'gradient_boosting_model'.\n"
     ]
    },
    {
     "name": "stdout",
     "output_type": "stream",
     "text": [
      "Modelo: XGBoost, Test Size: 0.1, Seed: 47\n",
      "MSE: 607372395099.522, R2: 0.8344277104028837, MAE: 386236.6595285395\n"
     ]
    },
    {
     "name": "stderr",
     "output_type": "stream",
     "text": [
      "Registered model 'xgboost_model' already exists. Creating a new version of this model...\n",
      "Created version '28' of model 'xgboost_model'.\n"
     ]
    },
    {
     "name": "stdout",
     "output_type": "stream",
     "text": [
      "Modelo: Decision Tree, Test Size: 0.2, Seed: 47\n",
      "MSE: 844574911965.9696, R2: 0.7797718609172126, MAE: 376105.23448469385\n"
     ]
    },
    {
     "name": "stderr",
     "output_type": "stream",
     "text": [
      "Registered model 'decision_tree_model' already exists. Creating a new version of this model...\n",
      "Created version '30' of model 'decision_tree_model'.\n"
     ]
    },
    {
     "name": "stdout",
     "output_type": "stream",
     "text": [
      "Modelo: Linear Regression, Test Size: 0.2, Seed: 47\n",
      "MSE: 2568202622824.5166, R2: 0.33032526020028585, MAE: 917809.6937460116\n"
     ]
    },
    {
     "name": "stderr",
     "output_type": "stream",
     "text": [
      "Registered model 'linear_regression_model' already exists. Creating a new version of this model...\n",
      "Created version '30' of model 'linear_regression_model'.\n"
     ]
    },
    {
     "name": "stdout",
     "output_type": "stream",
     "text": [
      "Modelo: Random Forest, Test Size: 0.2, Seed: 47\n",
      "MSE: 575303664415.1403, R2: 0.8499860064198073, MAE: 345795.0988277551\n"
     ]
    },
    {
     "name": "stderr",
     "output_type": "stream",
     "text": [
      "Registered model 'random_forest_model' already exists. Creating a new version of this model...\n",
      "Created version '29' of model 'random_forest_model'.\n"
     ]
    },
    {
     "name": "stdout",
     "output_type": "stream",
     "text": [
      "Modelo: Gradient Boosting, Test Size: 0.2, Seed: 47\n",
      "MSE: 945576395819.85, R2: 0.753435098460034, MAE: 493743.12648267334\n"
     ]
    },
    {
     "name": "stderr",
     "output_type": "stream",
     "text": [
      "Registered model 'gradient_boosting_model' already exists. Creating a new version of this model...\n",
      "Created version '29' of model 'gradient_boosting_model'.\n"
     ]
    },
    {
     "name": "stdout",
     "output_type": "stream",
     "text": [
      "Modelo: XGBoost, Test Size: 0.2, Seed: 47\n",
      "MSE: 629278132883.3668, R2: 0.8359118294814103, MAE: 382576.7249178093\n"
     ]
    },
    {
     "name": "stderr",
     "output_type": "stream",
     "text": [
      "Registered model 'xgboost_model' already exists. Creating a new version of this model...\n",
      "Created version '29' of model 'xgboost_model'.\n"
     ]
    },
    {
     "name": "stdout",
     "output_type": "stream",
     "text": [
      "Modelo: Decision Tree, Test Size: 0.3, Seed: 47\n",
      "MSE: 952493946175.1445, R2: 0.745466232475294, MAE: 405923.1434591837\n"
     ]
    },
    {
     "name": "stderr",
     "output_type": "stream",
     "text": [
      "Registered model 'decision_tree_model' already exists. Creating a new version of this model...\n",
      "Created version '31' of model 'decision_tree_model'.\n"
     ]
    },
    {
     "name": "stdout",
     "output_type": "stream",
     "text": [
      "Modelo: Linear Regression, Test Size: 0.3, Seed: 47\n",
      "MSE: 2496044591784.3774, R2: 0.3329851214196373, MAE: 915461.5397872302\n"
     ]
    },
    {
     "name": "stderr",
     "output_type": "stream",
     "text": [
      "Registered model 'linear_regression_model' already exists. Creating a new version of this model...\n",
      "Created version '31' of model 'linear_regression_model'.\n"
     ]
    },
    {
     "name": "stdout",
     "output_type": "stream",
     "text": [
      "Modelo: Random Forest, Test Size: 0.3, Seed: 47\n",
      "MSE: 596437673109.0566, R2: 0.8406147055949879, MAE: 358219.7650202211\n"
     ]
    },
    {
     "name": "stderr",
     "output_type": "stream",
     "text": [
      "Registered model 'random_forest_model' already exists. Creating a new version of this model...\n",
      "Created version '30' of model 'random_forest_model'.\n"
     ]
    },
    {
     "name": "stdout",
     "output_type": "stream",
     "text": [
      "Modelo: Gradient Boosting, Test Size: 0.3, Seed: 47\n",
      "MSE: 892093959196.2308, R2: 0.7616068455531215, MAE: 485936.2467743653\n"
     ]
    },
    {
     "name": "stderr",
     "output_type": "stream",
     "text": [
      "Registered model 'gradient_boosting_model' already exists. Creating a new version of this model...\n",
      "Created version '30' of model 'gradient_boosting_model'.\n"
     ]
    },
    {
     "name": "stdout",
     "output_type": "stream",
     "text": [
      "Modelo: XGBoost, Test Size: 0.3, Seed: 47\n",
      "MSE: 692168224208.8716, R2: 0.8150327499967401, MAE: 394015.77263297193\n"
     ]
    },
    {
     "name": "stderr",
     "output_type": "stream",
     "text": [
      "Registered model 'xgboost_model' already exists. Creating a new version of this model...\n",
      "Created version '30' of model 'xgboost_model'.\n"
     ]
    },
    {
     "name": "stdout",
     "output_type": "stream",
     "text": [
      "Modelo: Decision Tree, Test Size: 0.1, Seed: 123\n",
      "MSE: 734886382805.2773, R2: 0.8182087518611222, MAE: 345320.0110918367\n"
     ]
    },
    {
     "name": "stderr",
     "output_type": "stream",
     "text": [
      "Registered model 'decision_tree_model' already exists. Creating a new version of this model...\n",
      "Created version '32' of model 'decision_tree_model'.\n"
     ]
    },
    {
     "name": "stdout",
     "output_type": "stream",
     "text": [
      "Modelo: Linear Regression, Test Size: 0.1, Seed: 123\n",
      "MSE: 220762129164389.8, R2: -53.61064994753689, MAE: 1202908.6741728361\n"
     ]
    },
    {
     "name": "stderr",
     "output_type": "stream",
     "text": [
      "Registered model 'linear_regression_model' already exists. Creating a new version of this model...\n",
      "Created version '32' of model 'linear_regression_model'.\n"
     ]
    },
    {
     "name": "stdout",
     "output_type": "stream",
     "text": [
      "Modelo: Random Forest, Test Size: 0.1, Seed: 123\n",
      "MSE: 442868568939.5728, R2: 0.8904461535922401, MAE: 314652.92124903057\n"
     ]
    },
    {
     "name": "stderr",
     "output_type": "stream",
     "text": [
      "Registered model 'random_forest_model' already exists. Creating a new version of this model...\n",
      "Created version '31' of model 'random_forest_model'.\n"
     ]
    },
    {
     "name": "stdout",
     "output_type": "stream",
     "text": [
      "Modelo: Gradient Boosting, Test Size: 0.1, Seed: 123\n",
      "MSE: 863552152979.3734, R2: 0.7863802794605161, MAE: 476542.71941303986\n"
     ]
    },
    {
     "name": "stderr",
     "output_type": "stream",
     "text": [
      "Registered model 'gradient_boosting_model' already exists. Creating a new version of this model...\n",
      "Created version '31' of model 'gradient_boosting_model'.\n"
     ]
    },
    {
     "name": "stdout",
     "output_type": "stream",
     "text": [
      "Modelo: XGBoost, Test Size: 0.1, Seed: 123\n",
      "MSE: 550207071814.4164, R2: 0.863893477059456, MAE: 375611.4812433036\n"
     ]
    },
    {
     "name": "stderr",
     "output_type": "stream",
     "text": [
      "Registered model 'xgboost_model' already exists. Creating a new version of this model...\n",
      "Created version '31' of model 'xgboost_model'.\n"
     ]
    },
    {
     "name": "stdout",
     "output_type": "stream",
     "text": [
      "Modelo: Decision Tree, Test Size: 0.2, Seed: 123\n",
      "MSE: 870421587535.2987, R2: 0.7667059447759692, MAE: 390590.8498239796\n"
     ]
    },
    {
     "name": "stderr",
     "output_type": "stream",
     "text": [
      "Registered model 'decision_tree_model' already exists. Creating a new version of this model...\n",
      "Created version '33' of model 'decision_tree_model'.\n"
     ]
    },
    {
     "name": "stdout",
     "output_type": "stream",
     "text": [
      "Modelo: Linear Regression, Test Size: 0.2, Seed: 123\n",
      "MSE: 284317706155509.3, R2: -75.20402755500736, MAE: 1117247.8268835822\n"
     ]
    },
    {
     "name": "stderr",
     "output_type": "stream",
     "text": [
      "Registered model 'linear_regression_model' already exists. Creating a new version of this model...\n",
      "Created version '33' of model 'linear_regression_model'.\n"
     ]
    },
    {
     "name": "stdout",
     "output_type": "stream",
     "text": [
      "Modelo: Random Forest, Test Size: 0.2, Seed: 123\n",
      "MSE: 521556933837.38885, R2: 0.8602101167209372, MAE: 337921.9740347194\n"
     ]
    },
    {
     "name": "stderr",
     "output_type": "stream",
     "text": [
      "Registered model 'random_forest_model' already exists. Creating a new version of this model...\n",
      "Created version '32' of model 'random_forest_model'.\n"
     ]
    },
    {
     "name": "stdout",
     "output_type": "stream",
     "text": [
      "Modelo: Gradient Boosting, Test Size: 0.2, Seed: 123\n",
      "MSE: 896667960499.8198, R2: 0.7596712814915327, MAE: 484357.4506445516\n"
     ]
    },
    {
     "name": "stderr",
     "output_type": "stream",
     "text": [
      "Registered model 'gradient_boosting_model' already exists. Creating a new version of this model...\n",
      "Created version '32' of model 'gradient_boosting_model'.\n"
     ]
    },
    {
     "name": "stdout",
     "output_type": "stream",
     "text": [
      "Modelo: XGBoost, Test Size: 0.2, Seed: 123\n",
      "MSE: 615934065670.2048, R2: 0.8349147608600651, MAE: 387472.49976610334\n"
     ]
    },
    {
     "name": "stderr",
     "output_type": "stream",
     "text": [
      "Registered model 'xgboost_model' already exists. Creating a new version of this model...\n",
      "Created version '32' of model 'xgboost_model'.\n"
     ]
    },
    {
     "name": "stdout",
     "output_type": "stream",
     "text": [
      "Modelo: Decision Tree, Test Size: 0.3, Seed: 123\n",
      "MSE: 923529811398.6324, R2: 0.7569166994450989, MAE: 407163.1649013605\n"
     ]
    },
    {
     "name": "stderr",
     "output_type": "stream",
     "text": [
      "Registered model 'decision_tree_model' already exists. Creating a new version of this model...\n",
      "Created version '34' of model 'decision_tree_model'.\n"
     ]
    },
    {
     "name": "stdout",
     "output_type": "stream",
     "text": [
      "Modelo: Linear Regression, Test Size: 0.3, Seed: 123\n",
      "MSE: 151352852065607.75, R2: -38.837751174255274, MAE: 1017715.461141149\n"
     ]
    },
    {
     "name": "stderr",
     "output_type": "stream",
     "text": [
      "Registered model 'linear_regression_model' already exists. Creating a new version of this model...\n",
      "Created version '34' of model 'linear_regression_model'.\n"
     ]
    },
    {
     "name": "stdout",
     "output_type": "stream",
     "text": [
      "Modelo: Random Forest, Test Size: 0.3, Seed: 123\n",
      "MSE: 560934000818.8547, R2: 0.8523559427864997, MAE: 354051.0513690986\n"
     ]
    },
    {
     "name": "stderr",
     "output_type": "stream",
     "text": [
      "Registered model 'random_forest_model' already exists. Creating a new version of this model...\n",
      "Created version '33' of model 'random_forest_model'.\n"
     ]
    },
    {
     "name": "stdout",
     "output_type": "stream",
     "text": [
      "Modelo: Gradient Boosting, Test Size: 0.3, Seed: 123\n",
      "MSE: 922498727862.6497, R2: 0.7571880920801617, MAE: 493347.57351917034\n"
     ]
    },
    {
     "name": "stderr",
     "output_type": "stream",
     "text": [
      "Registered model 'gradient_boosting_model' already exists. Creating a new version of this model...\n",
      "Created version '33' of model 'gradient_boosting_model'.\n"
     ]
    },
    {
     "name": "stdout",
     "output_type": "stream",
     "text": [
      "Modelo: XGBoost, Test Size: 0.3, Seed: 123\n",
      "MSE: 597322441521.3182, R2: 0.8427781011631683, MAE: 390276.3078306229\n"
     ]
    },
    {
     "name": "stderr",
     "output_type": "stream",
     "text": [
      "Registered model 'xgboost_model' already exists. Creating a new version of this model...\n",
      "Created version '33' of model 'xgboost_model'.\n"
     ]
    }
   ],
   "source": [
    "# para cada semente \n",
    "for seed in seeds:\n",
    "    # para cada tamanho de teste\n",
    "    for test_size in test_sizes:\n",
    "        # Dividir os dados em conjuntos de treino e teste\n",
    "        x_train, x_test, y_train, y_test = train_test_split(x_features, y_target, test_size=test_size, random_state=seed)\n",
    "\n",
    "        # Para cada modelo\n",
    "        for model_name, model in models.items():\n",
    "            # Criar o pipeline\n",
    "            pipeline = Pipeline(steps=[('preprocessor', preprocessor),\n",
    "                                       ('model', model)])\n",
    "\n",
    "            # Treinar o modelo\n",
    "            pipeline.fit(x_train, y_train)\n",
    "\n",
    "            # Fazer previsões\n",
    "            y_pred = pipeline.predict(x_test)\n",
    "\n",
    "            # Avaliar o modelo\n",
    "            mse = mean_squared_error(y_test, y_pred)\n",
    "            r2 = r2_score(y_test, y_pred)\n",
    "            mae = mean_absolute_error(y_test, y_pred)\n",
    "            \n",
    "            print(f\"Modelo: {model_name}, Test Size: {test_size}, Seed: {seed}\")\n",
    "            print(f\"MSE: {mse}, R2: {r2}, MAE: {mae}\")\n",
    "            \n",
    "            # Logar os resultados no MLflow\n",
    "            with mlflow.start_run():\n",
    "                mlflow.log_param(\"model_type\", model_name)\n",
    "                mlflow.log_param(\"test_size\", test_size)\n",
    "                mlflow.log_param(\"random_seed\", seed)\n",
    "                \n",
    "                # registrar métricas\n",
    "                mlflow.log_metric(\"mse\", mse)\n",
    "                mlflow.log_metric(\"r2\", r2)\n",
    "                mlflow.log_metric(\"mae\", mae)\n",
    "\n",
    "                # Logar o modelo\n",
    "                signature = infer_signature(x_test, y_pred)\n",
    "                \n",
    "                registered_model_name= model_name.lower().replace(\" \", \"_\") + \"_model\"\n",
    "                 \n",
    "                mlflow.sklearn.log_model(\n",
    "                    sk_model=pipeline,\n",
    "                    artifact_path=registered_model_name,\n",
    "                    signature=signature,\n",
    "                    registered_model_name= registered_model_name,\n",
    "                )\n",
    "                \n",
    "            mlflow.end_run()\n",
    "                "
   ]
  },
  {
   "cell_type": "code",
   "execution_count": null,
   "metadata": {},
   "outputs": [],
   "source": []
  }
 ],
 "metadata": {
  "kernelspec": {
   "display_name": "Python 3 (ipykernel)",
   "language": "python",
   "name": "python3"
  },
  "language_info": {
   "codemirror_mode": {
    "name": "ipython",
    "version": 3
   },
   "file_extension": ".py",
   "mimetype": "text/x-python",
   "name": "python",
   "nbconvert_exporter": "python",
   "pygments_lexer": "ipython3",
   "version": "3.10.17"
  }
 },
 "nbformat": 4,
 "nbformat_minor": 4
}
